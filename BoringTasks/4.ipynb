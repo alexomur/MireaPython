{
 "cells": [
  {
   "cell_type": "code",
   "id": "initial_id",
   "metadata": {
    "collapsed": true,
    "ExecuteTime": {
     "end_time": "2025-02-24T08:33:13.799146Z",
     "start_time": "2025-02-24T08:33:13.755720Z"
    }
   },
   "source": [
    "%load_ext pycodestyle_magic\n",
    "%pycodestyle_on"
   ],
   "outputs": [],
   "execution_count": 1
  },
  {
   "metadata": {
    "ExecuteTime": {
     "end_time": "2025-02-24T08:34:46.746037Z",
     "start_time": "2025-02-24T08:34:46.731724Z"
    }
   },
   "cell_type": "code",
   "source": [
    "# Самый популярный\n",
    "\n",
    "import math\n",
    "\n",
    "\n",
    "def f(n):\n",
    "    if n == 0:\n",
    "        return -0.65\n",
    "    fn1 = f(n-1)\n",
    "    return fn1/82 - fn1**2 - math.floor(fn1)**3\n",
    "\n",
    "\n",
    "def main(n):\n",
    "    return f(n)\n"
   ],
   "id": "4c49649083d587b6",
   "outputs": [
    {
     "name": "stderr",
     "output_type": "stream",
     "text": [
      "14:1: W391 blank line at end of file\n"
     ]
    }
   ],
   "execution_count": 7
  },
  {
   "metadata": {
    "ExecuteTime": {
     "end_time": "2025-02-24T08:38:19.407911Z",
     "start_time": "2025-02-24T08:38:19.393746Z"
    }
   },
   "cell_type": "code",
   "source": [
    "# Второй\n",
    "\n",
    "\n",
    "import math\n",
    "from functools import reduce\n",
    "\n",
    "\n",
    "def f(n):\n",
    "    return reduce(lambda prev, _:\n",
    "                  prev/82 - prev**2 - math.floor(prev)**3, range(n), -0.65)\n",
    "\n",
    "\n",
    "def main(n):\n",
    "    return f(n)\n"
   ],
   "id": "b340eb03e89ae9eb",
   "outputs": [
    {
     "name": "stderr",
     "output_type": "stream",
     "text": [
      "13:1: W391 blank line at end of file\n"
     ]
    }
   ],
   "execution_count": 11
  },
  {
   "metadata": {
    "ExecuteTime": {
     "end_time": "2025-02-24T08:42:31.556195Z",
     "start_time": "2025-02-24T08:42:31.539606Z"
    }
   },
   "cell_type": "code",
   "source": [
    "# Третье решение\n",
    "\n",
    "\n",
    "import math\n",
    "import itertools\n",
    "\n",
    "\n",
    "def main(n):\n",
    "    return list(itertools.accumulate(\n",
    "        range(n),\n",
    "        lambda prev, _: prev/82 - prev**2 - math.floor(prev)**3,\n",
    "        initial=-0.65\n",
    "    ))[-1]\n"
   ],
   "id": "41a96aeff38ed5c5",
   "outputs": [
    {
     "name": "stderr",
     "output_type": "stream",
     "text": [
      "12:1: W391 blank line at end of file\n"
     ]
    }
   ],
   "execution_count": 12
  },
  {
   "metadata": {
    "ExecuteTime": {
     "end_time": "2025-02-24T08:47:05.379341Z",
     "start_time": "2025-02-24T08:47:05.364460Z"
    }
   },
   "cell_type": "code",
   "source": [
    "# Пятое\n",
    "\n",
    "\n",
    "import math\n",
    "\n",
    "\n",
    "def main(n):\n",
    "    return (lambda f: f(f, n))(\n",
    "        lambda self, k: -0.65 if k == 0 else\n",
    "        (lambda prev: prev / 82 - prev ** 2 -\n",
    "         math.floor(prev) ** 3)(self(self, k - 1))\n",
    "    )\n"
   ],
   "id": "993b73006f6d9d5d",
   "outputs": [
    {
     "name": "stderr",
     "output_type": "stream",
     "text": [
      "11:1: W391 blank line at end of file\n"
     ]
    }
   ],
   "execution_count": 21
  },
  {
   "metadata": {
    "ExecuteTime": {
     "end_time": "2025-02-24T08:56:47.365240Z",
     "start_time": "2025-02-24T08:56:47.348089Z"
    }
   },
   "cell_type": "code",
   "source": "",
   "id": "39682843cc1b84c5",
   "outputs": [
    {
     "name": "stderr",
     "output_type": "stream",
     "text": [
      "19:1: W391 blank line at end of file\n"
     ]
    }
   ],
   "execution_count": 35
  },
  {
   "metadata": {
    "ExecuteTime": {
     "end_time": "2025-02-24T08:56:49.630630Z",
     "start_time": "2025-02-24T08:56:49.622776Z"
    }
   },
   "cell_type": "code",
   "source": [
    "for n in [4, 5, 3, 8, 1]:\n",
    "    print(f\"main({n}) = {main(n):.2e}\")"
   ],
   "id": "779ffb9b1517e658",
   "outputs": [
    {
     "name": "stderr",
     "output_type": "stream",
     "text": [
      "3:1: W391 blank line at end of file\n"
     ]
    },
    {
     "name": "stdout",
     "output_type": "stream",
     "text": [
      "main(4) = -7.91e-01\n",
      "main(5) = 3.65e-01\n",
      "main(3) = 8.95e-01\n",
      "main(8) = -9.52e-01\n",
      "main(1) = 5.70e-01\n"
     ]
    }
   ],
   "execution_count": 36
  }
 ],
 "metadata": {
  "kernelspec": {
   "display_name": "Python 3",
   "language": "python",
   "name": "python3"
  },
  "language_info": {
   "codemirror_mode": {
    "name": "ipython",
    "version": 2
   },
   "file_extension": ".py",
   "mimetype": "text/x-python",
   "name": "python",
   "nbconvert_exporter": "python",
   "pygments_lexer": "ipython2",
   "version": "2.7.6"
  }
 },
 "nbformat": 4,
 "nbformat_minor": 5
}
