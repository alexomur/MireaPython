{
 "cells": [
  {
   "metadata": {
    "ExecuteTime": {
     "end_time": "2025-03-10T11:47:28.115739Z",
     "start_time": "2025-03-10T11:47:28.070096Z"
    }
   },
   "cell_type": "code",
   "source": [
    "%load_ext pycodestyle_magic\n",
    "%pycodestyle_on"
   ],
   "id": "8c7bbdfa101faed8",
   "outputs": [],
   "execution_count": 14
  },
  {
   "cell_type": "code",
   "id": "initial_id",
   "metadata": {
    "collapsed": true,
    "ExecuteTime": {
     "end_time": "2025-03-10T11:33:56.120220Z",
     "start_time": "2025-03-10T11:33:56.112960Z"
    }
   },
   "source": [
    "# Самый популярный\n",
    "\n",
    "from typing import Set\n",
    "from math import ceil, floor\n",
    "\n",
    "\n",
    "def main(Phi: Set[int]) -> int:\n",
    "    Ksi = {k for k in Phi if k <= -77 or k >= 36}\n",
    "    Psi = {floor(ps/3) - ceil(ps/5) for ps in Phi if ps < -74 or ps >= 22}\n",
    "    T = {p*j for p in Psi for j in Ksi if p <= j}\n",
    "    E = Ksi | T\n",
    "    return len(T) * len(E) - 6 * sum(E)\n"
   ],
   "outputs": [
    {
     "name": "stderr",
     "output_type": "stream",
     "text": [
      "12:1: W391 blank line at end of file\n"
     ]
    }
   ],
   "execution_count": 13
  },
  {
   "metadata": {
    "ExecuteTime": {
     "end_time": "2025-03-10T11:47:40.366200Z",
     "start_time": "2025-03-10T11:47:40.359406Z"
    }
   },
   "cell_type": "code",
   "source": [
    "from typing import Set\n",
    "from math import ceil, floor\n",
    "\n",
    "\n",
    "def main(Phi: Set[int]) -> int:\n",
    "    Ksi = set(filter(lambda phi: phi <= -77 or phi >= 36, Phi))\n",
    "    Psi = set(map(lambda phi: floor(phi / 3) - ceil(phi / 5),\n",
    "                  filter(lambda phi: phi < -74 or phi > 22, Phi)))\n",
    "\n",
    "    T = set(map(lambda pair: pair[0] * pair[1],\n",
    "                filter(lambda pair: pair[0] <= pair[1],\n",
    "                       ((p, k) for p in Psi for k in Ksi))))\n",
    "\n",
    "    E = Ksi | T\n",
    "    return len(T) * len(E) - 6 * sum(E)\n"
   ],
   "id": "2293ddf22f1b1cf7",
   "outputs": [
    {
     "name": "stderr",
     "output_type": "stream",
     "text": [
      "17:1: W391 blank line at end of file\n"
     ]
    }
   ],
   "execution_count": 17
  },
  {
   "metadata": {
    "ExecuteTime": {
     "end_time": "2025-03-10T11:47:32.096904Z",
     "start_time": "2025-03-10T11:47:32.090117Z"
    }
   },
   "cell_type": "code",
   "source": [
    "print(\"aaa\")\n",
    "for A in [{33, -92, 9, -78, -12, 85, -5, -4, 61, -1}, {66, 35, 40, 79, -79, -13, 21, -40, 57, -35}]:\n",
    "    print(f\"main({A}) = {main(A)})\")"
   ],
   "id": "514ea1aa7f8306ae",
   "outputs": [
    {
     "name": "stderr",
     "output_type": "stream",
     "text": [
      "2:80: E501 line too long (100 > 79 characters)\n",
      "4:1: W391 blank line at end of file\n"
     ]
    },
    {
     "name": "stdout",
     "output_type": "stream",
     "text": [
      "aaa\n",
      "main({33, -92, 9, -78, -12, 85, -5, -4, 61, -1}) = 2036)\n",
      "main({66, 35, 40, 79, -79, -13, 21, -40, 57, -35}) = -32226)\n"
     ]
    }
   ],
   "execution_count": 16
  }
 ],
 "metadata": {
  "kernelspec": {
   "display_name": "Python 3",
   "language": "python",
   "name": "python3"
  },
  "language_info": {
   "codemirror_mode": {
    "name": "ipython",
    "version": 2
   },
   "file_extension": ".py",
   "mimetype": "text/x-python",
   "name": "python",
   "nbconvert_exporter": "python",
   "pygments_lexer": "ipython2",
   "version": "2.7.6"
  }
 },
 "nbformat": 4,
 "nbformat_minor": 5
}
