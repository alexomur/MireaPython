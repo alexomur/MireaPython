{
 "cells": [
  {
   "cell_type": "code",
   "id": "initial_id",
   "metadata": {
    "collapsed": true,
    "ExecuteTime": {
     "end_time": "2025-04-21T08:00:45.227745Z",
     "start_time": "2025-04-21T08:00:45.149951Z"
    }
   },
   "source": [
    "%load_ext pycodestyle_magic\n",
    "%pycodestyle_on"
   ],
   "outputs": [],
   "execution_count": 1
  },
  {
   "metadata": {
    "ExecuteTime": {
     "end_time": "2025-04-21T08:09:39.445696Z",
     "start_time": "2025-04-21T08:09:39.438831Z"
    }
   },
   "cell_type": "code",
   "source": [
    "def main(b, m, a, p) -> float:\n",
    "    s0 = 0\n",
    "    for c in range(1, a+1):\n",
    "        s1 = 0\n",
    "        for i in range(1, m+1):\n",
    "            s2 = 0\n",
    "            for j in range(1, b+1):\n",
    "                s2 += 22 * (c**2 / 35 + 38 * i + 13 * j**3)**4 + 76 * p\n",
    "            s1 += s2\n",
    "        s0 += s1\n",
    "    return s0\n"
   ],
   "id": "a330dcc9ff1b24f2",
   "outputs": [
    {
     "name": "stderr",
     "output_type": "stream",
     "text": [
      "12:1: W391 blank line at end of file\n"
     ]
    }
   ],
   "execution_count": 11
  },
  {
   "metadata": {
    "ExecuteTime": {
     "end_time": "2025-04-21T08:18:47.198178Z",
     "start_time": "2025-04-21T08:18:47.187756Z"
    }
   },
   "cell_type": "code",
   "source": [
    "import math\n",
    "\n",
    "\n",
    "def _sum_terms(b, m, a, p, c=1, i=1, j=1) -> float:\n",
    "    if c > a:\n",
    "        return 0.0\n",
    "    if i > m:\n",
    "        return _sum_terms(b, m, a, p, c + 1, 1, 1)\n",
    "    if j > b:\n",
    "        return _sum_terms(b, m, a, p, c, i + 1, 1)\n",
    "    term = 22 * (c ** 2 / 35 + 38 * i + 13 * j ** 3) ** 4 + 76 * p\n",
    "    return term + _sum_terms(b, m, a, p, c, i, j + 1)\n",
    "\n",
    "\n",
    "def main(b: int, m: int, a: int, p: float) -> float:\n",
    "    return _sum_terms(b, m, a, p)\n"
   ],
   "id": "74d0a693e6f05076",
   "outputs": [
    {
     "name": "stderr",
     "output_type": "stream",
     "text": [
      "18:1: W391 blank line at end of file\n"
     ]
    }
   ],
   "execution_count": 18
  },
  {
   "metadata": {
    "ExecuteTime": {
     "end_time": "2025-04-21T08:19:53.617669Z",
     "start_time": "2025-04-21T08:19:53.603354Z"
    }
   },
   "cell_type": "code",
   "source": [
    "import math\n",
    "\n",
    "\n",
    "def main(b: int, m: int, a: int, p: float) -> float:\n",
    "    total = 0.0\n",
    "    c = 1\n",
    "    while c <= a:\n",
    "        i = 1\n",
    "        while i <= m:\n",
    "            j = 1\n",
    "            while j <= b:\n",
    "                total += 22 * (c**2 / 35 + 38 * i + 13 * j**3) ** 4 + 76 * p\n",
    "                j += 1\n",
    "            i += 1\n",
    "        c += 1\n",
    "    return total\n"
   ],
   "id": "b89014283a7c0733",
   "outputs": [
    {
     "name": "stderr",
     "output_type": "stream",
     "text": [
      "18:1: W391 blank line at end of file\n"
     ]
    }
   ],
   "execution_count": 19
  },
  {
   "metadata": {
    "ExecuteTime": {
     "end_time": "2025-04-21T08:09:41.180630Z",
     "start_time": "2025-04-21T08:09:41.173910Z"
    }
   },
   "cell_type": "code",
   "source": [
    "for b, m, a, p in [[3, 2, 4, -0.62], [3, 6, 3, -0.08], [7, 4, 8, 0.31], [3, 3, 6, 0.21], [2, 3, 5, 0.55]]:\n",
    "    print(f\"main({b}, {m}, {a}, {p}) = {main(b, m, a, p):.2e}\")"
   ],
   "id": "63b75bf8cd015dc",
   "outputs": [
    {
     "name": "stderr",
     "output_type": "stream",
     "text": [
      "1:80: E501 line too long (106 > 79 characters)\n",
      "3:1: W391 blank line at end of file\n"
     ]
    },
    {
     "name": "stdout",
     "output_type": "stream",
     "text": [
      "main(3, 2, 4, -0.62) = 5.09e+12\n",
      "main(3, 6, 3, -0.08) = 2.63e+13\n",
      "main(7, 4, 8, 0.31) = 3.60e+17\n",
      "main(3, 3, 6, 0.21) = 1.42e+13\n",
      "main(2, 3, 5, 0.55) = 4.48e+11\n"
     ]
    }
   ],
   "execution_count": 12
  }
 ],
 "metadata": {
  "kernelspec": {
   "display_name": "Python 3",
   "language": "python",
   "name": "python3"
  },
  "language_info": {
   "codemirror_mode": {
    "name": "ipython",
    "version": 2
   },
   "file_extension": ".py",
   "mimetype": "text/x-python",
   "name": "python",
   "nbconvert_exporter": "python",
   "pygments_lexer": "ipython2",
   "version": "2.7.6"
  }
 },
 "nbformat": 4,
 "nbformat_minor": 5
}
