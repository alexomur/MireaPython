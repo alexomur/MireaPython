{
 "cells": [
  {
   "cell_type": "code",
   "id": "initial_id",
   "metadata": {
    "collapsed": true,
    "ExecuteTime": {
     "end_time": "2025-04-21T07:41:39.944770Z",
     "start_time": "2025-04-21T07:41:39.719458Z"
    }
   },
   "source": [
    "%load_ext pycodestyle_magic\n",
    "%pycodestyle_on"
   ],
   "outputs": [],
   "execution_count": 1
  },
  {
   "metadata": {
    "ExecuteTime": {
     "end_time": "2025-04-21T07:43:38.232286Z",
     "start_time": "2025-04-21T07:43:38.224678Z"
    }
   },
   "cell_type": "code",
   "source": [
    "from math import tan, sqrt, cos\n",
    "\n",
    "\n",
    "def main(z: float) -> float:\n",
    "    return (tan(1 + z + z**3)**7 +\n",
    "            sqrt((56 * cos(z)**7 + 96 * z**5)/(41 * z / 83)))\n"
   ],
   "id": "29b572efe5d779b",
   "outputs": [
    {
     "name": "stderr",
     "output_type": "stream",
     "text": [
      "8:1: W391 blank line at end of file\n"
     ]
    }
   ],
   "execution_count": 4
  },
  {
   "metadata": {
    "ExecuteTime": {
     "end_time": "2025-04-21T07:59:32.314913Z",
     "start_time": "2025-04-21T07:59:32.306465Z"
    }
   },
   "cell_type": "code",
   "source": [
    "import math\n",
    "from functools import reduce\n",
    "\n",
    "\n",
    "def add(x, y):\n",
    "    return x + y\n",
    "\n",
    "\n",
    "def main(z: float) -> float:\n",
    "    parts = [\n",
    "        math.tan(1 + z + z**3) ** 7,\n",
    "        math.sqrt((56 * math.cos(z) ** 7 + 96 * z**5) / (41 * z / 83))\n",
    "    ]\n",
    "    return reduce(add, parts)\n"
   ],
   "id": "42ec01bf65c0b158",
   "outputs": [
    {
     "name": "stderr",
     "output_type": "stream",
     "text": [
      "16:1: W391 blank line at end of file\n"
     ]
    }
   ],
   "execution_count": 14
  },
  {
   "metadata": {
    "ExecuteTime": {
     "end_time": "2025-04-21T07:53:40.342919Z",
     "start_time": "2025-04-21T07:53:40.336675Z"
    }
   },
   "cell_type": "code",
   "source": [
    "for i in [0.07, 0.56, -0.93, 0.34, -0.8]:\n",
    "    print(f\"main({i}) = {main(i):.2e}\")"
   ],
   "id": "7a5ca0ea7a92e622",
   "outputs": [
    {
     "name": "stderr",
     "output_type": "stream",
     "text": [
      "3:1: W391 blank line at end of file\n"
     ]
    },
    {
     "name": "stdout",
     "output_type": "stream",
     "text": [
      "main(0.07) = 1.08e+02\n",
      "main(0.56) = -2.84e+05\n",
      "main(-0.93) = 1.14e+01\n",
      "main(0.34) = 9.72e+04\n",
      "main(-0.8) = 8.26e+00\n"
     ]
    }
   ],
   "execution_count": 13
  }
 ],
 "metadata": {
  "kernelspec": {
   "display_name": "Python 3",
   "language": "python",
   "name": "python3"
  },
  "language_info": {
   "codemirror_mode": {
    "name": "ipython",
    "version": 2
   },
   "file_extension": ".py",
   "mimetype": "text/x-python",
   "name": "python",
   "nbconvert_exporter": "python",
   "pygments_lexer": "ipython2",
   "version": "2.7.6"
  }
 },
 "nbformat": 4,
 "nbformat_minor": 5
}
