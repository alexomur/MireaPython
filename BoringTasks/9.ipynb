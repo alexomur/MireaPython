{
 "cells": [
  {
   "cell_type": "code",
   "id": "initial_id",
   "metadata": {
    "collapsed": true,
    "ExecuteTime": {
     "end_time": "2025-04-21T08:43:40.111652Z",
     "start_time": "2025-04-21T08:43:40.078398Z"
    }
   },
   "source": [
    "%load_ext pycodestyle_magic\n",
    "%pycodestyle_on"
   ],
   "outputs": [],
   "execution_count": 2
  },
  {
   "metadata": {
    "ExecuteTime": {
     "end_time": "2025-03-31T10:04:24.316723Z",
     "start_time": "2025-03-31T10:04:24.310917Z"
    }
   },
   "cell_type": "code",
   "source": [
    "# Самый популярный способ\n",
    "\n",
    "import re\n",
    "\n",
    "\n",
    "def main(s):\n",
    "    pattern = r\"do\\s+(-?\\d+)\\s*=:\\s*'([^']+)'\\s*end\"\n",
    "    matches = re.findall(pattern, s)\n",
    "    return [(text, int(num)) for num, text in matches]\n"
   ],
   "id": "725bdb294a2c0678",
   "outputs": [
    {
     "name": "stderr",
     "output_type": "stream",
     "text": [
      "9:1: W391 blank line at end of file\n"
     ]
    }
   ],
   "execution_count": 10
  },
  {
   "metadata": {
    "ExecuteTime": {
     "end_time": "2025-04-21T08:43:41.884954Z",
     "start_time": "2025-04-21T08:43:41.873031Z"
    }
   },
   "cell_type": "code",
   "source": [
    "    from typing import List, Tuple\n",
    "    \n",
    "    \n",
    "    def main(s: str) -> List[Tuple[str, int]]:\n",
    "        result: List[Tuple[str, int]] = []\n",
    "        idx = 0\n",
    "        length = len(s)\n",
    "        while True:\n",
    "            # найти следующий \"do\"\n",
    "            idx_do = s.find(\"do\", idx)\n",
    "            if idx_do == -1:\n",
    "                break\n",
    "            # перейти к символу после \"do\"\n",
    "            j = idx_do + 2\n",
    "            # пропустить пробелы\n",
    "            while j < length and s[j].isspace():\n",
    "                j += 1\n",
    "            # разобрать знак числа\n",
    "            sign = 1\n",
    "            if j < length and s[j] == \"-\":\n",
    "                sign = -1\n",
    "                j += 1\n",
    "            # разобрать само число\n",
    "            start_num = j\n",
    "            while j < length and s[j].isdigit():\n",
    "                j += 1\n",
    "            num = sign * int(s[start_num:j])\n",
    "            # найти границы строки в кавычках\n",
    "            q1 = s.find(\"'\", j)\n",
    "            if q1 == -1:\n",
    "                break\n",
    "            q2 = s.find(\"'\", q1 + 1)\n",
    "            if q2 == -1:\n",
    "                break\n",
    "            text = s[q1 + 1: q2]\n",
    "            result.append((text, num))\n",
    "            # продолжить поиск после окончания текущей записи\n",
    "            idx = q2 + 1\n",
    "        return result\n"
   ],
   "id": "b79e063c982ad858",
   "outputs": [
    {
     "name": "stderr",
     "output_type": "stream",
     "text": [
      "41:1: W391 blank line at end of file\n"
     ]
    }
   ],
   "execution_count": 3
  },
  {
   "metadata": {
    "ExecuteTime": {
     "end_time": "2025-03-31T10:08:04.948657Z",
     "start_time": "2025-03-31T10:08:04.942678Z"
    }
   },
   "cell_type": "code",
   "source": [
    "if __name__ == '__main__':\n",
    "    s1 = \"{do -959 =: 'orusat' end do -9325 =: 'inedte' end do -5019 =: 'cesoin' end do -4746 =: 'teabies'end }\"\n",
    "    print(main(s1))\n",
    "\n",
    "    s2 = \"{ do 3125 =: 'labe' end do 7311 =: 'reatge_295' end }\"\n",
    "    print(main(s2))"
   ],
   "id": "21039a3f5d5258ee",
   "outputs": [
    {
     "name": "stderr",
     "output_type": "stream",
     "text": [
      "2:80: E501 line too long (112 > 79 characters)\n",
      "7:1: W391 blank line at end of file\n"
     ]
    },
    {
     "name": "stdout",
     "output_type": "stream",
     "text": [
      "[('orusat', -959), ('inedte', -9325), ('cesoin', -5019), ('teabies', -4746)]\n",
      "[('labe', 3125), ('reatge_295', 7311)]\n"
     ]
    }
   ],
   "execution_count": 16
  }
 ],
 "metadata": {
  "kernelspec": {
   "display_name": "Python 3",
   "language": "python",
   "name": "python3"
  },
  "language_info": {
   "codemirror_mode": {
    "name": "ipython",
    "version": 2
   },
   "file_extension": ".py",
   "mimetype": "text/x-python",
   "name": "python",
   "nbconvert_exporter": "python",
   "pygments_lexer": "ipython2",
   "version": "2.7.6"
  }
 },
 "nbformat": 4,
 "nbformat_minor": 5
}
