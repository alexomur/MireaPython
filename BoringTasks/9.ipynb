{
 "cells": [
  {
   "cell_type": "code",
   "id": "initial_id",
   "metadata": {
    "collapsed": true,
    "ExecuteTime": {
     "end_time": "2025-03-31T10:01:59.248939Z",
     "start_time": "2025-03-31T10:01:59.142733Z"
    }
   },
   "source": [
    "%load_ext pycodestyle_magic\n",
    "%pycodestyle_on"
   ],
   "outputs": [],
   "execution_count": 1
  },
  {
   "metadata": {
    "ExecuteTime": {
     "end_time": "2025-03-31T10:04:24.316723Z",
     "start_time": "2025-03-31T10:04:24.310917Z"
    }
   },
   "cell_type": "code",
   "source": [
    "# Самый популярный способ\n",
    "\n",
    "import re\n",
    "\n",
    "\n",
    "def main(s):\n",
    "    pattern = r\"do\\s+(-?\\d+)\\s*=:\\s*'([^']+)'\\s*end\"\n",
    "    matches = re.findall(pattern, s)\n",
    "    return [(text, int(num)) for num, text in matches]\n"
   ],
   "id": "725bdb294a2c0678",
   "outputs": [
    {
     "name": "stderr",
     "output_type": "stream",
     "text": [
      "9:1: W391 blank line at end of file\n"
     ]
    }
   ],
   "execution_count": 10
  },
  {
   "metadata": {
    "ExecuteTime": {
     "end_time": "2025-03-31T10:08:01.145438Z",
     "start_time": "2025-03-31T10:08:01.137554Z"
    }
   },
   "cell_type": "code",
   "source": [
    "def main(s):\n",
    "    # Убираем внешние фигурные скобки и пробелы\n",
    "    s = s.strip()[1:-1].strip() \\\n",
    "        if s.startswith(\"{\") and s.endswith(\"}\") else s.strip()\n",
    "    result = []\n",
    "\n",
    "    # Разбиваем по ключевому слову \"do\" – первый элемент может быть пустым\n",
    "    for segment in s.split(\"do\"):\n",
    "        segment = segment.strip()\n",
    "        if not segment:\n",
    "            continue\n",
    "        # Берём только часть до первого \"end\"\n",
    "        segment = segment.split(\"end\", 1)[0].strip()\n",
    "        # Разбиваем по разделителю \"=:\"\n",
    "        parts = segment.split(\"=:\", 1)\n",
    "        if len(parts) != 2:\n",
    "            continue\n",
    "        num_str, text_part = parts[0].strip(), parts[1].strip()\n",
    "        try:\n",
    "            num = int(num_str)\n",
    "        except ValueError:\n",
    "            continue\n",
    "        # Извлекаем текст, заключённый в одинарные кавычки\n",
    "        if text_part.startswith(\"'\") and \"'\" in text_part[1:]:\n",
    "            text = text_part.split(\"'\", 2)[1]\n",
    "        else:\n",
    "            continue\n",
    "        result.append((text, num))\n",
    "    return result\n"
   ],
   "id": "b79e063c982ad858",
   "outputs": [
    {
     "name": "stderr",
     "output_type": "stream",
     "text": [
      "32:1: W391 blank line at end of file\n"
     ]
    }
   ],
   "execution_count": 15
  },
  {
   "metadata": {
    "ExecuteTime": {
     "end_time": "2025-03-31T10:08:04.948657Z",
     "start_time": "2025-03-31T10:08:04.942678Z"
    }
   },
   "cell_type": "code",
   "source": [
    "if __name__ == '__main__':\n",
    "    s1 = \"{do -959 =: 'orusat' end do -9325 =: 'inedte' end do -5019 =: 'cesoin' end do -4746 =: 'teabies'end }\"\n",
    "    print(main(s1))\n",
    "\n",
    "    s2 = \"{ do 3125 =: 'labe' end do 7311 =: 'reatge_295' end }\"\n",
    "    print(main(s2))"
   ],
   "id": "21039a3f5d5258ee",
   "outputs": [
    {
     "name": "stderr",
     "output_type": "stream",
     "text": [
      "2:80: E501 line too long (112 > 79 characters)\n",
      "7:1: W391 blank line at end of file\n"
     ]
    },
    {
     "name": "stdout",
     "output_type": "stream",
     "text": [
      "[('orusat', -959), ('inedte', -9325), ('cesoin', -5019), ('teabies', -4746)]\n",
      "[('labe', 3125), ('reatge_295', 7311)]\n"
     ]
    }
   ],
   "execution_count": 16
  }
 ],
 "metadata": {
  "kernelspec": {
   "display_name": "Python 3",
   "language": "python",
   "name": "python3"
  },
  "language_info": {
   "codemirror_mode": {
    "name": "ipython",
    "version": 2
   },
   "file_extension": ".py",
   "mimetype": "text/x-python",
   "name": "python",
   "nbconvert_exporter": "python",
   "pygments_lexer": "ipython2",
   "version": "2.7.6"
  }
 },
 "nbformat": 4,
 "nbformat_minor": 5
}
