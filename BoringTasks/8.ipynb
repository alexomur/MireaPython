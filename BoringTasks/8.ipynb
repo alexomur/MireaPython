{
 "cells": [
  {
   "cell_type": "code",
   "id": "initial_id",
   "metadata": {
    "collapsed": true,
    "ExecuteTime": {
     "end_time": "2025-03-24T08:26:02.859083Z",
     "start_time": "2025-03-24T08:26:02.832399Z"
    }
   },
   "source": [
    "%load_ext pycodestyle_magic\n",
    "%pycodestyle_on"
   ],
   "outputs": [],
   "execution_count": 1
  },
  {
   "metadata": {
    "ExecuteTime": {
     "end_time": "2025-03-24T08:34:45.609577Z",
     "start_time": "2025-03-24T08:34:45.601751Z"
    }
   },
   "cell_type": "code",
   "source": [
    "# Второе по популярности\n",
    "\n",
    "def main(d: tuple[int, int, int, int]) -> hex:\n",
    "    d1 = d[0]\n",
    "    d3 = d[1]\n",
    "    d4 = d[2]\n",
    "    d5 = d[3]\n",
    "\n",
    "    total = 0\n",
    "    total |= d1 << 0\n",
    "    total |= d3 << 9\n",
    "    total |= d4 << 15\n",
    "    total |= d5 << 19\n",
    "\n",
    "    return hex(total)\n"
   ],
   "id": "46634bc3746be4b9",
   "outputs": [
    {
     "name": "stderr",
     "output_type": "stream",
     "text": [
      "17:1: W391 blank line at end of file\n"
     ]
    }
   ],
   "execution_count": 13
  },
  {
   "metadata": {
    "ExecuteTime": {
     "end_time": "2025-03-24T08:39:31.803586Z",
     "start_time": "2025-03-24T08:39:31.796732Z"
    }
   },
   "cell_type": "code",
   "source": [
    "def main(d: tuple[int, int, int, int]) -> str:\n",
    "    d1, d3, d4, d5 = d\n",
    "    # Используем арифметику для смещения бит:\n",
    "    # d1 остается на месте,\n",
    "    # d3 умножается на 2**9 (это аналог d3 << 9),\n",
    "    # d4 умножается на 2**15 (аналог d4 << 15),\n",
    "    # d5 умножается на 2**19 (аналог d5 << 19).\n",
    "    total = d1 + d3 * (2 ** 9) + d4 * (2 ** 15) + d5 * (2 ** 19)\n",
    "    return hex(total)\n"
   ],
   "id": "df0f989a6ebf9760",
   "outputs": [
    {
     "name": "stderr",
     "output_type": "stream",
     "text": [
      "11:1: W391 blank line at end of file\n"
     ]
    }
   ],
   "execution_count": 16
  },
  {
   "metadata": {
    "ExecuteTime": {
     "end_time": "2025-03-24T08:39:33.660238Z",
     "start_time": "2025-03-24T08:39:33.653481Z"
    }
   },
   "cell_type": "code",
   "source": [
    "for D in [(5, 16, 7, 27), (1, 9, 6, 216), (3, 49, 10, 91), (6, 5, 10, 34)]:\n",
    "    print(f\"main({D}) = {main(D)}\")"
   ],
   "id": "605f589449a4cfeb",
   "outputs": [
    {
     "name": "stderr",
     "output_type": "stream",
     "text": [
      "3:1: W391 blank line at end of file\n"
     ]
    },
    {
     "name": "stdout",
     "output_type": "stream",
     "text": [
      "main((5, 16, 7, 27)) = 0xdba005\n",
      "main((1, 9, 6, 216)) = 0x6c31201\n",
      "main((3, 49, 10, 91)) = 0x2dd6203\n",
      "main((6, 5, 10, 34)) = 0x1150a06\n"
     ]
    }
   ],
   "execution_count": 17
  }
 ],
 "metadata": {
  "kernelspec": {
   "display_name": "Python 3",
   "language": "python",
   "name": "python3"
  },
  "language_info": {
   "codemirror_mode": {
    "name": "ipython",
    "version": 2
   },
   "file_extension": ".py",
   "mimetype": "text/x-python",
   "name": "python",
   "nbconvert_exporter": "python",
   "pygments_lexer": "ipython2",
   "version": "2.7.6"
  }
 },
 "nbformat": 4,
 "nbformat_minor": 5
}
