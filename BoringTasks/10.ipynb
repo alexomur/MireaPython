{
 "cells": [
  {
   "cell_type": "code",
   "id": "initial_id",
   "metadata": {
    "collapsed": true,
    "ExecuteTime": {
     "end_time": "2025-04-07T08:17:51.183853Z",
     "start_time": "2025-04-07T08:17:51.151750Z"
    }
   },
   "source": [
    "%load_ext pycodestyle_magic\n",
    "%pycodestyle_on"
   ],
   "outputs": [],
   "execution_count": 17
  },
  {
   "metadata": {
    "ExecuteTime": {
     "end_time": "2025-04-07T08:22:24.500938Z",
     "start_time": "2025-04-07T08:22:24.477286Z"
    }
   },
   "cell_type": "code",
   "source": [
    "# Сложность 17\n",
    "\n",
    "from typing import List\n",
    "\n",
    "\n",
    "def clear_row(data: List[str]) -> List[str]:\n",
    "    cleared_data: List[str] = []\n",
    "\n",
    "    for d in data:\n",
    "        if d is None:\n",
    "            continue\n",
    "        if d in cleared_data:\n",
    "            continue\n",
    "        cleared_data.append(d)\n",
    "\n",
    "    return cleared_data\n",
    "\n",
    "\n",
    "def clear_columns(data: List[List[str]]) -> List[List[str]]:\n",
    "    cleared_data: List[List[str]] = []\n",
    "\n",
    "    for d in data:\n",
    "        if d is None or len(d) == 0:\n",
    "            continue\n",
    "        if (cleared := clear_row(d)) in cleared_data:\n",
    "            continue\n",
    "        cleared_data.append(cleared)\n",
    "\n",
    "    return cleared_data\n",
    "\n",
    "\n",
    "def normalize(data: List[str]) -> List[str]:\n",
    "    normalized_data: List[str] = []\n",
    "\n",
    "    for d in data:\n",
    "        new_d: str = None\n",
    "        sub_d: str = None\n",
    "        if d is None:\n",
    "            continue\n",
    "\n",
    "        if len(arr := d.split(\"@\")) == 2:\n",
    "            new_d = arr[0]\n",
    "\n",
    "        if len(arr := d.split()[-1].split(\":\")) == 2:\n",
    "            new_d = arr[0]\n",
    "            sub_d = str(round(float(arr[1]), 2))\n",
    "\n",
    "        if new_d not in normalized_data:\n",
    "            normalized_data.append(new_d)\n",
    "        if sub_d not in normalized_data:\n",
    "            normalized_data.append(sub_d)\n",
    "\n",
    "    return normalized_data\n",
    "\n",
    "\n",
    "def main(data: List[List[str]]) -> List[List[str]]:\n",
    "    new_data: List[List[str]] = []\n",
    "\n",
    "    for d in data:\n",
    "        new_data.append(normalize(d))\n",
    "\n",
    "    return clear_columns(new_data)\n"
   ],
   "id": "4baf89c2fe6e490d",
   "outputs": [
    {
     "name": "stderr",
     "output_type": "stream",
     "text": [
      "3:1: E302 expected 2 blank lines, found 1\n",
      "22:1: E302 expected 2 blank lines, found 1\n",
      "25:80: E501 line too long (100 > 79 characters)\n",
      "48:1: E302 expected 2 blank lines, found 1\n",
      "63:1: E302 expected 2 blank lines, found 1\n",
      "86:1: E305 expected 2 blank lines after class or function definition, found 1\n",
      "88:80: E501 line too long (85 > 79 characters)\n",
      "89:80: E501 line too long (82 > 79 characters)\n",
      "92:80: E501 line too long (84 > 79 characters)\n",
      "99:1: W391 blank line at end of file\n"
     ]
    },
    {
     "name": "stdout",
     "output_type": "stream",
     "text": [
      "evgenij74\tРудиди\t0.61\n",
      "evgenij85\tШадов\t0.88\n",
      "artur15\tДонак\t0.58\n",
      "al_bert69\tБетеший\t0.78\n"
     ]
    }
   ],
   "execution_count": 20
  },
  {
   "metadata": {
    "ExecuteTime": {
     "end_time": "2025-04-07T08:33:09.377097Z",
     "start_time": "2025-04-07T08:33:09.365489Z"
    }
   },
   "cell_type": "code",
   "source": [
    "# Первое\n",
    "\n",
    "import re\n",
    "from typing import List, Optional\n",
    "\n",
    "\n",
    "def transform_cell(cell: Optional[str]) -> List[str]:\n",
    "    if not cell:\n",
    "        return []\n",
    "    if \"@\" in cell:\n",
    "        return [cell.split(\"@\", 1)[0]]\n",
    "    if \":\" in cell:\n",
    "        try:\n",
    "            name, score = cell.rsplit(\":\", 1)\n",
    "            return [name.split()[-1], f\"{round(float(score), 2):.2f}\"]\n",
    "        except (ValueError, IndexError):\n",
    "            return [cell]\n",
    "    return [cell]\n",
    "\n",
    "\n",
    "def transform_row(row: List[Optional[str]]) -> List[str]:\n",
    "    result = []\n",
    "    for cell in row:\n",
    "        result.extend(transform_cell(cell))\n",
    "    return result\n",
    "\n",
    "\n",
    "def remove_duplicate_columns(data: List[List[str]]) -> List[List[str]]:\n",
    "    cols = list(\n",
    "        dict.fromkeys(\n",
    "            col for col in zip_longest(*data, fillvalue=\"\") if any(col)\n",
    "        )\n",
    "    )\n",
    "    return [list(x) for x in zip(*cols)] if cols else []\n",
    "\n",
    "\n",
    "def remove_duplicate_rows(data: List[List[str]]) -> List[List[str]]:\n",
    "    unique_rows = dict.fromkeys(\n",
    "        tuple(row) for row in data if any(row)\n",
    "    )\n",
    "    return [list(x) for x in unique_rows]import re\n",
    "from typing import List, Optional\n",
    "from itertools import zip_longest\n",
    "\n",
    "EMAIL_RE = re.compile(r\"^([^@]+)@\")\n",
    "NAME_SCORE_RE = re.compile(r\"^(.*):([\\d.]+)$\")\n",
    "\n",
    "\n",
    "def transform_cell(cell: Optional[str]) -> List[str]:\n",
    "    if not cell:\n",
    "        return []\n",
    "    m = EMAIL_RE.match(cell)\n",
    "    if m:\n",
    "        return [m.group(1)]\n",
    "    m = NAME_SCORE_RE.match(cell)\n",
    "    if m:\n",
    "        name, score = m.group(1), m.group(2)\n",
    "        surname = name.strip().split()[-1] if name.strip().split() else \"\"\n",
    "        try:\n",
    "            score_str = f\"{round(float(score), 2):.2f}\"\n",
    "        except ValueError:\n",
    "            score_str = score\n",
    "        return [surname, score_str]\n",
    "    return [cell]\n",
    "\n",
    "\n",
    "def transform_row(row: List[Optional[str]]) -> List[str]:\n",
    "    result = []\n",
    "    for cell in row:\n",
    "        result.extend(transform_cell(cell))\n",
    "    return result\n",
    "\n",
    "\n",
    "def remove_duplicate_columns(data: List[List[str]]) -> List[List[str]]:\n",
    "    cols = list(\n",
    "        dict.fromkeys(\n",
    "            col for col in zip_longest(*data, fillvalue=\"\") if any(col)\n",
    "        )\n",
    "    )\n",
    "    return [list(x) for x in zip(*cols)] if cols else []\n",
    "\n",
    "\n",
    "def remove_duplicate_rows(data: List[List[str]]) -> List[List[str]]:\n",
    "    unique_rows = dict.fromkeys(tuple(row) for row in data if any(row))\n",
    "    return [list(x) for x in unique_rows]\n",
    "\n",
    "\n",
    "def main(data: List[List[Optional[str]]]) -> List[List[str]]:\n",
    "    transformed = [transform_row(row) for row in data]\n",
    "    cols_removed = remove_duplicate_columns(transformed)\n",
    "    return remove_duplicate_rows(cols_removed)\n",
    "\n",
    "\n",
    "\n",
    "def main(data: List[List[Optional[str]]]) -> List[List[str]]:\n",
    "    transformed = [transform_row(row) for row in data]\n",
    "    cols_removed = remove_duplicate_columns(transformed)\n",
    "    return remove_duplicate_rows(cols_removed)\n"
   ],
   "id": "b7f70307aa57588a",
   "outputs": [
    {
     "name": "stderr",
     "output_type": "stream",
     "text": [
      "53:1: W391 blank line at end of file\n"
     ]
    }
   ],
   "execution_count": 32
  },
  {
   "metadata": {},
   "cell_type": "code",
   "outputs": [],
   "execution_count": null,
   "source": [
    "# Второе\n",
    "\n",
    "import re\n",
    "from typing import List, Optional\n",
    "from itertools import zip_longest\n",
    "\n",
    "EMAIL_RE = re.compile(r\"^([^@]+)@\")\n",
    "NAME_SCORE_RE = re.compile(r\"^(.*):([\\d.]+)$\")\n",
    "\n",
    "\n",
    "def transform_cell(cell: Optional[str]) -> List[str]:\n",
    "    if not cell:\n",
    "        return []\n",
    "    m = EMAIL_RE.match(cell)\n",
    "    if m:\n",
    "        return [m.group(1)]\n",
    "    m = NAME_SCORE_RE.match(cell)\n",
    "    if m:\n",
    "        name, score = m.group(1), m.group(2)\n",
    "        surname = name.strip().split()[-1] if name.strip().split() else \"\"\n",
    "        try:\n",
    "            score_str = f\"{round(float(score), 2):.2f}\"\n",
    "        except ValueError:\n",
    "            score_str = score\n",
    "        return [surname, score_str]\n",
    "    return [cell]\n",
    "\n",
    "\n",
    "def transform_row(row: List[Optional[str]]) -> List[str]:\n",
    "    result = []\n",
    "    for cell in row:\n",
    "        result.extend(transform_cell(cell))\n",
    "    return result\n",
    "\n",
    "\n",
    "def remove_duplicate_columns(data: List[List[str]]) -> List[List[str]]:\n",
    "    cols = list(\n",
    "        dict.fromkeys(\n",
    "            col for col in zip_longest(*data, fillvalue=\"\") if any(col)\n",
    "        )\n",
    "    )\n",
    "    return [list(x) for x in zip(*cols)] if cols else []\n",
    "\n",
    "\n",
    "def remove_duplicate_rows(data: List[List[str]]) -> List[List[str]]:\n",
    "    unique_rows = dict.fromkeys(tuple(row) for row in data if any(row))\n",
    "    return [list(x) for x in unique_rows]\n",
    "\n",
    "\n",
    "def main(data: List[List[Optional[str]]]) -> List[List[str]]:\n",
    "    transformed = [transform_row(row) for row in data]\n",
    "    cols_removed = remove_duplicate_columns(transformed)\n",
    "    return remove_duplicate_rows(cols_removed)\n"
   ],
   "id": "77e42ec3acd2deaa"
  },
  {
   "metadata": {
    "ExecuteTime": {
     "end_time": "2025-04-07T08:33:13.770586Z",
     "start_time": "2025-04-07T08:33:13.760714Z"
    }
   },
   "cell_type": "code",
   "source": [
    "d = [[None, None, 'evgenij74@rambler.ru', 'evgenij74@rambler.ru', 'Евгений У. Рудиди:0.6102'], [None, None, 'evgenij85@yandex.ru', 'evgenij85@yandex.ru', 'Евгений Л. Шадов:0.8755'], [None, None, None, None, None], [None, None, 'artur15@yandex.ru', 'artur15@yandex.ru', 'Артур Т. Донак:0.5841'], [None, None, 'artur15@yandex.ru', 'artur15@yandex.ru', 'Артур Т. Донак:0.5841'], [None, None, 'al_bert69@gmail.com', 'al_bert69@gmail.com', 'Альберт Т. Бетеший:0.7787']]\n",
    "\n",
    "print(f\"main(d) = {main(d)}\")"
   ],
   "id": "dbd87e54688384a3",
   "outputs": [
    {
     "name": "stderr",
     "output_type": "stream",
     "text": [
      "1:80: E501 line too long (464 > 79 characters)\n",
      "4:1: W391 blank line at end of file\n"
     ]
    },
    {
     "name": "stdout",
     "output_type": "stream",
     "text": [
      "main(d) = [['evgenij74', 'Рудиди', '0.61'], ['evgenij85', 'Шадов', '0.88'], ['artur15', 'Донак', '0.58'], ['al_bert69', 'Бетеший', '0.78']]\n"
     ]
    }
   ],
   "execution_count": 33
  }
 ],
 "metadata": {
  "kernelspec": {
   "display_name": "Python 3",
   "language": "python",
   "name": "python3"
  },
  "language_info": {
   "codemirror_mode": {
    "name": "ipython",
    "version": 2
   },
   "file_extension": ".py",
   "mimetype": "text/x-python",
   "name": "python",
   "nbconvert_exporter": "python",
   "pygments_lexer": "ipython2",
   "version": "2.7.6"
  }
 },
 "nbformat": 4,
 "nbformat_minor": 5
}
