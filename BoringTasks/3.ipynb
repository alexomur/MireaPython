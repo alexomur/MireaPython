{
 "cells": [
  {
   "cell_type": "code",
   "id": "initial_id",
   "metadata": {
    "collapsed": true,
    "ExecuteTime": {
     "end_time": "2025-02-24T08:21:00.754853Z",
     "start_time": "2025-02-24T08:21:00.715780Z"
    }
   },
   "source": [
    "%load_ext pycodestyle_magic\n",
    "%pycodestyle_on"
   ],
   "outputs": [],
   "execution_count": 2
  },
  {
   "metadata": {
    "ExecuteTime": {
     "end_time": "2025-02-24T08:12:09.650122Z",
     "start_time": "2025-02-24T08:12:09.633711Z"
    }
   },
   "cell_type": "code",
   "source": [
    "# Второе по популярности\n",
    "\n",
    "\n",
    "import itertools\n",
    "\n",
    "\n",
    "def main(b, m, a, p):\n",
    "    return sum(\n",
    "        22 * (c**2 / 35 + 38 * i + 13 * j**3)**4 + 76 * p\n",
    "        for c, i, j in itertools.product(range(1, a+1),\n",
    "                                         range(1, m+1),\n",
    "                                         range(1, b+1))\n",
    "    )\n"
   ],
   "id": "99ef9b1bc3bc9786",
   "outputs": [
    {
     "name": "stderr",
     "output_type": "stream",
     "text": [
      "15:1: W391 blank line at end of file\n"
     ]
    }
   ],
   "execution_count": 22
  },
  {
   "metadata": {
    "ExecuteTime": {
     "end_time": "2025-02-24T09:00:26.209130Z",
     "start_time": "2025-02-24T09:00:26.205638Z"
    }
   },
   "cell_type": "code",
   "source": "",
   "id": "559a2e71241a318",
   "outputs": [],
   "execution_count": 3
  },
  {
   "metadata": {
    "ExecuteTime": {
     "end_time": "2025-02-24T09:00:31.229145Z",
     "start_time": "2025-02-24T09:00:31.225330Z"
    }
   },
   "cell_type": "code",
   "source": [
    "for b, m, a, p in zip([3, 3, 7, 3, 2], [2, 6, 4, 3, 3], [4, 3, 8, 6, 5], [-0.62, -0.08, 0.31, 0.21, 0.55]):\n",
    "    print(f\"main({b}, {m}, {a}, {p}) = {main(b, m, a, p):.2e}\")"
   ],
   "id": "fcdd9166cfcf310",
   "outputs": [
    {
     "name": "stdout",
     "output_type": "stream",
     "text": [
      "main(3, 2, 4, -0.62) = 5.09e+12\n",
      "main(3, 6, 3, -0.08) = 2.63e+13\n",
      "main(7, 4, 8, 0.31) = 3.60e+17\n",
      "main(3, 3, 6, 0.21) = 1.42e+13\n",
      "main(2, 3, 5, 0.55) = 4.48e+11\n"
     ]
    }
   ],
   "execution_count": 4
  }
 ],
 "metadata": {
  "kernelspec": {
   "display_name": "Python 3",
   "language": "python",
   "name": "python3"
  },
  "language_info": {
   "codemirror_mode": {
    "name": "ipython",
    "version": 2
   },
   "file_extension": ".py",
   "mimetype": "text/x-python",
   "name": "python",
   "nbconvert_exporter": "python",
   "pygments_lexer": "ipython2",
   "version": "2.7.6"
  }
 },
 "nbformat": 4,
 "nbformat_minor": 5
}
