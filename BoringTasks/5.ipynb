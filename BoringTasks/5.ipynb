{
 "cells": [
  {
   "metadata": {
    "ExecuteTime": {
     "end_time": "2025-03-03T07:52:11.503763Z",
     "start_time": "2025-03-03T07:52:11.226394Z"
    }
   },
   "cell_type": "code",
   "source": [
    "%load_ext pycodestyle_magic\n",
    "%pycodestyle_on"
   ],
   "id": "8badffca102d9c93",
   "outputs": [],
   "execution_count": 6
  },
  {
   "cell_type": "code",
   "id": "initial_id",
   "metadata": {
    "collapsed": true,
    "ExecuteTime": {
     "end_time": "2025-03-03T07:52:13.757379Z",
     "start_time": "2025-03-03T07:52:13.741337Z"
    }
   },
   "source": [
    "# Самое популярное\n",
    "from typing import List\n",
    "\n",
    "\n",
    "def main(z: List[float]):\n",
    "    total = 0\n",
    "    for i in range(len(z)):\n",
    "        total += (z[i]**3 - 1 - z[i]**2 / 7)**4\n",
    "    return total\n"
   ],
   "outputs": [
    {
     "name": "stderr",
     "output_type": "stream",
     "text": [
      "10:1: W391 blank line at end of file\n"
     ]
    }
   ],
   "execution_count": 7
  },
  {
   "metadata": {
    "ExecuteTime": {
     "end_time": "2025-03-03T07:59:11.129152Z",
     "start_time": "2025-03-03T07:59:11.107790Z"
    }
   },
   "cell_type": "code",
   "source": [
    "# Второе по популярности\n",
    "from typing import List\n",
    "\n",
    "\n",
    "def main(z: List[float]) -> float:\n",
    "    if not z:\n",
    "        return 0\n",
    "    head, *tail = z\n",
    "    return (head**3 - 1 - head**2 / 7)**4 + main(tail)\n"
   ],
   "id": "96fa6caa0438d4bc",
   "outputs": [
    {
     "name": "stderr",
     "output_type": "stream",
     "text": [
      "3:1: E302 expected 2 blank lines, found 1\n",
      "9:1: W391 blank line at end of file\n"
     ]
    }
   ],
   "execution_count": 14
  },
  {
   "metadata": {},
   "cell_type": "code",
   "outputs": [],
   "execution_count": null,
   "source": [
    "# 3 или 4 хз\n",
    "from typing import List\n",
    "\n",
    "\n",
    "def main(z: List[float]) -> float:\n",
    "    total = 0\n",
    "    i = 0\n",
    "    while i < len(z):\n",
    "        total += (z[i]**3 - 1 - z[i]**2 / 7)**4\n",
    "        i += 1\n",
    "    return total\n"
   ],
   "id": "8be39ea2400e1a7a"
  },
  {
   "metadata": {
    "ExecuteTime": {
     "end_time": "2025-03-03T08:03:23.670549Z",
     "start_time": "2025-03-03T08:03:23.650996Z"
    }
   },
   "cell_type": "code",
   "source": [
    "# 3 или 4 хз\n",
    "from typing import List\n",
    "\n",
    "\n",
    "def main(z: List[float]) -> float:\n",
    "    def rec(i: int) -> float:\n",
    "        if i == len(z):\n",
    "            return 0\n",
    "        return (z[i]**3 - 1 - z[i]**2 / 7)**4 + rec(i + 1)\n",
    "    return rec(0)\n"
   ],
   "id": "8f0214b88b4379db",
   "outputs": [
    {
     "name": "stderr",
     "output_type": "stream",
     "text": [
      "11:1: W391 blank line at end of file\n"
     ]
    }
   ],
   "execution_count": 18
  },
  {
   "metadata": {
    "ExecuteTime": {
     "end_time": "2025-03-03T08:01:33.363884Z",
     "start_time": "2025-03-03T08:01:33.346847Z"
    }
   },
   "cell_type": "code",
   "source": [
    "for z in [[0.82, 0.74, -0.13], [-0.07, -0.03, 0.91], [-0.23, 0.8, 0.49], [-0.74, 0.51, -0.04], [-0.75, -0.91, 0.29]]:\n",
    "    print(f\"main({z}) = {main(z):.2e}\")"
   ],
   "id": "defa891eaaa394be",
   "outputs": [
    {
     "name": "stderr",
     "output_type": "stream",
     "text": [
      "1:80: E501 line too long (117 > 79 characters)\n",
      "3:1: W391 blank line at end of file\n"
     ]
    },
    {
     "name": "stdout",
     "output_type": "stream",
     "text": [
      "main([0.82, 0.74, -0.13]) = 1.31e+00\n",
      "main([-0.07, -0.03, 0.91]) = 2.02e+00\n",
      "main([-0.23, 0.8, 0.49]) = 1.90e+00\n",
      "main([-0.74, 0.51, -0.04]) = 6.51e+00\n",
      "main([-0.75, -0.91, 0.29]) = 1.83e+01\n"
     ]
    }
   ],
   "execution_count": 17
  }
 ],
 "metadata": {
  "kernelspec": {
   "display_name": "Python 3",
   "language": "python",
   "name": "python3"
  },
  "language_info": {
   "codemirror_mode": {
    "name": "ipython",
    "version": 2
   },
   "file_extension": ".py",
   "mimetype": "text/x-python",
   "name": "python",
   "nbconvert_exporter": "python",
   "pygments_lexer": "ipython2",
   "version": "2.7.6"
  }
 },
 "nbformat": 4,
 "nbformat_minor": 5
}
