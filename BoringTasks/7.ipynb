{
 "cells": [
  {
   "cell_type": "code",
   "id": "initial_id",
   "metadata": {
    "collapsed": true,
    "ExecuteTime": {
     "end_time": "2025-03-17T07:49:41.500376Z",
     "start_time": "2025-03-17T07:49:41.131887Z"
    }
   },
   "source": [
    "%load_ext pycodestyle_magic\n",
    "%pycodestyle_on"
   ],
   "outputs": [],
   "execution_count": 3
  },
  {
   "metadata": {
    "ExecuteTime": {
     "end_time": "2025-03-17T07:51:47.541935Z",
     "start_time": "2025-03-17T07:51:47.511498Z"
    }
   },
   "cell_type": "code",
   "source": [
    "# Просто большой рофл\n",
    "\n",
    "from typing import List\n",
    "\n",
    "\n",
    "def main(x: List[int]):\n",
    "    if x[2] == 2014:\n",
    "        return 11\n",
    "    if x[2] == 1977:\n",
    "        if x[1] == 1996:\n",
    "            if x[3] == 1959:\n",
    "                return 10\n",
    "            if x[3] == 1999:\n",
    "                return 9\n",
    "        if x[1] == 1995:\n",
    "            if x[0] == 1967:\n",
    "                return 8\n",
    "            if x[0] == 2017:\n",
    "                return 7\n",
    "            if x[0] == 2005:\n",
    "                return 6\n",
    "    if x[2] == 1981:\n",
    "        if x[0] == 1967:\n",
    "            if x[1] == 1996:\n",
    "                return 5\n",
    "            if x[1] == 1995:\n",
    "                return 4\n",
    "        if x[0] == 2017:\n",
    "            if x[3] == 1959:\n",
    "                return 3\n",
    "            if x[3] == 1999:\n",
    "                return 2\n",
    "        if x[0] == 2005:\n",
    "            if x[1] == 1996:\n",
    "                return 1\n",
    "            if x[1] == 1995:\n",
    "                return 0\n"
   ],
   "id": "1cb7c77d8c493259",
   "outputs": [
    {
     "name": "stderr",
     "output_type": "stream",
     "text": [
      "37:1: W391 blank line at end of file\n"
     ]
    }
   ],
   "execution_count": 5
  },
  {
   "metadata": {},
   "cell_type": "code",
   "outputs": [],
   "execution_count": null,
   "source": [
    "# Рекурсивный вариант\n",
    "from typing import List\n",
    "\n",
    "\n",
    "def x0(a: int) -> int:\n",
    "    if a == 2005:\n",
    "        return 0\n",
    "    if a == 2017:\n",
    "        return 1\n",
    "    if a == 1967:\n",
    "        return 2\n",
    "\n",
    "\n",
    "def x1(a: int) -> int:\n",
    "    if a == 1995:\n",
    "        return 0\n",
    "    if a == 1996:\n",
    "        return 1\n",
    "\n",
    "\n",
    "def x2(a: int) -> int:\n",
    "    if a == 1981:\n",
    "        return 0\n",
    "    if a == 1977:\n",
    "        return 1\n",
    "    if a == 2014:\n",
    "        return 11\n",
    "\n",
    "\n",
    "def search(x: List[int], depth: int = 0) -> int:\n",
    "    pass\n",
    "\n",
    "\n",
    "def main(x: List[int]):\n",
    "    search(x)\n"
   ],
   "id": "fd9a41e605e353cd"
  },
  {
   "metadata": {
    "ExecuteTime": {
     "end_time": "2025-03-17T08:43:24.973860Z",
     "start_time": "2025-03-17T08:43:24.937691Z"
    }
   },
   "cell_type": "code",
   "source": [
    "# Граф\n",
    "from typing import List, Dict\n",
    "\n",
    "\n",
    "graph: Dict = {\n",
    "    1981 : {\n",
    "        2005 : {\n",
    "            1995 : 0,\n",
    "            1996 : 1\n",
    "        },\n",
    "        2017 : {\n",
    "            1999 : 2,\n",
    "            1959 : 3\n",
    "        },\n",
    "        1967 : {\n",
    "            1995 : 4,\n",
    "            1996 : 5\n",
    "        }\n",
    "    },\n",
    "    1977 : {\n",
    "        1995 : {\n",
    "            2005 : 6,\n",
    "            2017 : 7,\n",
    "            1967 : 8\n",
    "        },\n",
    "        1996 : {\n",
    "            1999 : 9,\n",
    "            1959 : 10,\n",
    "        }\n",
    "    },\n",
    "    2014 : 11\n",
    "}\n",
    "\n",
    "def next(x: List, d: Dict = None):\n",
    "    d = d or graph\n",
    "    \n",
    "    if isinstance(d, int):\n",
    "        return d\n",
    "    \n",
    "    for i in x:\n",
    "        nd = d.get(i)\n",
    "        if nd is None:\n",
    "            continue\n",
    "        return next(x, nd)\n",
    "\n",
    "\n",
    "def main(x: List):\n",
    "    return next(x)\n"
   ],
   "id": "5a7c43bcb45760e1",
   "outputs": [
    {
     "ename": "ValueError",
     "evalue": "too many values to unpack (expected 3)",
     "output_type": "error",
     "traceback": [
      "\u001B[1;31m---------------------------------------------------------------------------\u001B[0m",
      "\u001B[1;31mValueError\u001B[0m                                Traceback (most recent call last)",
      "File \u001B[1;32m~\\Desktop\\Projects\\MireaPython\\.venv\\Lib\\site-packages\\pycodestyle_magic.py:46\u001B[0m, in \u001B[0;36mVarWatcher.auto_run_pycodestyle\u001B[1;34m(self, result)\u001B[0m\n\u001B[0;32m     45\u001B[0m \u001B[38;5;28;01mdef\u001B[39;00m\u001B[38;5;250m \u001B[39m\u001B[38;5;21mauto_run_pycodestyle\u001B[39m(\u001B[38;5;28mself\u001B[39m, result):\n\u001B[1;32m---> 46\u001B[0m     \u001B[43mpycodestyle\u001B[49m\u001B[43m(\u001B[49m\u001B[38;5;241;43m1\u001B[39;49m\u001B[43m,\u001B[49m\u001B[43m \u001B[49m\u001B[43mresult\u001B[49m\u001B[38;5;241;43m.\u001B[39;49m\u001B[43minfo\u001B[49m\u001B[38;5;241;43m.\u001B[39;49m\u001B[43mraw_cell\u001B[49m\u001B[43m,\u001B[49m\u001B[43m \u001B[49m\u001B[43mauto\u001B[49m\u001B[38;5;241;43m=\u001B[39;49m\u001B[38;5;28;43;01mTrue\u001B[39;49;00m\u001B[43m)\u001B[49m\n\u001B[0;32m     47\u001B[0m     \u001B[38;5;28;01mif\u001B[39;00m result\u001B[38;5;241m.\u001B[39merror_before_exec:\n\u001B[0;32m     48\u001B[0m         \u001B[38;5;28mprint\u001B[39m(\u001B[38;5;124m'\u001B[39m\u001B[38;5;124mError before execution: \u001B[39m\u001B[38;5;132;01m%s\u001B[39;00m\u001B[38;5;124m'\u001B[39m \u001B[38;5;241m%\u001B[39m result\u001B[38;5;241m.\u001B[39merror_before_exec)\n",
      "File \u001B[1;32m~\\Desktop\\Projects\\MireaPython\\.venv\\Lib\\site-packages\\pycodestyle_magic.py:175\u001B[0m, in \u001B[0;36mpycodestyle\u001B[1;34m(line, cell, auto)\u001B[0m\n\u001B[0;32m    170\u001B[0m stdout \u001B[38;5;241m=\u001B[39m sys\u001B[38;5;241m.\u001B[39mstdout\u001B[38;5;241m.\u001B[39mgetvalue()\u001B[38;5;241m.\u001B[39msplitlines()   \n\u001B[0;32m    172\u001B[0m \u001B[38;5;28;01mfor\u001B[39;00m line \u001B[38;5;129;01min\u001B[39;00m stdout:\n\u001B[0;32m    173\u001B[0m     \u001B[38;5;66;03m#logger.info(line)     \u001B[39;00m\n\u001B[0;32m    174\u001B[0m     \u001B[38;5;66;03m# on windows drive path also contains :\u001B[39;00m\n\u001B[1;32m--> 175\u001B[0m     line, col, error \u001B[38;5;241m=\u001B[39m line\u001B[38;5;241m.\u001B[39msplit(\u001B[38;5;124m'\u001B[39m\u001B[38;5;124m:\u001B[39m\u001B[38;5;124m'\u001B[39m)[\u001B[38;5;241m-\u001B[39m\u001B[38;5;241m4\u001B[39m:] \n\u001B[0;32m    176\u001B[0m     \u001B[38;5;66;03m# do not subtract 1 for line for %%pycodestyle, inc pre py3.6 string\u001B[39;00m\n\u001B[0;32m    177\u001B[0m     \u001B[38;5;28;01mif\u001B[39;00m auto:\n",
      "\u001B[1;31mValueError\u001B[0m: too many values to unpack (expected 3)"
     ]
    }
   ],
   "execution_count": 7
  },
  {
   "metadata": {
    "ExecuteTime": {
     "end_time": "2025-03-17T08:59:32.995190Z",
     "start_time": "2025-03-17T08:59:32.292603Z"
    }
   },
   "cell_type": "code",
   "source": [
    "for x in [\n",
    "    [2005, 1995, 1981, 1999],\n",
    "    [1967, 1996, 1977, 1999],\n",
    "    [2017, 1995, 1977, 1999],\n",
    "    [2017, 1995, 2014, 1999],\n",
    "    [1967, 1996, 1981, 1999]\n",
    "]:\n",
    "    print(f\"main({x}) = {main(x)}\")"
   ],
   "id": "78327e28543e6df4",
   "outputs": [
    {
     "ename": "RecursionError",
     "evalue": "maximum recursion depth exceeded",
     "output_type": "error",
     "traceback": [
      "\u001B[1;31m---------------------------------------------------------------------------\u001B[0m",
      "\u001B[1;31mRecursionError\u001B[0m                            Traceback (most recent call last)",
      "Cell \u001B[1;32mIn[8], line 8\u001B[0m\n\u001B[0;32m      1\u001B[0m \u001B[38;5;28;01mfor\u001B[39;00m x \u001B[38;5;129;01min\u001B[39;00m [\n\u001B[0;32m      2\u001B[0m     [\u001B[38;5;241m2005\u001B[39m, \u001B[38;5;241m1995\u001B[39m, \u001B[38;5;241m1981\u001B[39m, \u001B[38;5;241m1999\u001B[39m],\n\u001B[0;32m      3\u001B[0m     [\u001B[38;5;241m1967\u001B[39m, \u001B[38;5;241m1996\u001B[39m, \u001B[38;5;241m1977\u001B[39m, \u001B[38;5;241m1999\u001B[39m],\n\u001B[1;32m   (...)\u001B[0m\n\u001B[0;32m      6\u001B[0m     [\u001B[38;5;241m1967\u001B[39m, \u001B[38;5;241m1996\u001B[39m, \u001B[38;5;241m1981\u001B[39m, \u001B[38;5;241m1999\u001B[39m]\n\u001B[0;32m      7\u001B[0m ]:\n\u001B[1;32m----> 8\u001B[0m     \u001B[38;5;28mprint\u001B[39m(\u001B[38;5;124mf\u001B[39m\u001B[38;5;124m\"\u001B[39m\u001B[38;5;124mmain(\u001B[39m\u001B[38;5;132;01m{\u001B[39;00mx\u001B[38;5;132;01m}\u001B[39;00m\u001B[38;5;124m) = \u001B[39m\u001B[38;5;132;01m{\u001B[39;00m\u001B[43mmain\u001B[49m\u001B[43m(\u001B[49m\u001B[43mx\u001B[49m\u001B[43m)\u001B[49m\u001B[38;5;132;01m}\u001B[39;00m\u001B[38;5;124m\"\u001B[39m)\n",
      "Cell \u001B[1;32mIn[7], line 48\u001B[0m, in \u001B[0;36mmain\u001B[1;34m(x)\u001B[0m\n\u001B[0;32m     47\u001B[0m \u001B[38;5;28;01mdef\u001B[39;00m\u001B[38;5;250m \u001B[39m\u001B[38;5;21mmain\u001B[39m(x: List):\n\u001B[1;32m---> 48\u001B[0m     \u001B[38;5;28;01mreturn\u001B[39;00m \u001B[38;5;28;43mnext\u001B[39;49m\u001B[43m(\u001B[49m\u001B[43mx\u001B[49m\u001B[43m)\u001B[49m\n",
      "Cell \u001B[1;32mIn[7], line 44\u001B[0m, in \u001B[0;36mnext\u001B[1;34m(x, d)\u001B[0m\n\u001B[0;32m     42\u001B[0m \u001B[38;5;28;01mif\u001B[39;00m nd \u001B[38;5;129;01mis\u001B[39;00m \u001B[38;5;28;01mNone\u001B[39;00m:\n\u001B[0;32m     43\u001B[0m     \u001B[38;5;28;01mcontinue\u001B[39;00m\n\u001B[1;32m---> 44\u001B[0m \u001B[38;5;28;01mreturn\u001B[39;00m \u001B[38;5;28;43mnext\u001B[39;49m\u001B[43m(\u001B[49m\u001B[43mx\u001B[49m\u001B[43m,\u001B[49m\u001B[43m \u001B[49m\u001B[43mnd\u001B[49m\u001B[43m)\u001B[49m\n",
      "Cell \u001B[1;32mIn[7], line 44\u001B[0m, in \u001B[0;36mnext\u001B[1;34m(x, d)\u001B[0m\n\u001B[0;32m     42\u001B[0m \u001B[38;5;28;01mif\u001B[39;00m nd \u001B[38;5;129;01mis\u001B[39;00m \u001B[38;5;28;01mNone\u001B[39;00m:\n\u001B[0;32m     43\u001B[0m     \u001B[38;5;28;01mcontinue\u001B[39;00m\n\u001B[1;32m---> 44\u001B[0m \u001B[38;5;28;01mreturn\u001B[39;00m \u001B[38;5;28;43mnext\u001B[39;49m\u001B[43m(\u001B[49m\u001B[43mx\u001B[49m\u001B[43m,\u001B[49m\u001B[43m \u001B[49m\u001B[43mnd\u001B[49m\u001B[43m)\u001B[49m\n",
      "    \u001B[1;31m[... skipping similar frames: next at line 44 (2973 times)]\u001B[0m\n",
      "Cell \u001B[1;32mIn[7], line 44\u001B[0m, in \u001B[0;36mnext\u001B[1;34m(x, d)\u001B[0m\n\u001B[0;32m     42\u001B[0m \u001B[38;5;28;01mif\u001B[39;00m nd \u001B[38;5;129;01mis\u001B[39;00m \u001B[38;5;28;01mNone\u001B[39;00m:\n\u001B[0;32m     43\u001B[0m     \u001B[38;5;28;01mcontinue\u001B[39;00m\n\u001B[1;32m---> 44\u001B[0m \u001B[38;5;28;01mreturn\u001B[39;00m \u001B[38;5;28;43mnext\u001B[39;49m\u001B[43m(\u001B[49m\u001B[43mx\u001B[49m\u001B[43m,\u001B[49m\u001B[43m \u001B[49m\u001B[43mnd\u001B[49m\u001B[43m)\u001B[49m\n",
      "\u001B[1;31mRecursionError\u001B[0m: maximum recursion depth exceeded"
     ]
    },
    {
     "name": "stderr",
     "output_type": "stream",
     "text": [
      "9:1: W391 blank line at end of file\n"
     ]
    }
   ],
   "execution_count": 8
  }
 ],
 "metadata": {
  "kernelspec": {
   "display_name": "Python 3",
   "language": "python",
   "name": "python3"
  },
  "language_info": {
   "codemirror_mode": {
    "name": "ipython",
    "version": 2
   },
   "file_extension": ".py",
   "mimetype": "text/x-python",
   "name": "python",
   "nbconvert_exporter": "python",
   "pygments_lexer": "ipython2",
   "version": "2.7.6"
  }
 },
 "nbformat": 4,
 "nbformat_minor": 5
}
