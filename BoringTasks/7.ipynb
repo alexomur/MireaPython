{
 "cells": [
  {
   "cell_type": "code",
   "id": "initial_id",
   "metadata": {
    "collapsed": true,
    "ExecuteTime": {
     "end_time": "2025-03-24T08:14:49.179006Z",
     "start_time": "2025-03-24T08:14:48.871721Z"
    }
   },
   "source": [
    "%load_ext pycodestyle_magic\n",
    "%pycodestyle_on"
   ],
   "outputs": [],
   "execution_count": 3
  },
  {
   "metadata": {
    "ExecuteTime": {
     "end_time": "2025-03-17T07:51:47.541935Z",
     "start_time": "2025-03-17T07:51:47.511498Z"
    }
   },
   "cell_type": "code",
   "source": [
    "# Просто большой рофл\n",
    "\n",
    "from typing import List\n",
    "\n",
    "\n",
    "def main(x: List[int]):\n",
    "    if x[2] == 2014:\n",
    "        return 11\n",
    "    if x[2] == 1977:\n",
    "        if x[1] == 1996:\n",
    "            if x[3] == 1959:\n",
    "                return 10\n",
    "            if x[3] == 1999:\n",
    "                return 9\n",
    "        if x[1] == 1995:\n",
    "            if x[0] == 1967:\n",
    "                return 8\n",
    "            if x[0] == 2017:\n",
    "                return 7\n",
    "            if x[0] == 2005:\n",
    "                return 6\n",
    "    if x[2] == 1981:\n",
    "        if x[0] == 1967:\n",
    "            if x[1] == 1996:\n",
    "                return 5\n",
    "            if x[1] == 1995:\n",
    "                return 4\n",
    "        if x[0] == 2017:\n",
    "            if x[3] == 1959:\n",
    "                return 3\n",
    "            if x[3] == 1999:\n",
    "                return 2\n",
    "        if x[0] == 2005:\n",
    "            if x[1] == 1996:\n",
    "                return 1\n",
    "            if x[1] == 1995:\n",
    "                return 0\n"
   ],
   "id": "1cb7c77d8c493259",
   "outputs": [
    {
     "name": "stderr",
     "output_type": "stream",
     "text": [
      "37:1: W391 blank line at end of file\n"
     ]
    }
   ],
   "execution_count": 5
  },
  {
   "metadata": {
    "ExecuteTime": {
     "end_time": "2025-03-24T08:22:27.081033Z",
     "start_time": "2025-03-24T08:22:27.064343Z"
    }
   },
   "cell_type": "code",
   "source": [
    "# Самое популярное\n",
    "\n",
    "from typing import List\n",
    "\n",
    "\n",
    "def x0(i: int) -> int:\n",
    "    match i:\n",
    "        case 2005:\n",
    "            return 0\n",
    "        case 2017:\n",
    "            return 1\n",
    "        case 1967:\n",
    "            return 2\n",
    "        case _:\n",
    "            raise ValueError(f\"Неверное значение {i} в x0\")\n",
    "\n",
    "\n",
    "def x1(i: int) -> int:\n",
    "    match i:\n",
    "        case 1995:\n",
    "            return 0\n",
    "        case 1996:\n",
    "            return 1\n",
    "        case _:\n",
    "            raise ValueError(f\"Неверное значение {i} в x1\")\n",
    "\n",
    "\n",
    "def x2(i: int) -> int:\n",
    "    match i:\n",
    "        case 1981:\n",
    "            return 0\n",
    "        case 1977:\n",
    "            return 1\n",
    "        case 2014:\n",
    "            return 2\n",
    "        case _:\n",
    "            raise ValueError(f\"Неверное значение {i} в x2\")\n",
    "\n",
    "\n",
    "def x3(i: int) -> int:\n",
    "    match i:\n",
    "        case 1999:\n",
    "            return 0\n",
    "        case 1959:\n",
    "            return 1\n",
    "        case _:\n",
    "            raise ValueError(f\"Неверное значение {i} в x3\")\n",
    "\n",
    "\n",
    "# Таблица соответствий с составными ключами (максимальная вложенность = 3)\n",
    "mapping = {\n",
    "    (2,): 11,      # Если x2 == 2014\n",
    "    (1, 1, 1): 10,  # x2==1977, x1==1996, x3==1959\n",
    "    (1, 1, 0): 9,   # x2==1977, x1==1996, x3==1999\n",
    "    (1, 0, 2): 8,   # x2==1977, x1==1995, x0==1967\n",
    "    (1, 0, 1): 7,   # x2==1977, x1==1995, x0==2017\n",
    "    (1, 0, 0): 6,   # x2==1977, x1==1995, x0==2005\n",
    "    (0, 2, 1): 5,   # x2==1981, x0==1967, x1==1996\n",
    "    (0, 2, 0): 4,   # x2==1981, x0==1967, x1==1995\n",
    "    (0, 1, 1): 3,   # x2==1981, x0==2017, x3==1959\n",
    "    (0, 1, 0): 2,   # x2==1981, x0==2017, x3==1999\n",
    "    (0, 0, 1): 1,   # x2==1981, x0==2005, x1==1996\n",
    "    (0, 0, 0): 0,   # x2==1981, x0==2005, x1==1995\n",
    "}\n",
    "\n",
    "\n",
    "def branch_two(x: List[int]) -> tuple:\n",
    "    \"\"\"Обработка ветки: x2 == 2014.\"\"\"\n",
    "    return (2,)\n",
    "\n",
    "\n",
    "def branch_one(x: List[int]) -> tuple:\n",
    "    \"\"\"Обработка ветки: x2 == 1977.\"\"\"\n",
    "    r1 = x1(x[1])\n",
    "    if r1 == 1:\n",
    "        return (1, 1, x3(x[3]))\n",
    "    if r1 == 0:\n",
    "        return (1, 0, x0(x[0]))\n",
    "    raise ValueError(\"Неверное значение в x1\")\n",
    "\n",
    "\n",
    "def branch_zero(x: List[int]) -> tuple:\n",
    "    \"\"\"Обработка ветки: x2 == 1981.\"\"\"\n",
    "    r0 = x0(x[0])\n",
    "    if r0 == 2:\n",
    "        return (0, 2, x1(x[1]))\n",
    "    if r0 == 1:\n",
    "        return (0, 1, x3(x[3]))\n",
    "    if r0 == 0:\n",
    "        return (0, 0, x1(x[1]))\n",
    "    raise ValueError(\"Неверное значение в x0\")\n",
    "\n",
    "\n",
    "branch_map = {\n",
    "    2: branch_two,\n",
    "    1: branch_one,\n",
    "    0: branch_zero,\n",
    "}\n",
    "\n",
    "\n",
    "def main(x: List[int]) -> int:\n",
    "    r2 = x2(x[2])\n",
    "    key = branch_map[r2](x)\n",
    "    return mapping[key]\n"
   ],
   "id": "5a7c43bcb45760e1",
   "outputs": [
    {
     "name": "stderr",
     "output_type": "stream",
     "text": [
      "104:1: W391 blank line at end of file\n"
     ]
    }
   ],
   "execution_count": 9
  },
  {
   "metadata": {
    "ExecuteTime": {
     "end_time": "2025-04-26T19:43:56.270614Z",
     "start_time": "2025-04-26T19:43:56.265200Z"
    }
   },
   "cell_type": "code",
   "source": [
    "# 1. Прямая таблица соответствий (nested dict)\n",
    "\n",
    "TABLE: dict[int, int | dict[int, dict[int, int]]] = {\n",
    "    2014: 11,\n",
    "    1977: {\n",
    "        1996: {1959: 10, 1999: 9},\n",
    "        1995: {1967: 8, 2017: 7, 2005: 6},\n",
    "    },\n",
    "    1981: {\n",
    "        1967: {1996: 5, 1995: 4},\n",
    "        2017: {1959: 3, 1999: 2},\n",
    "        2005: {1996: 1, 1995: 0},\n",
    "    },\n",
    "}\n",
    "\n",
    "\n",
    "def main(x: list[int]) -> int:\n",
    "    \"\"\"\n",
    "    Возвращает число 0–11 в зависимости от комбинации\n",
    "    годов в списке x = [x0, x1, x2, x3].\n",
    "    \"\"\"\n",
    "    try:\n",
    "        branch = TABLE[x[2]]\n",
    "    except KeyError:\n",
    "        raise ValueError(f\"Неверное значение x[2] = {x[2]}\")\n",
    "\n",
    "    # x[2] == 2014 → branch — целое\n",
    "    if isinstance(branch, int):\n",
    "        return branch\n",
    "\n",
    "    # x[2] == 1977 → branch: dict[x1 → dict[x3 → value]]\n",
    "    if x[2] == 1977:\n",
    "        try:\n",
    "            return branch[x[1]][x[3]]\n",
    "        except KeyError as e:\n",
    "            raise ValueError(f\"Неверная комбинация x1/x3: {e}\")\n",
    "\n",
    "    # x[2] == 1981 → branch: dict[x0 → dict[x1 → value]]\n",
    "    try:\n",
    "        return branch[x[0]][x[1]]\n",
    "    except KeyError as e:\n",
    "        raise ValueError(f\"Неверная комбинация x0/x1: {e}\")\n"
   ],
   "id": "290647c0c057b822",
   "outputs": [],
   "execution_count": 8
  },
  {
   "metadata": {
    "ExecuteTime": {
     "end_time": "2025-04-26T19:41:32.528970Z",
     "start_time": "2025-04-26T19:41:32.525674Z"
    }
   },
   "cell_type": "code",
   "source": [
    "for X in [\n",
    "    [2005, 1995, 1981, 1999],\n",
    "    [1967, 1996, 1977, 1999],\n",
    "    [2017, 1995, 1977, 1999],\n",
    "    [2017, 1995, 2014, 1999],\n",
    "    [1967, 1996, 1981, 1999]\n",
    "]:\n",
    "    print(f\"main({X}) = {main(X)}\")"
   ],
   "id": "78327e28543e6df4",
   "outputs": [
    {
     "name": "stdout",
     "output_type": "stream",
     "text": [
      "main([2005, 1995, 1981, 1999]) = 0\n",
      "main([1967, 1996, 1977, 1999]) = 9\n",
      "main([2017, 1995, 1977, 1999]) = 7\n",
      "main([2017, 1995, 2014, 1999]) = 11\n",
      "main([1967, 1996, 1981, 1999]) = 5\n"
     ]
    }
   ],
   "execution_count": 7
  }
 ],
 "metadata": {
  "kernelspec": {
   "display_name": "Python 3",
   "language": "python",
   "name": "python3"
  },
  "language_info": {
   "codemirror_mode": {
    "name": "ipython",
    "version": 2
   },
   "file_extension": ".py",
   "mimetype": "text/x-python",
   "name": "python",
   "nbconvert_exporter": "python",
   "pygments_lexer": "ipython2",
   "version": "2.7.6"
  }
 },
 "nbformat": 4,
 "nbformat_minor": 5
}
