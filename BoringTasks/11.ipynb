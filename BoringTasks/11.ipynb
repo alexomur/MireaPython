{
 "cells": [
  {
   "cell_type": "code",
   "id": "initial_id",
   "metadata": {
    "collapsed": true,
    "ExecuteTime": {
     "end_time": "2025-05-05T17:32:51.082043Z",
     "start_time": "2025-05-05T17:32:50.968320Z"
    }
   },
   "source": [
    "%load_ext pycodestyle_magic\n",
    "%pycodestyle_on"
   ],
   "outputs": [],
   "execution_count": 1
  },
  {
   "metadata": {
    "ExecuteTime": {
     "end_time": "2025-05-08T16:18:06.515530Z",
     "start_time": "2025-05-08T16:18:06.486799Z"
    }
   },
   "cell_type": "code",
   "source": [
    "from types import MethodType\n",
    "\n",
    "\n",
    "class MooreMachine:\n",
    "    def __init__(self):\n",
    "        self._transitions = {\n",
    "            'P0': {'brake': 'P6'},\n",
    "            'P6': {'amble': 'P4'},\n",
    "            'P4': {'snap': 'P1'},\n",
    "            'P1': {'amble': 'P1', 'brake': 'P5'},\n",
    "            'P5': {'tail': 'P1', 'snap': 'P7'},\n",
    "            'P7': {'brake': 'P5', 'snap': 'P2'},\n",
    "            'P2': {'amble': 'P2', 'snap': 'P3'},\n",
    "            'P3': {'amble': 'P5'},\n",
    "        }\n",
    "        self._outputs = {\n",
    "            'P0': 'V0', 'P6': 'V1', 'P4': 'V2', 'P1': 'V0',\n",
    "            'P5': 'V2', 'P7': 'V0', 'P2': 'V0', 'P3': 'V1',\n",
    "        }\n",
    "        self._all_words = {w for d in self._transitions.values() for w in d}\n",
    "        self._state = 'P0'\n",
    "        self._step = 0\n",
    "        self._seen_edges = set()\n",
    "        self._max_out = max(len(d) for d in self._transitions.values())\n",
    "\n",
    "    def run(self, word):\n",
    "        if word not in self._all_words:\n",
    "            return 'unknown'\n",
    "        nxt = self._transitions[self._state].get(word)\n",
    "        if nxt is None:\n",
    "            return 'unsupported'\n",
    "        self._seen_edges.add((self._state, nxt))\n",
    "        self._state = nxt\n",
    "        self._step += 1\n",
    "        return None\n",
    "\n",
    "    def get_output(self):\n",
    "        return self._outputs[self._state]\n",
    "\n",
    "    def get_step(self):\n",
    "        return self._step\n",
    "\n",
    "    def seen_edge(self, p_from, p_to):\n",
    "        return (p_from, p_to) in self._seen_edges\n",
    "\n",
    "    def has_max_out_edges(self):\n",
    "        return len(self._transitions[self._state]) == self._max_out\n",
    "\n",
    "    def __getattr__(self, item):\n",
    "        if item not in self._all_words:\n",
    "            def unknown_method(_self, *_a, **_kw):\n",
    "                return 'unknown'\n",
    "            return MethodType(unknown_method, self)\n",
    "\n",
    "        def transition(_self, *_a, **_kw):\n",
    "            return _self.run(item)\n",
    "        return MethodType(transition, self)\n",
    "\n",
    "\n",
    "def main():\n",
    "    return MooreMachine()\n",
    "\n",
    "\n",
    "def test():\n",
    "    m = main()\n",
    "    assert m.get_output() == 'V0'\n",
    "    assert m.run('stare') == 'unknown'\n",
    "    assert m.run('brake') is None\n",
    "    assert m.get_output() == 'V1'\n",
    "    assert m.run('snap') == 'unsupported'\n",
    "    assert m.run('amble') is None\n",
    "    assert m.get_output() == 'V2'\n",
    "    assert m.run('snap') is None\n",
    "    assert m.get_output() == 'V0'\n",
    "    assert m.run('amble') is None\n",
    "    assert m.run('brake') is None\n",
    "    assert m.has_max_out_edges() is True\n",
    "    assert m.run('tail') is None\n",
    "    assert m.run('file') == 'unknown'\n",
    "    assert m.run('brake') is None\n",
    "    assert m.run('snap') is None\n",
    "    assert m.run('snap') is None\n",
    "    assert m.seen_edge('P2', 'P2') is False\n",
    "    assert m.run('snap') is None\n",
    "    assert m.get_output() == 'V1'\n",
    "    assert m.has_max_out_edges() is False\n",
    "    assert m.run('brake') == 'unsupported'\n",
    "    assert m.has_max_out_edges() is False\n",
    "    assert m.run('amble') is None\n",
    "    assert m.get_output() == 'V2'\n",
    "    assert m.seen_edge('P4', 'P1') is True\n",
    "    assert m.unknown_transition() == 'unknown'\n",
    "    assert m.snap() is None\n",
    "    assert m.get_output() == 'V0'\n",
    "    assert m.seen_edge('P7', 'P2') is True\n",
    "    assert m.get_step() == 12\n"
   ],
   "id": "a01c82a46a9e7982",
   "outputs": [
    {
     "name": "stderr",
     "output_type": "stream",
     "text": [
      "98:1: W391 blank line at end of file\n"
     ]
    }
   ],
   "execution_count": 41
  },
  {
   "metadata": {
    "ExecuteTime": {
     "end_time": "2025-05-05T20:53:57.753226Z",
     "start_time": "2025-05-05T20:53:57.746905Z"
    }
   },
   "cell_type": "code",
   "source": "test()\n",
   "id": "4a4e84f4e3b5ff2e",
   "outputs": [
    {
     "name": "stderr",
     "output_type": "stream",
     "text": [
      "3:1: W391 blank line at end of file\n"
     ]
    }
   ],
   "execution_count": 40
  }
 ],
 "metadata": {
  "kernelspec": {
   "display_name": "Python 3",
   "language": "python",
   "name": "python3"
  },
  "language_info": {
   "codemirror_mode": {
    "name": "ipython",
    "version": 2
   },
   "file_extension": ".py",
   "mimetype": "text/x-python",
   "name": "python",
   "nbconvert_exporter": "python",
   "pygments_lexer": "ipython2",
   "version": "2.7.6"
  }
 },
 "nbformat": 4,
 "nbformat_minor": 5
}
