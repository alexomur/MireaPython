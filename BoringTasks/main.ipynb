{
 "cells": [
  {
   "cell_type": "code",
   "id": "initial_id",
   "metadata": {
    "collapsed": true,
    "ExecuteTime": {
     "end_time": "2025-02-10T15:14:51.659670Z",
     "start_time": "2025-02-10T15:14:51.642070Z"
    }
   },
   "source": "",
   "outputs": [],
   "execution_count": null
  },
  {
   "metadata": {},
   "cell_type": "markdown",
   "source": "## Задание 1",
   "id": "2b8b9a13c657b258"
  },
  {
   "metadata": {
    "ExecuteTime": {
     "end_time": "2025-02-10T15:19:49.376408Z",
     "start_time": "2025-02-10T15:19:49.361627Z"
    }
   },
   "cell_type": "code",
   "source": [
    "import math\n",
    "\n",
    "\n",
    "def calc(y: float):\n",
    "    return (\n",
    "        (71 * y ** 5 + math.acos(y) ** 6) /\n",
    "        (27 * math.floor(y) ** 4 + 56 * (math.cos(y) ** 3)) -\n",
    "        math.sqrt(40 * math.floor(y))\n",
    "    )\n",
    "\n",
    "\n",
    "def main(y: float) -> float:\n",
    "    return calc(y)\n"
   ],
   "id": "64936a75046549a4",
   "outputs": [],
   "execution_count": 57
  },
  {
   "metadata": {
    "ExecuteTime": {
     "end_time": "2025-02-10T15:19:50.101087Z",
     "start_time": "2025-02-10T15:19:50.088087Z"
    }
   },
   "cell_type": "code",
   "source": [
    "for test in [0.17, 0.22, 0.99, 0.48, 0.14]:\n",
    "    print(f\"main({test}) = {main(test):.2e}\")"
   ],
   "id": "3c6a2fcd85c45345",
   "outputs": [
    {
     "name": "stdout",
     "output_type": "stream",
     "text": [
      "main(0.17) = 1.41e-01\n",
      "main(0.22) = 1.16e-01\n",
      "main(0.99) = 7.30e+00\n",
      "main(0.48) = 8.47e-02\n",
      "main(0.14) = 1.58e-01\n"
     ]
    }
   ],
   "execution_count": 58
  },
  {
   "metadata": {
    "ExecuteTime": {
     "end_time": "2025-02-11T06:11:52.261718Z",
     "start_time": "2025-02-11T06:11:52.258155Z"
    }
   },
   "cell_type": "code",
   "source": [
    "import math\n",
    "\n",
    "\n",
    "def main(z: float) -> float:\n",
    "    return (\n",
    "        math.tan(1 + z + z ** 3) ** 7 +\n",
    "        math.sqrt(\n",
    "            (56 * math.cos(z) ** 7 + 96 * z ** 5) /\n",
    "            (41 * z / 83)\n",
    "        )\n",
    "    )\n"
   ],
   "id": "d81d9ed202641064",
   "outputs": [],
   "execution_count": 21
  },
  {
   "metadata": {
    "ExecuteTime": {
     "end_time": "2025-02-11T06:19:26.484747Z",
     "start_time": "2025-02-11T06:19:26.481815Z"
    }
   },
   "cell_type": "code",
   "source": [
    "for test in [0.07, 0.56, -0.93, 0.34, -0.8]:\n",
    "    print(f\"main({test}) = {main(test):.2e}\")"
   ],
   "id": "b328a67838f94c94",
   "outputs": [
    {
     "name": "stdout",
     "output_type": "stream",
     "text": [
      "main(0.07) = 1.08e+02\n",
      "main(0.56) = -2.84e+05\n",
      "main(-0.93) = 1.14e+01\n",
      "main(0.34) = 9.72e+04\n",
      "main(-0.8) = 8.26e+00\n"
     ]
    }
   ],
   "execution_count": 24
  }
 ],
 "metadata": {
  "kernelspec": {
   "display_name": "Python 3",
   "language": "python",
   "name": "python3"
  },
  "language_info": {
   "codemirror_mode": {
    "name": "ipython",
    "version": 2
   },
   "file_extension": ".py",
   "mimetype": "text/x-python",
   "name": "python",
   "nbconvert_exporter": "python",
   "pygments_lexer": "ipython2",
   "version": "2.7.6"
  }
 },
 "nbformat": 4,
 "nbformat_minor": 5
}
