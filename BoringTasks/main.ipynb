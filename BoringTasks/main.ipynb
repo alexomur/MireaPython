{
 "cells": [
  {
   "metadata": {
    "collapsed": true,
    "ExecuteTime": {
     "end_time": "2025-02-10T15:14:51.659670Z",
     "start_time": "2025-02-10T15:14:51.642070Z"
    }
   },
   "cell_type": "code",
   "outputs": [],
   "source": "",
   "id": "initial_id",
   "execution_count": null
  },
  {
   "metadata": {},
   "cell_type": "markdown",
   "source": "## Задание 1",
   "id": "2b8b9a13c657b258"
  },
  {
   "metadata": {
    "ExecuteTime": {
     "end_time": "2025-02-10T15:19:49.376408Z",
     "start_time": "2025-02-10T15:19:49.361627Z"
    }
   },
   "cell_type": "code",
   "outputs": [],
   "execution_count": 57,
   "source": [
    "import math\n",
    "\n",
    "\n",
    "def calc(y: float):\n",
    "    return (\n",
    "        (71 * y ** 5 + math.acos(y) ** 6) /\n",
    "        (27 * math.floor(y) ** 4 + 56 * (math.cos(y) ** 3)) -\n",
    "        math.sqrt(40 * math.floor(y))\n",
    "    )\n",
    "\n",
    "\n",
    "def main(y: float) -> float:\n",
    "    return calc(y)\n"
   ],
   "id": "64936a75046549a4"
  },
  {
   "metadata": {
    "ExecuteTime": {
     "end_time": "2025-02-10T15:19:50.101087Z",
     "start_time": "2025-02-10T15:19:50.088087Z"
    }
   },
   "cell_type": "code",
   "outputs": [
    {
     "name": "stdout",
     "output_type": "stream",
     "text": [
      "main(0.17) = 1.41e-01\n",
      "main(0.22) = 1.16e-01\n",
      "main(0.99) = 7.30e+00\n",
      "main(0.48) = 8.47e-02\n",
      "main(0.14) = 1.58e-01\n"
     ]
    }
   ],
   "execution_count": 58,
   "source": [
    "for test in [0.17, 0.22, 0.99, 0.48, 0.14]:\n",
    "    print(f\"main({test}) = {main(test):.2e}\")"
   ],
   "id": "3c6a2fcd85c45345"
  },
  {
   "metadata": {
    "ExecuteTime": {
     "end_time": "2025-02-17T13:50:53.133445Z",
     "start_time": "2025-02-17T13:50:53.123446Z"
    }
   },
   "cell_type": "code",
   "source": [
    "import cmath\n",
    "\n",
    "\n",
    "def main(z: float) -> float:\n",
    "    first = cmath.tan(1 + z + z ** 3) ** 7\n",
    "    second = cmath.sqrt(\n",
    "        (56 * cmath.cos(z) ** 7 + 96 * z ** 5) / (41 * z / 83)\n",
    "    )\n",
    "    result = first + second\n",
    "    if abs(result.imag) < 1e-10:\n",
    "        return result.real\n",
    "    return result\n"
   ],
   "id": "d81d9ed202641064",
   "outputs": [],
   "execution_count": 72
  },
  {
   "metadata": {
    "ExecuteTime": {
     "end_time": "2025-02-17T13:50:54.028279Z",
     "start_time": "2025-02-17T13:50:54.019279Z"
    }
   },
   "cell_type": "code",
   "source": [
    "for test in [0.07, 0.56, -0.93, 0.34, -0.8]:\n",
    "    print(f\"main({test}) = {main(test):.2e}\")"
   ],
   "id": "b328a67838f94c94",
   "outputs": [
    {
     "name": "stdout",
     "output_type": "stream",
     "text": [
      "main(0.07) = 1.08e+02\n",
      "main(0.56) = -2.84e+05\n",
      "main(-0.93) = 1.14e+01\n",
      "main(0.34) = 9.72e+04\n",
      "main(-0.8) = 8.26e+00\n"
     ]
    }
   ],
   "execution_count": 73
  },
  {
   "metadata": {
    "ExecuteTime": {
     "end_time": "2025-02-17T13:12:01.088481Z",
     "start_time": "2025-02-17T13:12:01.076415Z"
    }
   },
   "cell_type": "code",
   "source": [
    "import math\n",
    "import bisect\n",
    "\n",
    "\n",
    "def main(x):\n",
    "    # Границы интервалов, где функция \"переключается\"\n",
    "    boundaries = [33, 59, 133, 217]\n",
    "    # Соответствующие формулы на каждом интервале\n",
    "    formulas = [\n",
    "        lambda t: math.cos(t)**4 + 64*t**3/23,\n",
    "        lambda t: abs(t)**3 - t,\n",
    "        lambda t: t**4 - 89*((t/95) + t**3 + 55*t**2)**5,\n",
    "        lambda t: 70*(t**3 - 85*t**2)**7,\n",
    "        lambda t: 68*(math.log(t)**7) - (93*t)**3/43\n",
    "    ]\n",
    "    # Определяем, какой кусок брать\n",
    "    idx = bisect.bisect_left(boundaries, x)\n",
    "    return formulas[idx](x)\n"
   ],
   "id": "b481f01da4d9dbb0",
   "outputs": [],
   "execution_count": 55
  },
  {
   "metadata": {
    "ExecuteTime": {
     "end_time": "2025-02-17T13:12:02.207534Z",
     "start_time": "2025-02-17T13:12:02.204536Z"
    }
   },
   "cell_type": "code",
   "source": [
    "for test in [-19, 229, 44, 199, 6]:\n",
    "    print(f\"main({test}) = {main(test):.2e}\")"
   ],
   "id": "aa7f32bc099bf67a",
   "outputs": [
    {
     "name": "stdout",
     "output_type": "stream",
     "text": [
      "main(-19) = -1.91e+04\n",
      "main(229) = -2.25e+11\n",
      "main(44) = 8.51e+04\n",
      "main(199) = 2.68e+48\n",
      "main(6) = 6.02e+02\n"
     ]
    }
   ],
   "execution_count": 56
  },
  {
   "metadata": {},
   "cell_type": "code",
   "outputs": [],
   "execution_count": null,
   "source": [
    "# Varian 1\n",
    "# import math\n",
    "#\n",
    "# def main(z, y) -> float:\n",
    "#     part1 = math.sqrt(48) * abs((y**3) / 30 - z - 31)\n",
    "#     part2 = 14 * (88 * z**2 - 97 * y**3)**4\n",
    "#     return part1 + part2\n",
    "\n",
    "# Variant 2\n",
    "# import math\n",
    "#\n",
    "#\n",
    "# def calc_sqr(A):\n",
    "#     return math.sqrt(48) * abs(A)\n",
    "#\n",
    "#\n",
    "# def calc_rht(z, y):\n",
    "#     return 14 * (88 * z**2 - 97 * y**3) ** 4\n",
    "#\n",
    "#\n",
    "# def main(z, y) -> float:\n",
    "#     return calc_sqr((y**3) / 30 - z - 31) + calc_rht(z, y)\n",
    "\n",
    "# Variant 3\n",
    "# def main(z, y) -> float:\n",
    "#     sqr = (48 * ((y**3) / 30 - z - 31) ** 2) ** 0.5\n",
    "#     rht = 14 * (88 * z**2 - 97 * y**3) ** 4\n",
    "#     return sqr + rht\n",
    "\n",
    "# Variant 4\n",
    "from functools import reduce\n",
    "\n",
    "\n",
    "def add(x, y):\n",
    "    return x + y\n",
    "\n",
    "\n",
    "def main(z, y) -> float:\n",
    "    return reduce(\n",
    "        add,\n",
    "        [(48 * ((y**3 / 30 - z - 31) ** 2)) ** 0.5, 14 * (88 * z**2 - 97 * y**3) ** 4],\n",
    "    )\n"
   ],
   "id": "d6647147613d07bf"
  },
  {
   "metadata": {},
   "cell_type": "code",
   "outputs": [],
   "execution_count": null,
   "source": [
    "from typing import Set\n",
    "from math import floor, ceil\n",
    "\n",
    "\n",
    "def main(Phi: Set[int]) -> int:\n",
    "    Ksi = set()\n",
    "    Psi = set()\n",
    "    \n",
    "    for f in Phi:\n",
    "        if f <= -77 or f >= 36:\n",
    "            Ksi.add(f)\n",
    "        if f < -74 or f >= 22:\n",
    "            Psi.add(floor(f/3) - ceil(f/5))\n",
    "    \n",
    "    for i in range(len(Phi)):\n",
    "        \n",
    "    \n",
    "    # product"
   ],
   "id": "741d4c3908c2a7d5"
  }
 ],
 "metadata": {
  "kernelspec": {
   "display_name": "Python 3",
   "language": "python",
   "name": "python3"
  },
  "language_info": {
   "codemirror_mode": {
    "name": "ipython",
    "version": 2
   },
   "file_extension": ".py",
   "mimetype": "text/x-python",
   "name": "python",
   "nbconvert_exporter": "python",
   "pygments_lexer": "ipython2",
   "version": "2.7.6"
  }
 },
 "nbformat": 4,
 "nbformat_minor": 5
}
