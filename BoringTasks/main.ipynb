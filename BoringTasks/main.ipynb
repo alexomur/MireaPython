{
 "cells": [
  {
   "cell_type": "code",
   "id": "initial_id",
   "metadata": {
    "collapsed": true,
    "ExecuteTime": {
     "end_time": "2025-02-10T10:28:17.811254Z",
     "start_time": "2025-02-10T10:28:17.807192Z"
    }
   },
   "source": "import math",
   "outputs": [],
   "execution_count": 1
  },
  {
   "metadata": {},
   "cell_type": "markdown",
   "source": "## Задание 1",
   "id": "2b8b9a13c657b258"
  },
  {
   "metadata": {
    "ExecuteTime": {
     "end_time": "2025-02-10T10:49:49.712705Z",
     "start_time": "2025-02-10T10:49:49.709362Z"
    }
   },
   "cell_type": "code",
   "source": [
    "import math\n",
    "\n",
    "\n",
    "def main(z: float, x: float, y: float) -> float:\n",
    "    return (\n",
    "        (99 * math.atan(1 - 57 * y) ** 7 + z - x ** 3) /\n",
    "        ((84 * x ** 2) ** 3 - (13 * y ** 2 + z)) + (\n",
    "            2 * y ** 2 - 46 * math.exp(50 * z ** 2 - y / 44 - 28 * x ** 3) ** 7\n",
    "        ) / (\n",
    "            72 * (z + 86 * y ** 2 + x ** 3 / 46) ** 5 - y ** 4\n",
    "        )\n",
    "    )\n"
   ],
   "id": "64936a75046549a4",
   "outputs": [],
   "execution_count": 20
  },
  {
   "metadata": {
    "ExecuteTime": {
     "end_time": "2025-02-10T10:49:16.108535Z",
     "start_time": "2025-02-10T10:49:16.103954Z"
    }
   },
   "cell_type": "code",
   "source": "assert main(0.05, 0.29, 0.47) - (-5.61e+00) <= 0.001  # Погрешность не больше одной тысячной",
   "id": "3c6a2fcd85c45345",
   "outputs": [],
   "execution_count": 19
  },
  {
   "metadata": {},
   "cell_type": "code",
   "outputs": [],
   "execution_count": null,
   "source": "",
   "id": "d81d9ed202641064"
  }
 ],
 "metadata": {
  "kernelspec": {
   "display_name": "Python 3",
   "language": "python",
   "name": "python3"
  },
  "language_info": {
   "codemirror_mode": {
    "name": "ipython",
    "version": 2
   },
   "file_extension": ".py",
   "mimetype": "text/x-python",
   "name": "python",
   "nbconvert_exporter": "python",
   "pygments_lexer": "ipython2",
   "version": "2.7.6"
  }
 },
 "nbformat": 4,
 "nbformat_minor": 5
}
