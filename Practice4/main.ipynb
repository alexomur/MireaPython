{
 "cells": [
  {
   "cell_type": "code",
   "id": "initial_id",
   "metadata": {
    "collapsed": true,
    "ExecuteTime": {
     "end_time": "2025-03-04T08:48:44.202411Z",
     "start_time": "2025-03-04T08:48:44.197179Z"
    }
   },
   "source": [
    "def smalldet(A: list[list[float]]):\n",
    "    return A[0][0] * A[1][1] - A[0][1] * A[1][0]\n",
    "\n",
    "A = [[4, 3], [1, 1]]\n",
    "print(smalldet(A))"
   ],
   "outputs": [
    {
     "name": "stdout",
     "output_type": "stream",
     "text": [
      "1\n"
     ]
    }
   ],
   "execution_count": 44
  },
  {
   "metadata": {
    "ExecuteTime": {
     "end_time": "2025-03-04T08:48:48.046256Z",
     "start_time": "2025-03-04T08:48:48.042580Z"
    }
   },
   "cell_type": "code",
   "source": [
    "def submatrix(A, row_to_remove, col_to_remove):\n",
    "    return [\n",
    "        [A[r][c] for c in range(len(A[r])) if c != col_to_remove]\n",
    "        for r in range(len(A)) if r != row_to_remove\n",
    "    ]\n",
    "\n",
    "\n",
    "A = [\n",
    "    [0, 2, 1], \n",
    "    [1, 4, 3], \n",
    "    [2, 1, 1]\n",
    "]\n",
    "print(submatrix(A, 0, 0))\n",
    "print(submatrix(A, 1, 1))\n",
    "print(submatrix(A, 2, 1))"
   ],
   "id": "1c03b8e749890322",
   "outputs": [
    {
     "name": "stdout",
     "output_type": "stream",
     "text": [
      "[[4, 3], [1, 1]]\n",
      "[[0, 1], [2, 1]]\n",
      "[[0, 1], [1, 3]]\n"
     ]
    }
   ],
   "execution_count": 45
  },
  {
   "metadata": {
    "ExecuteTime": {
     "end_time": "2025-03-04T08:17:12.287046Z",
     "start_time": "2025-03-04T08:17:12.281702Z"
    }
   },
   "cell_type": "code",
   "source": [
    "def det(A: list, i = 0) -> float:\n",
    "    n = len(A)\n",
    "    if n == 1:\n",
    "        return A[0][0]\n",
    "    if n == 2:\n",
    "        return smalldet(A)\n",
    "    \n",
    "    determinant = 0\n",
    "    for j in range(n):\n",
    "        determinant += (-1) ** (j+i) * A[i][j] * det(submatrix(A, i, j))\n",
    "    return determinant\n",
    "\n",
    "A = [\n",
    "    [0, 2, 1, 4],\n",
    "    [1, 0, 3, 2],\n",
    "    [0, 1, 4, 0],\n",
    "    [1, 2, 1, 1]\n",
    "]\n",
    "print(det(A))"
   ],
   "id": "24f1884698ff4bb6",
   "outputs": [
    {
     "name": "stdout",
     "output_type": "stream",
     "text": [
      "47\n"
     ]
    }
   ],
   "execution_count": 30
  },
  {
   "metadata": {
    "ExecuteTime": {
     "end_time": "2025-03-04T08:20:21.283967Z",
     "start_time": "2025-03-04T08:20:21.281387Z"
    }
   },
   "cell_type": "code",
   "source": [
    "def minor(A, i, j):\n",
    "    return det(submatrix(A, i, j))\n",
    "\n",
    "print(minor(A, 0, 1))"
   ],
   "id": "e196bc2130785888",
   "outputs": [
    {
     "name": "stdout",
     "output_type": "stream",
     "text": [
      "-4\n"
     ]
    }
   ],
   "execution_count": 32
  },
  {
   "metadata": {
    "ExecuteTime": {
     "end_time": "2025-03-04T08:21:40.199034Z",
     "start_time": "2025-03-04T08:21:40.194151Z"
    }
   },
   "cell_type": "code",
   "source": [
    "def alg(A, i=0, j=0):\n",
    "    return (-1)**(i+j) * minor(A, i, j)\n",
    "\n",
    "print(alg(A, 1, 1))"
   ],
   "id": "e9f40f2bfd29726",
   "outputs": [
    {
     "name": "stdout",
     "output_type": "stream",
     "text": [
      "-16\n"
     ]
    }
   ],
   "execution_count": 34
  },
  {
   "metadata": {
    "ExecuteTime": {
     "end_time": "2025-03-04T08:32:28.755207Z",
     "start_time": "2025-03-04T08:32:28.750680Z"
    }
   },
   "cell_type": "code",
   "source": [
    "def algmatrix(A: list) -> list:\n",
    "    n = len(A)\n",
    "    return [[alg(A, i, j) for j in range(n)] for i in range(n)]\n",
    "\n",
    "print(algmatrix(A))"
   ],
   "id": "b414b6ce974f1bba",
   "outputs": [
    {
     "name": "stdout",
     "output_type": "stream",
     "text": [
      "[[-17, 4, -1, 10], [21, -16, 4, 7], [-18, 7, 10, -6], [26, 16, -4, -7]]\n"
     ]
    }
   ],
   "execution_count": 35
  },
  {
   "metadata": {},
   "cell_type": "code",
   "outputs": [],
   "execution_count": null,
   "source": "",
   "id": "29f1b3dc34875327"
  },
  {
   "metadata": {
    "ExecuteTime": {
     "end_time": "2025-03-04T08:47:42.282347Z",
     "start_time": "2025-03-04T08:47:42.275155Z"
    }
   },
   "cell_type": "code",
   "source": [
    "def transpose(matrix: list[list[float]]) -> list[list[float]]:\n",
    "    n = len(matrix)\n",
    "    return [[matrix[j][i] for j in range(n)] for i in range(n)]\n",
    "\n",
    "def inv(A: list[list[float]]) -> list[list[float]]:\n",
    "    M = transpose(algmatrix(A))\n",
    "    d = det(A)\n",
    "    \n",
    "    for i in range(len(M)):\n",
    "        for j in range(len(M[i])):\n",
    "            M[i][j] /= d\n",
    "    return M\n",
    "\n",
    "print(inv(A))"
   ],
   "id": "3f74e56a3732539b",
   "outputs": [
    {
     "name": "stdout",
     "output_type": "stream",
     "text": [
      "[[-0.3617021276595745, 0.44680851063829785, -0.3829787234042553, 0.5531914893617021], [0.0851063829787234, -0.3404255319148936, 0.14893617021276595, 0.3404255319148936], [-0.02127659574468085, 0.0851063829787234, 0.2127659574468085, -0.0851063829787234], [0.2127659574468085, 0.14893617021276595, -0.1276595744680851, -0.14893617021276595]]\n"
     ]
    }
   ],
   "execution_count": 42
  },
  {
   "metadata": {
    "ExecuteTime": {
     "end_time": "2025-03-04T08:47:45.436492Z",
     "start_time": "2025-03-04T08:47:45.429763Z"
    }
   },
   "cell_type": "code",
   "source": [
    "def matmul(A: list[list[float]], B: list[list[float]]) -> list[list[float]]:\n",
    "    \"\"\"Умножение двух матриц A (размера p×q) и B (размера q×r).\"\"\"\n",
    "    p = len(A)\n",
    "    q = len(A[0])\n",
    "    # Предполагаем, что len(B) = q\n",
    "    r = len(B[0])\n",
    "    C = []\n",
    "    for i in range(p):\n",
    "        row = []\n",
    "        for j in range(r):\n",
    "            s = 0\n",
    "            for k in range(q):\n",
    "                s += A[i][k] * B[k][j]\n",
    "            row.append(s)\n",
    "        C.append(row)\n",
    "    return C\n",
    "\n",
    "def moore_penrose(H: list[list[float]]) -> list[list[float]]:\n",
    "    \"\"\"\n",
    "    Псевдообращение Мура–Пенроуза для матрицы H по формуле:\n",
    "    H^+ = (H^T * H)^(-1) * H^T\n",
    "    (если H^T * H обратима).\n",
    "    \"\"\"\n",
    "    H_T = transpose(H)\n",
    "    HtH = matmul(H_T, H)\n",
    "    inv_HtH = inv(HtH)\n",
    "    return matmul(inv_HtH, H_T)\n",
    "\n",
    "print(moore_penrose(A))"
   ],
   "id": "aa124fa251bea1c5",
   "outputs": [
    {
     "name": "stdout",
     "output_type": "stream",
     "text": [
      "[[-0.3617021276595745, 0.44680851063829796, -0.3829787234042553, 0.5531914893617021], [0.08510638297872336, -0.3404255319148936, 0.14893617021276595, 0.3404255319148936], [-0.02127659574468085, 0.0851063829787234, 0.2127659574468085, -0.0851063829787234], [0.2127659574468085, 0.14893617021276595, -0.1276595744680851, -0.14893617021276598]]\n"
     ]
    }
   ],
   "execution_count": 43
  }
 ],
 "metadata": {
  "kernelspec": {
   "display_name": "Python 3",
   "language": "python",
   "name": "python3"
  },
  "language_info": {
   "codemirror_mode": {
    "name": "ipython",
    "version": 2
   },
   "file_extension": ".py",
   "mimetype": "text/x-python",
   "name": "python",
   "nbconvert_exporter": "python",
   "pygments_lexer": "ipython2",
   "version": "2.7.6"
  }
 },
 "nbformat": 4,
 "nbformat_minor": 5
}
