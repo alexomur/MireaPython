{
 "cells": [
  {
   "cell_type": "code",
   "execution_count": null,
   "id": "initial_id",
   "metadata": {
    "collapsed": true
   },
   "outputs": [],
   "source": [
    ""
   ]
  },
  {
   "metadata": {
    "ExecuteTime": {
     "end_time": "2025-02-11T06:44:43.508413Z",
     "start_time": "2025-02-11T06:44:43.503369Z"
    }
   },
   "cell_type": "code",
   "source": [
    "from decimal import Decimal\n",
    "\n",
    "a = 10\n",
    "while a != 0:\n",
    " a -= Decimal(\"0.1\")\n",
    " print(a)"
   ],
   "id": "c2db5185af2669f6",
   "outputs": [
    {
     "name": "stdout",
     "output_type": "stream",
     "text": [
      "9.9\n",
      "9.8\n",
      "9.7\n",
      "9.6\n",
      "9.5\n",
      "9.4\n",
      "9.3\n",
      "9.2\n",
      "9.1\n",
      "9.0\n",
      "8.9\n",
      "8.8\n",
      "8.7\n",
      "8.6\n",
      "8.5\n",
      "8.4\n",
      "8.3\n",
      "8.2\n",
      "8.1\n",
      "8.0\n",
      "7.9\n",
      "7.8\n",
      "7.7\n",
      "7.6\n",
      "7.5\n",
      "7.4\n",
      "7.3\n",
      "7.2\n",
      "7.1\n",
      "7.0\n",
      "6.9\n",
      "6.8\n",
      "6.7\n",
      "6.6\n",
      "6.5\n",
      "6.4\n",
      "6.3\n",
      "6.2\n",
      "6.1\n",
      "6.0\n",
      "5.9\n",
      "5.8\n",
      "5.7\n",
      "5.6\n",
      "5.5\n",
      "5.4\n",
      "5.3\n",
      "5.2\n",
      "5.1\n",
      "5.0\n",
      "4.9\n",
      "4.8\n",
      "4.7\n",
      "4.6\n",
      "4.5\n",
      "4.4\n",
      "4.3\n",
      "4.2\n",
      "4.1\n",
      "4.0\n",
      "3.9\n",
      "3.8\n",
      "3.7\n",
      "3.6\n",
      "3.5\n",
      "3.4\n",
      "3.3\n",
      "3.2\n",
      "3.1\n",
      "3.0\n",
      "2.9\n",
      "2.8\n",
      "2.7\n",
      "2.6\n",
      "2.5\n",
      "2.4\n",
      "2.3\n",
      "2.2\n",
      "2.1\n",
      "2.0\n",
      "1.9\n",
      "1.8\n",
      "1.7\n",
      "1.6\n",
      "1.5\n",
      "1.4\n",
      "1.3\n",
      "1.2\n",
      "1.1\n",
      "1.0\n",
      "0.9\n",
      "0.8\n",
      "0.7\n",
      "0.6\n",
      "0.5\n",
      "0.4\n",
      "0.3\n",
      "0.2\n",
      "0.1\n",
      "0.0\n"
     ]
    }
   ],
   "execution_count": 4
  },
  {
   "metadata": {
    "ExecuteTime": {
     "end_time": "2025-02-11T06:48:15.554337Z",
     "start_time": "2025-02-11T06:48:15.550697Z"
    }
   },
   "cell_type": "code",
   "source": "(1 * 2 + 0) * -1",
   "id": "aeca5b2cb7467ae5",
   "outputs": [
    {
     "data": {
      "text/plain": [
       "-2"
      ]
     },
     "execution_count": 6,
     "metadata": {},
     "output_type": "execute_result"
    }
   ],
   "execution_count": 6
  },
  {
   "metadata": {
    "ExecuteTime": {
     "end_time": "2025-02-11T07:09:57.314943Z",
     "start_time": "2025-02-11T07:09:57.311281Z"
    }
   },
   "cell_type": "code",
   "source": [
    "a = 1\n",
    "b = 1\n",
    "b = b + b\n",
    "b = b + b\n",
    "b = b + b\n",
    "a = a - b\n",
    "b = b - a\n",
    "a, b"
   ],
   "id": "5adae29dcfe8edcc",
   "outputs": [
    {
     "data": {
      "text/plain": [
       "(-7, 15)"
      ]
     },
     "execution_count": 36,
     "metadata": {},
     "output_type": "execute_result"
    }
   ],
   "execution_count": 36
  },
  {
   "metadata": {
    "ExecuteTime": {
     "end_time": "2025-02-11T07:21:44.416860Z",
     "start_time": "2025-02-11T07:21:44.412110Z"
    }
   },
   "cell_type": "code",
   "source": [
    "def f(b: int, n: int, a: int):\n",
    "    first = 0\n",
    "    for j in range(n):\n",
    "        sum1 = 0\n",
    "        for c in range(b):\n",
    "            sum1 += ((34 * j + 41)**4 - 93 * (c + 79 + c**3)**5)\n",
    "        first += sum1\n",
    "    \n",
    "    second = 1\n",
    "    for k in range(a):\n",
    "        sum2 = 0\n",
    "        for c in range(b):\n",
    "            sum2 += (22 * (c - 8)**5 - k**4)\n",
    "        second *= sum2\n",
    "        \n",
    "    return first - second\n",
    "    \n",
    "f(2, 2, 6) "
   ],
   "id": "52af686b61dfcaed",
   "outputs": [
    {
     "data": {
      "text/plain": [
       "-1686132718587635199038964803859216028"
      ]
     },
     "execution_count": 47,
     "metadata": {},
     "output_type": "execute_result"
    }
   ],
   "execution_count": 47
  },
  {
   "metadata": {
    "ExecuteTime": {
     "end_time": "2025-02-11T08:29:03.269866Z",
     "start_time": "2025-02-11T08:23:24.958153Z"
    }
   },
   "cell_type": "code",
   "source": [
    "import math\n",
    "import tkinter as tk\n",
    "def pyshader(func, w, h):\n",
    "    scr = bytearray((0, 0, 0) * w * h)\n",
    "    for y in range(h):\n",
    "        for x in range(w):\n",
    "            p = (w * y + x) * 3\n",
    "            scr[p:p + 3] = [max(min(int(c * 255), 255), 0)\n",
    "            for c in func(x / w, y / h)]\n",
    "            return bytes('P6\\n%d %d\\n255\\n' % (w, h), 'ascii') + scr\n",
    "        \n",
    "# Ваш код здесь:\n",
    "def func(x, y):\n",
    "    return x, y, 1\n",
    "\n",
    "label = tk.Label()\n",
    "img = tk.PhotoImage(data=pyshader(func, 256, 256)).zoom(2, 2)\n",
    "label.pack()\n",
    "label.config(image=img)\n",
    "tk.mainloop()"
   ],
   "id": "f11cec04666352a0",
   "outputs": [],
   "execution_count": 4
  }
 ],
 "metadata": {
  "kernelspec": {
   "display_name": "Python 3",
   "language": "python",
   "name": "python3"
  },
  "language_info": {
   "codemirror_mode": {
    "name": "ipython",
    "version": 2
   },
   "file_extension": ".py",
   "mimetype": "text/x-python",
   "name": "python",
   "nbconvert_exporter": "python",
   "pygments_lexer": "ipython2",
   "version": "2.7.6"
  }
 },
 "nbformat": 4,
 "nbformat_minor": 5
}
