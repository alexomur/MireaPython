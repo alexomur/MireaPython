{
 "cells": [
  {
   "cell_type": "code",
   "id": "initial_id",
   "metadata": {
    "collapsed": true,
    "ExecuteTime": {
     "end_time": "2025-04-01T06:54:23.720387Z",
     "start_time": "2025-04-01T06:54:23.714272Z"
    }
   },
   "source": [
    "# 1.1\n",
    "\n",
    "class MyClass:\n",
    "    def __init__(self):\n",
    "        self.a = 10\n",
    "        self.b = 20\n",
    "        self.__hidden = 0\n",
    "\n",
    "obj = MyClass()\n",
    "for name in dir(obj):\n",
    "    if not (name.startswith('__') and name.endswith('__')):\n",
    "        if not callable(getattr(obj, name)):\n",
    "            print(name)\n"
   ],
   "outputs": [
    {
     "name": "stdout",
     "output_type": "stream",
     "text": [
      "_MyClass__hidden\n",
      "a\n",
      "b\n"
     ]
    }
   ],
   "execution_count": 1
  },
  {
   "metadata": {
    "ExecuteTime": {
     "end_time": "2025-04-01T06:55:53.286498Z",
     "start_time": "2025-04-01T06:55:53.282002Z"
    }
   },
   "cell_type": "code",
   "source": [
    "#1.2\n",
    "\n",
    "class MyClass:\n",
    "    def hello(self):\n",
    "        print(\"Hello, world!\")\n",
    "\n",
    "obj = MyClass()\n",
    "method_name = \"hello\"\n",
    "getattr(obj, method_name)()\n"
   ],
   "id": "847bb3cbdc499e7c",
   "outputs": [
    {
     "name": "stdout",
     "output_type": "stream",
     "text": [
      "Hello, world!\n"
     ]
    }
   ],
   "execution_count": 2
  },
  {
   "metadata": {
    "ExecuteTime": {
     "end_time": "2025-04-01T06:56:15.585024Z",
     "start_time": "2025-04-01T06:56:15.581998Z"
    }
   },
   "cell_type": "code",
   "source": [
    "class A:\n",
    "    pass\n",
    "\n",
    "class B(A):\n",
    "    pass\n",
    "\n",
    "class C(B):\n",
    "    pass\n"
   ],
   "id": "1ec6cecbf90ca359",
   "outputs": [],
   "execution_count": 3
  }
 ],
 "metadata": {
  "kernelspec": {
   "display_name": "Python 3",
   "language": "python",
   "name": "python3"
  },
  "language_info": {
   "codemirror_mode": {
    "name": "ipython",
    "version": 2
   },
   "file_extension": ".py",
   "mimetype": "text/x-python",
   "name": "python",
   "nbconvert_exporter": "python",
   "pygments_lexer": "ipython2",
   "version": "2.7.6"
  }
 },
 "nbformat": 4,
 "nbformat_minor": 5
}
