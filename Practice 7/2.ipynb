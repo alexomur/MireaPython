{
 "cells": [
  {
   "metadata": {
    "ExecuteTime": {
     "end_time": "2025-04-01T06:58:33.413485Z",
     "start_time": "2025-04-01T06:58:33.406938Z"
    }
   },
   "cell_type": "code",
   "source": [
    "class MyDict:\n",
    "    def __init__(self):\n",
    "        self._data = []  # (hash, key, value)\n",
    "    \n",
    "    def __setitem__(self, key, value):\n",
    "        h = hash(key)\n",
    "        for idx, (h_item, k, v) in enumerate(self._data):\n",
    "            if h_item == h and k == key:\n",
    "                self._data[idx] = (h, key, value)\n",
    "                return\n",
    "        self._data.append((h, key, value))\n",
    "    \n",
    "    def __getitem__(self, key):\n",
    "        h = hash(key)\n",
    "        for h_item, k, v in self._data:\n",
    "            if h_item == h and k == key:\n",
    "                return v\n",
    "        raise KeyError(key)\n",
    "    \n",
    "    def __len__(self):\n",
    "        return len(self._data)\n",
    "\n",
    "\n",
    "d = MyDict()\n",
    "d['apple'] = 10\n",
    "d['banana'] = 20\n",
    "print(d['apple'])\n",
    "print(len(d))\n",
    "\n",
    "try:\n",
    "    print(d['cherry'])\n",
    "except KeyError:\n",
    "    print(\"Ключ 'cherry' не найден\")\n"
   ],
   "id": "2f15b58b6714faa1",
   "outputs": [
    {
     "name": "stdout",
     "output_type": "stream",
     "text": [
      "10\n",
      "2\n",
      "Ключ 'cherry' не найден\n"
     ]
    }
   ],
   "execution_count": 1
  }
 ],
 "metadata": {
  "kernelspec": {
   "display_name": "Python 3",
   "language": "python",
   "name": "python3"
  },
  "language_info": {
   "codemirror_mode": {
    "name": "ipython",
    "version": 2
   },
   "file_extension": ".py",
   "mimetype": "text/x-python",
   "name": "python",
   "nbconvert_exporter": "python",
   "pygments_lexer": "ipython2",
   "version": "2.7.6"
  }
 },
 "nbformat": 4,
 "nbformat_minor": 5
}
