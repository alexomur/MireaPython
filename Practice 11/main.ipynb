{
 "cells": [
  {
   "cell_type": "code",
   "id": "initial_id",
   "metadata": {
    "collapsed": true,
    "ExecuteTime": {
     "end_time": "2025-04-29T07:57:53.249166Z",
     "start_time": "2025-04-29T07:57:53.243073Z"
    }
   },
   "source": [
    "import deal\n",
    "import math\n",
    "from typing import List\n",
    "\n",
    "distance_function = deal.chain(\n",
    "    deal.pre(\n",
    "        lambda a, b:\n",
    "            a is not None and b is not None\n",
    "            and isinstance(a, (list, tuple)) and isinstance(b, (list, tuple))\n",
    "            and 0 < len(a) == len(b)\n",
    "            and all(isinstance(x, (int, float)) for x in a)\n",
    "            and all(isinstance(y, (int, float)) for y in b)\n",
    "    ),\n",
    "    deal.post(lambda r: isinstance(r, (int, float))),\n",
    "    deal.post(lambda r: r >= 0),\n",
    "    deal.pure\n",
    ")\n",
    "\n",
    "@distance_function\n",
    "def euclidean_distance(a: List[float], b: List[float]) -> float:\n",
    "    return math.sqrt(sum((yi - xi) ** 2 for xi, yi in zip(a, b)))\n",
    "\n",
    "@distance_function\n",
    "def manhattan_distance(a: List[float], b: List[float]) -> float:\n",
    "    return sum(abs(yi - xi) for xi, yi in zip(a, b))\n"
   ],
   "outputs": [],
   "execution_count": 8
  },
  {
   "metadata": {
    "ExecuteTime": {
     "end_time": "2025-04-29T07:58:11.968204Z",
     "start_time": "2025-04-29T07:58:11.963021Z"
    }
   },
   "cell_type": "code",
   "source": [
    "from hypothesis import given, strategies as st\n",
    "import pytest\n",
    "\n",
    "@st.composite\n",
    "def list_pairs(draw):\n",
    "    length = draw(st.integers(min_value=1, max_value=10))\n",
    "    floats = st.floats(allow_nan=False, allow_infinity=False)\n",
    "    a = draw(st.lists(floats, min_size=length, max_size=length))\n",
    "    b = draw(st.lists(floats, min_size=length, max_size=length))\n",
    "    return a, b\n",
    "\n",
    "@given(list_pairs())\n",
    "def test_commutativity_euclidean(pair):\n",
    "    print(pair)\n",
    "    a, b = pair\n",
    "    assert euclidean_distance(a, b) == pytest.approx(euclidean_distance(b, a))\n",
    "\n",
    "@given(list_pairs())\n",
    "def test_commutativity_manhattan(pair):\n",
    "    a, b = pair\n",
    "    assert manhattan_distance(a, b) == manhattan_distance(b, a)"
   ],
   "id": "12a6a0d0467faf4f",
   "outputs": [],
   "execution_count": 9
  },
  {
   "metadata": {
    "ExecuteTime": {
     "end_time": "2025-04-29T07:58:15.109552Z",
     "start_time": "2025-04-29T07:58:15.097304Z"
    }
   },
   "cell_type": "code",
   "source": "",
   "id": "929408df3fa4a981",
   "outputs": [
    {
     "name": "stdout",
     "output_type": "stream",
     "text": [
      "Trying:\n",
      "    with raises(ZeroDivisionError):\n",
      "        1 / 0\n",
      "Expecting nothing\n",
      "**********************************************************************\n",
      "File \"__main__\", line 6, in __main__.raises\n",
      "Failed example:\n",
      "    with raises(ZeroDivisionError):\n",
      "        1 / 0\n",
      "Expected nothing\n",
      "Got:\n",
      "    Excepted: division by zero\n",
      "6 items had no tests:\n",
      "    __main__\n",
      "    __main__.euclidean_distance\n",
      "    __main__.list_pairs\n",
      "    __main__.manhattan_distance\n",
      "    __main__.test_commutativity_euclidean\n",
      "    __main__.test_commutativity_manhattan\n",
      "**********************************************************************\n",
      "1 item had failures:\n",
      "   1 of   1 in __main__.raises\n",
      "1 test in 7 items.\n",
      "0 passed and 1 failed.\n",
      "***Test Failed*** 1 failure.\n"
     ]
    },
    {
     "data": {
      "text/plain": [
       "TestResults(failed=1, attempted=1)"
      ]
     },
     "execution_count": 10,
     "metadata": {},
     "output_type": "execute_result"
    }
   ],
   "execution_count": 10
  }
 ],
 "metadata": {
  "kernelspec": {
   "display_name": "Python 3",
   "language": "python",
   "name": "python3"
  },
  "language_info": {
   "codemirror_mode": {
    "name": "ipython",
    "version": 2
   },
   "file_extension": ".py",
   "mimetype": "text/x-python",
   "name": "python",
   "nbconvert_exporter": "python",
   "pygments_lexer": "ipython2",
   "version": "2.7.6"
  }
 },
 "nbformat": 4,
 "nbformat_minor": 5
}
