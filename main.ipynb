{
 "cells": [
  {
   "cell_type": "code",
   "id": "initial_id",
   "metadata": {
    "collapsed": true,
    "ExecuteTime": {
     "end_time": "2025-04-15T06:13:30.113880Z",
     "start_time": "2025-04-15T06:13:30.109122Z"
    }
   },
   "source": [
    "import ast\n",
    "\n",
    "x = 2\n",
    "y = 5\n",
    "\n",
    "((x-3) - (x // 9 if y <= 1 else x >> 7)) + 7"
   ],
   "outputs": [
    {
     "data": {
      "text/plain": [
       "6"
      ]
     },
     "execution_count": 2,
     "metadata": {},
     "output_type": "execute_result"
    }
   ],
   "execution_count": 2
  },
  {
   "metadata": {
    "ExecuteTime": {
     "end_time": "2025-04-15T06:15:58.521405Z",
     "start_time": "2025-04-15T06:15:58.515513Z"
    }
   },
   "cell_type": "code",
   "source": [
    "x = 1\n",
    "y = 3\n",
    "\n",
    "(((7 if y <= 8 else x - 7) + 4) - (y if y < 8 else y | 6)) - (x if y >= 1 else y)"
   ],
   "id": "b17ce8873af975cc",
   "outputs": [
    {
     "data": {
      "text/plain": [
       "7"
      ]
     },
     "execution_count": 3,
     "metadata": {},
     "output_type": "execute_result"
    }
   ],
   "execution_count": 3
  },
  {
   "metadata": {
    "ExecuteTime": {
     "end_time": "2025-04-15T06:18:57.405246Z",
     "start_time": "2025-04-15T06:18:57.401044Z"
    }
   },
   "cell_type": "code",
   "source": [
    "x = 4\n",
    "y = 2\n",
    "\n",
    "(((x << 9) - (4 if x < 3 else y)) - (x << 8)) + (x | 3)"
   ],
   "id": "950e95568cc62034",
   "outputs": [
    {
     "data": {
      "text/plain": [
       "1029"
      ]
     },
     "execution_count": 4,
     "metadata": {},
     "output_type": "execute_result"
    }
   ],
   "execution_count": 4
  },
  {
   "metadata": {
    "ExecuteTime": {
     "end_time": "2025-04-15T06:21:20.848950Z",
     "start_time": "2025-04-15T06:21:20.843101Z"
    }
   },
   "cell_type": "code",
   "source": [
    "x = 1\n",
    "y = 2\n",
    "\n",
    "((x % 5) + (y if x >= 9 else 6)) - (7 if y <= 3 else y) + 10"
   ],
   "id": "87b4726d555d6c84",
   "outputs": [
    {
     "data": {
      "text/plain": [
       "10"
      ]
     },
     "execution_count": 5,
     "metadata": {},
     "output_type": "execute_result"
    }
   ],
   "execution_count": 5
  },
  {
   "metadata": {
    "ExecuteTime": {
     "end_time": "2025-04-15T06:22:10.016614Z",
     "start_time": "2025-04-15T06:22:10.010994Z"
    }
   },
   "cell_type": "code",
   "source": [
    "x = 1\n",
    "y = 1\n",
    "\n",
    "(6 - x) + (y << 3) + y"
   ],
   "id": "2b9f0f3867a4e213",
   "outputs": [
    {
     "data": {
      "text/plain": [
       "14"
      ]
     },
     "execution_count": 6,
     "metadata": {},
     "output_type": "execute_result"
    }
   ],
   "execution_count": 6
  },
  {
   "metadata": {
    "ExecuteTime": {
     "end_time": "2025-04-15T06:29:01.056618Z",
     "start_time": "2025-04-15T06:29:01.050273Z"
    }
   },
   "cell_type": "code",
   "source": [
    "import ast\n",
    "from ast import *\n",
    "\n",
    "tree = Module(\n",
    "  body=[\n",
    "    Expr(\n",
    "      value=BinOp(\n",
    "        left=IfExp(\n",
    "          test=Compare(\n",
    "            left=Name(id='x', ctx=Load()),\n",
    "            ops=[\n",
    "              LtE()],\n",
    "            comparators=[\n",
    "              Constant(value=4)]),\n",
    "          body=Constant(value=5),\n",
    "          orelse=BinOp(\n",
    "            left=Name(id='y', ctx=Load()),\n",
    "            op=BitOr(),\n",
    "            right=Constant(value=5))),\n",
    "        op=Add(),\n",
    "        right=IfExp(\n",
    "          test=Compare(\n",
    "            left=Name(id='y', ctx=Load()),\n",
    "            ops=[\n",
    "              LtE()],\n",
    "            comparators=[\n",
    "              Constant(value=3)]),\n",
    "          body=BinOp(\n",
    "            left=Name(id='x', ctx=Load()),\n",
    "            op=Mod(),\n",
    "            right=Constant(value=4)),\n",
    "          orelse=Constant(value=3))))],\n",
    "  type_ignores=[])\n",
    "\n",
    "x = 1\n",
    "y = 5\n",
    "\n",
    "eval(ast.unparse(tree))"
   ],
   "id": "f3fac33c31a17500",
   "outputs": [
    {
     "data": {
      "text/plain": [
       "8"
      ]
     },
     "execution_count": 14,
     "metadata": {},
     "output_type": "execute_result"
    }
   ],
   "execution_count": 14
  },
  {
   "metadata": {
    "ExecuteTime": {
     "end_time": "2025-04-15T06:26:39.961902Z",
     "start_time": "2025-04-15T06:26:39.956545Z"
    }
   },
   "cell_type": "code",
   "source": [
    "import ast\n",
    "from ast import *\n",
    "\n",
    "tree = Module(\n",
    "  body=[\n",
    "    Expr(\n",
    "      value=BinOp(\n",
    "        left=IfExp(\n",
    "          test=Compare(\n",
    "            left=Name(id='x', ctx=Load()),\n",
    "            ops=[\n",
    "              Gt()],\n",
    "            comparators=[\n",
    "              Constant(value=2)]),\n",
    "          body=Name(id='x', ctx=Load()),\n",
    "          orelse=BinOp(\n",
    "            left=Name(id='y', ctx=Load()),\n",
    "            op=FloorDiv(),\n",
    "            right=Constant(value=4))),\n",
    "        op=Add(),\n",
    "        right=IfExp(\n",
    "          test=Compare(\n",
    "            left=Name(id='y', ctx=Load()),\n",
    "            ops=[\n",
    "              GtE()],\n",
    "            comparators=[\n",
    "              Constant(value=4)]),\n",
    "          body=Constant(value=1),\n",
    "          orelse=BinOp(\n",
    "            left=Name(id='x', ctx=Load()),\n",
    "            op=BitAnd(),\n",
    "            right=Constant(value=3)))))],\n",
    "  type_ignores=[])\n",
    "\n",
    "x = 4\n",
    "y = 1\n",
    "\n",
    "eval(ast.unparse(tree))"
   ],
   "id": "1cc64d7f3c78ce49",
   "outputs": [
    {
     "data": {
      "text/plain": [
       "4"
      ]
     },
     "execution_count": 9,
     "metadata": {},
     "output_type": "execute_result"
    }
   ],
   "execution_count": 9
  }
 ],
 "metadata": {
  "kernelspec": {
   "display_name": "Python 3",
   "language": "python",
   "name": "python3"
  },
  "language_info": {
   "codemirror_mode": {
    "name": "ipython",
    "version": 2
   },
   "file_extension": ".py",
   "mimetype": "text/x-python",
   "name": "python",
   "nbconvert_exporter": "python",
   "pygments_lexer": "ipython2",
   "version": "2.7.6"
  }
 },
 "nbformat": 4,
 "nbformat_minor": 5
}
