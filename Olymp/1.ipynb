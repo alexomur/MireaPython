{
 "cells": [
  {
   "cell_type": "code",
   "id": "initial_id",
   "metadata": {
    "collapsed": true,
    "ExecuteTime": {
     "end_time": "2025-04-27T09:24:58.022378Z",
     "start_time": "2025-04-27T09:24:57.950709Z"
    }
   },
   "source": [
    "%load_ext pycodestyle_magic\n",
    "%pycodestyle_on"
   ],
   "outputs": [],
   "execution_count": 1
  },
  {
   "metadata": {
    "ExecuteTime": {
     "end_time": "2025-04-27T09:41:23.031605Z",
     "start_time": "2025-04-27T09:41:23.024449Z"
    }
   },
   "cell_type": "code",
   "source": [
    "from math import floor, ceil\n",
    "\n",
    "\n",
    "def main(P: set[int]) -> int:\n",
    "    s_o = {p % 2 - p for p in P if p > 76 or p < -20}\n",
    "    s_y = {floor(p / 2) for p in P if p < -73 or p > 32}\n",
    "    s_d = {o - v**3 for o in s_o for v in s_y if o >= v}\n",
    "\n",
    "    s_k = s_y | s_d\n",
    "    s_n = {ceil(d / 3) + ceil(d / 6) for d in s_d if (d < 90) ^ (d > -66)}\n",
    "\n",
    "    return len(s_k | s_n) + sum(s_n)\n"
   ],
   "id": "26a7b917f1a7b4e7",
   "outputs": [
    {
     "name": "stderr",
     "output_type": "stream",
     "text": [
      "5:5: E741 ambiguous variable name 'O'\n",
      "14:1: W391 blank line at end of file\n"
     ]
    }
   ],
   "execution_count": 11
  },
  {
   "metadata": {
    "ExecuteTime": {
     "end_time": "2025-04-27T09:52:29.841754Z",
     "start_time": "2025-04-27T09:52:29.833826Z"
    }
   },
   "cell_type": "code",
   "source": [
    "from math import floor, ceil\n",
    "\n",
    "\n",
    "def main(p_set: set[int]) -> int:\n",
    "    s_o: set[int] = set()\n",
    "    for p in p_set:\n",
    "        if p > 76 or p < -20:\n",
    "            s_o.add(p % 2 - p)\n",
    "    s_y: set[int] = set()\n",
    "    for p in p_set:\n",
    "        if p < -73 or p > 32:\n",
    "            s_y.add(floor(p / 2))\n",
    "    s_d: set[int] = set()\n",
    "    for o in s_o:\n",
    "        for v in s_y:\n",
    "            if o >= v:\n",
    "                s_d.add(o - v ** 3)\n",
    "    s_k = s_y.union(s_d)\n",
    "    s_n: set[int] = set()\n",
    "    for d in s_d:\n",
    "        if (d < 90) ^ (d > -66):\n",
    "            s_n.add(ceil(d / 3) + ceil(d / 6))\n",
    "    return len(s_k.union(s_n)) + sum(s_n)\n"
   ],
   "id": "f30b36061a345e84",
   "outputs": [
    {
     "name": "stderr",
     "output_type": "stream",
     "text": [
      "25:1: W391 blank line at end of file\n"
     ]
    }
   ],
   "execution_count": 20
  },
  {
   "metadata": {
    "ExecuteTime": {
     "end_time": "2025-04-27T09:51:58.337098Z",
     "start_time": "2025-04-27T09:51:58.330100Z"
    }
   },
   "cell_type": "code",
   "source": [
    "print(f\"main({{-55, -86, 17, 50, 52, 23, 22, 86, -5, -67}}) = {main({-55, -86, 17, 50, 52, 23, 22, 86, -5, -67})}\")\n",
    "print(f\"main({{36, -60, -97, 77, 79, 52, -11, -8, -71, 63}}) = {main({36, -60, -97, 77, 79, 52, -11, -8, -71, 63})}\")"
   ],
   "id": "cc9f62fe35e9a6e1",
   "outputs": [
    {
     "name": "stderr",
     "output_type": "stream",
     "text": [
      "1:80: E501 line too long (115 > 79 characters)\n",
      "2:80: E501 line too long (117 > 79 characters)\n",
      "3:1: W391 blank line at end of file\n"
     ]
    },
    {
     "name": "stdout",
     "output_type": "stream",
     "text": [
      "main({-55, -86, 17, 50, 52, 23, 22, 86, -5, -67}) = -49343\n",
      "main({36, -60, -97, 77, 79, 52, -11, -8, -71, 63}) = -73867\n"
     ]
    }
   ],
   "execution_count": 19
  }
 ],
 "metadata": {
  "kernelspec": {
   "display_name": "Python 3",
   "language": "python",
   "name": "python3"
  },
  "language_info": {
   "codemirror_mode": {
    "name": "ipython",
    "version": 2
   },
   "file_extension": ".py",
   "mimetype": "text/x-python",
   "name": "python",
   "nbconvert_exporter": "python",
   "pygments_lexer": "ipython2",
   "version": "2.7.6"
  }
 },
 "nbformat": 4,
 "nbformat_minor": 5
}
