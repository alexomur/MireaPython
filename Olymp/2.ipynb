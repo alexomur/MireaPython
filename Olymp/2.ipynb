{
 "cells": [
  {
   "cell_type": "code",
   "id": "initial_id",
   "metadata": {
    "collapsed": true,
    "ExecuteTime": {
     "end_time": "2025-04-27T09:55:38.097097Z",
     "start_time": "2025-04-27T09:55:38.062729Z"
    }
   },
   "source": [
    "%load_ext pycodestyle_magic\n",
    "%pycodestyle_on"
   ],
   "outputs": [],
   "execution_count": 1
  },
  {
   "metadata": {
    "ExecuteTime": {
     "end_time": "2025-04-27T09:59:08.062440Z",
     "start_time": "2025-04-27T09:59:08.055877Z"
    }
   },
   "cell_type": "code",
   "source": [
    "def main(s: dict[str, int]) -> str:\n",
    "    s1 = s['S1']\n",
    "    s2 = s['S2']\n",
    "    s3 = s['S3']\n",
    "    s4 = s['S4']\n",
    "    s5 = s['S5']\n",
    "    s6 = s['S6']\n",
    "\n",
    "    total = 0\n",
    "    total |= s1 << 0\n",
    "    total |= s2 << 10\n",
    "    total |= s3 << 17\n",
    "    total |= s4 << 25\n",
    "    total |= s5 << 33\n",
    "    total |= s6 << 34\n",
    "\n",
    "    return str(total)\n"
   ],
   "id": "64a460881f5ab048",
   "outputs": [
    {
     "name": "stderr",
     "output_type": "stream",
     "text": [
      "19:1: W391 blank line at end of file\n"
     ]
    }
   ],
   "execution_count": 4
  },
  {
   "metadata": {
    "ExecuteTime": {
     "end_time": "2025-04-27T11:00:56.577534Z",
     "start_time": "2025-04-27T11:00:56.570213Z"
    }
   },
   "cell_type": "code",
   "source": [
    "from functools import reduce\n",
    "from operator import or_\n",
    "from typing import Dict\n",
    "\n",
    "\n",
    "def main(fields: Dict[str, int]) -> str:\n",
    "    shifts = [\n",
    "        ('S1', 0),\n",
    "        ('S2', 10),\n",
    "        ('S3', 17),\n",
    "        ('S4', 25),\n",
    "        ('S5', 33),\n",
    "        ('S6', 34),\n",
    "    ]\n",
    "    total = reduce(\n",
    "        or_,\n",
    "        (fields[name] << pos for name, pos in shifts),\n",
    "        0\n",
    "    )\n",
    "    return str(total)\n"
   ],
   "id": "25071c1f137d98aa",
   "outputs": [
    {
     "name": "stderr",
     "output_type": "stream",
     "text": [
      "22:1: W391 blank line at end of file\n"
     ]
    }
   ],
   "execution_count": 15
  },
  {
   "metadata": {
    "ExecuteTime": {
     "end_time": "2025-04-27T10:15:46.676395Z",
     "start_time": "2025-04-27T10:15:46.663395Z"
    }
   },
   "cell_type": "code",
   "source": [
    "print(f'{main({'S1': 1014, 'S2': 122, 'S3': 136, 'S4': 166, 'S5': 1, 'S6': 0}) = }')\n",
    "print(f'{main({'S1': 473, 'S2': 51, 'S3': 126, 'S4': 133, 'S5': 1, 'S6': 0}) = }')\n",
    "print(f'{main({'S1': 824, 'S2': 88, 'S3': 45, 'S4': 81, 'S5': 0, 'S6': 0}) = }')\n",
    "print(f'{main({'S1': 65, 'S2': 43, 'S3': 177, 'S4': 101, 'S5': 0, 'S6': 0}) = }')"
   ],
   "id": "1a1cda50fabb712d",
   "outputs": [
    {
     "name": "stderr",
     "output_type": "stream",
     "text": [
      "1:79: E251 unexpected spaces around keyword / parameter equals\n",
      "1:80: E501 line too long (84 > 79 characters)\n",
      "1:81: E202 whitespace before '}'\n",
      "1:81: E251 unexpected spaces around keyword / parameter equals\n",
      "2:77: E251 unexpected spaces around keyword / parameter equals\n",
      "2:79: E202 whitespace before '}'\n",
      "2:79: E251 unexpected spaces around keyword / parameter equals\n",
      "2:80: E501 line too long (82 > 79 characters)\n",
      "3:75: E251 unexpected spaces around keyword / parameter equals\n",
      "3:77: E202 whitespace before '}'\n",
      "3:77: E251 unexpected spaces around keyword / parameter equals\n",
      "3:80: E501 line too long (80 > 79 characters)\n",
      "4:76: E251 unexpected spaces around keyword / parameter equals\n",
      "4:78: E202 whitespace before '}'\n",
      "4:78: E251 unexpected spaces around keyword / parameter equals\n",
      "4:80: E501 line too long (81 > 79 characters)\n",
      "5:1: W391 blank line at end of file\n"
     ]
    },
    {
     "name": "stdout",
     "output_type": "stream",
     "text": [
      "main({'S1': 1014, 'S2': 122, 'S3': 136, 'S4': 166, 'S5': 1, 'S6': 0}) = '14177922038'\n",
      "main({'S1': 473, 'S2': 51, 'S3': 126, 'S4': 133, 'S5': 1, 'S6': 0}) = '13069241817'\n",
      "main({'S1': 824, 'S2': 88, 'S3': 45, 'S4': 81, 'S5': 0, 'S6': 0}) = '2723898168'\n",
      "main({'S1': 65, 'S2': 43, 'S3': 177, 'S4': 101, 'S5': 0, 'S6': 0}) = '3412241473'\n"
     ]
    }
   ],
   "execution_count": 14
  }
 ],
 "metadata": {
  "kernelspec": {
   "display_name": "Python 3",
   "language": "python",
   "name": "python3"
  },
  "language_info": {
   "codemirror_mode": {
    "name": "ipython",
    "version": 2
   },
   "file_extension": ".py",
   "mimetype": "text/x-python",
   "name": "python",
   "nbconvert_exporter": "python",
   "pygments_lexer": "ipython2",
   "version": "2.7.6"
  }
 },
 "nbformat": 4,
 "nbformat_minor": 5
}
