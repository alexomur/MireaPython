{
 "cells": [
  {
   "metadata": {
    "ExecuteTime": {
     "end_time": "2025-04-27T10:24:59.793438Z",
     "start_time": "2025-04-27T10:24:59.759155Z"
    }
   },
   "cell_type": "code",
   "source": [
    "%load_ext pycodestyle_magic\n",
    "%pycodestyle_on"
   ],
   "id": "448a7b65e74fb6e",
   "outputs": [],
   "execution_count": 1
  },
  {
   "cell_type": "code",
   "id": "initial_id",
   "metadata": {
    "collapsed": true,
    "ExecuteTime": {
     "end_time": "2025-04-27T14:19:57.617505Z",
     "start_time": "2025-04-27T14:19:57.602349Z"
    }
   },
   "source": [
    "import re\n",
    "from typing import List, Optional, Tuple\n",
    "\n",
    "\n",
    "def normalize_rows(\n",
    "    table: List[List[Optional[str]]]\n",
    ") -> List[List[Optional[str]]]:\n",
    "    max_cols = max((len(r) for r in table), default=0)\n",
    "    return [row + [None] * (max_cols - len(row)) for row in table]\n",
    "\n",
    "\n",
    "def remove_duplicate_columns(\n",
    "    table: List[List[Optional[str]]]\n",
    ") -> List[List[Optional[str]]]:\n",
    "    if not table:\n",
    "        return []\n",
    "    seen: set = set()\n",
    "    keep_idxs: List[int] = []\n",
    "    for j in range(len(table[0])):\n",
    "        col = tuple(row[j] for row in table)\n",
    "        if col not in seen:\n",
    "            seen.add(col)\n",
    "            keep_idxs.append(j)\n",
    "    return [[row[j] for j in keep_idxs] for row in table]\n",
    "\n",
    "\n",
    "def remove_empty_rows(\n",
    "    table: List[List[Optional[str]]]\n",
    ") -> List[List[Optional[str]]]:\n",
    "    return [row for row in table if any(cell is not None for cell in row)]\n",
    "\n",
    "\n",
    "def remove_duplicate_rows(\n",
    "    table: List[List[Optional[str]]]\n",
    ") -> List[List[Optional[str]]]:\n",
    "    seen: set = set()\n",
    "    unique: List[List[Optional[str]]] = []\n",
    "    for row in table:\n",
    "        key: Tuple[Optional[str], ...] = tuple(row)\n",
    "        if key not in seen:\n",
    "            seen.add(key)\n",
    "            unique.append(row)\n",
    "    return unique\n",
    "\n",
    "\n",
    "def transform_cell(cell: Optional[str]) -> str:\n",
    "    if cell is None:\n",
    "        return ''\n",
    "    if re.fullmatch(r'\\d{2}/\\d{2}/\\d{2}', cell):\n",
    "        d, m, y = cell.split('/')\n",
    "        return f'{y}.{m}.{d}'\n",
    "    low = cell.lower()\n",
    "    if low in ('да', 'нет'):\n",
    "        return low\n",
    "    if ',' in cell:\n",
    "        return cell.split(',', 1)[0]\n",
    "    if re.fullmatch(r'-?\\d+(?:\\.\\d+)?', cell):\n",
    "        return str(int(round(float(cell))))\n",
    "    return cell\n",
    "\n",
    "\n",
    "def transform_cells(\n",
    "    table: List[List[Optional[str]]]\n",
    ") -> List[List[str]]:\n",
    "    return [\n",
    "        [transform_cell(cell) for cell in row]\n",
    "        for row in table\n",
    "    ]\n",
    "\n",
    "\n",
    "def transpose(table: List[List[str]]) -> List[List[str]]:\n",
    "    return [list(col) for col in zip(*table)]\n",
    "\n",
    "\n",
    "def main(table: List[List[Optional[str]]]) -> List[List[str]]:\n",
    "    if not table:\n",
    "        return []\n",
    "\n",
    "    step1 = normalize_rows(table)\n",
    "    step2 = remove_duplicate_columns(step1)\n",
    "    step3 = remove_empty_rows(step2)\n",
    "    step4 = remove_duplicate_rows(step3)\n",
    "    step5 = transform_cells(step4)\n",
    "    return transpose(step5)\n"
   ],
   "outputs": [
    {
     "name": "stderr",
     "output_type": "stream",
     "text": [
      "86:1: W391 blank line at end of file\n"
     ]
    }
   ],
   "execution_count": 133
  },
  {
   "metadata": {
    "ExecuteTime": {
     "end_time": "2025-04-27T14:20:56.418577Z",
     "start_time": "2025-04-27T14:20:56.410737Z"
    }
   },
   "cell_type": "code",
   "source": [
    "import json\n",
    "import re\n",
    "from typing import List, Optional\n",
    "\n",
    "\n",
    "def main(table: List[List[Optional[str]]]) -> List[List[str]]:\n",
    "    if not table:\n",
    "        return []\n",
    "    s = json.dumps(table, ensure_ascii=False).replace('null', '\"\"')\n",
    "    s = re.sub(\n",
    "        r'\"(\\d{2})/(\\d{2})/(\\d{2})\"',\n",
    "        lambda m: f'\"{m.group(3)}.{m.group(2)}.{m.group(1)}\"',\n",
    "        s\n",
    "    )\n",
    "    s = s.replace('\"Да\"', '\"да\"').replace('\"Нет\"', '\"нет\"')\n",
    "    s = re.sub(r'\"(\\w+),[^\"]+\"', r'\"\\1\"', s)\n",
    "    s = re.sub(\n",
    "        r'\"(-?\\d+\\.\\d+)\"',\n",
    "        lambda m: f'\"{int(round(float(m.group(1))))}\"',\n",
    "        s\n",
    "    )\n",
    "    loaded = json.loads(s)\n",
    "    rows = list(dict.fromkeys(\n",
    "        tuple(r) for r in loaded if any(r)\n",
    "    ))\n",
    "    cols = list(dict.fromkeys(zip(*rows)))\n",
    "    return [list(c) for c in cols]\n"
   ],
   "id": "72a38333d3f7fcb3",
   "outputs": [
    {
     "name": "stderr",
     "output_type": "stream",
     "text": [
      "28:1: W391 blank line at end of file\n"
     ]
    }
   ],
   "execution_count": 136
  },
  {
   "metadata": {
    "ExecuteTime": {
     "end_time": "2025-04-27T15:01:20.165154Z",
     "start_time": "2025-04-27T15:01:20.156306Z"
    }
   },
   "cell_type": "code",
   "source": "",
   "id": "f0a57c26f7c91855",
   "outputs": [
    {
     "name": "stderr",
     "output_type": "stream",
     "text": [
      "27:1: W391 blank line at end of file\n"
     ]
    }
   ],
   "execution_count": 138
  },
  {
   "metadata": {
    "ExecuteTime": {
     "end_time": "2025-04-27T13:53:44.917123Z",
     "start_time": "2025-04-27T13:53:44.905734Z"
    }
   },
   "cell_type": "code",
   "source": "",
   "id": "c1c67677ca70caa8",
   "outputs": [
    {
     "name": "stderr",
     "output_type": "stream",
     "text": [
      "30:1: W391 blank line at end of file\n"
     ]
    }
   ],
   "execution_count": 91
  },
  {
   "metadata": {
    "ExecuteTime": {
     "end_time": "2025-04-27T14:20:57.471845Z",
     "start_time": "2025-04-27T14:20:57.464040Z"
    }
   },
   "cell_type": "code",
   "source": [
    "if __name__ == '__main__':\n",
    "    data1 = [\n",
    "        ['Зузошяк, Р.А.', 'Да', 'Да', '02/10/18'],\n",
    "        ['Дуфян, Р.Е.', 'Нет', 'Нет', '00/06/21'],\n",
    "        ['Гарабич, Р.З.', 'Да', 'Да', '00/01/01'],\n",
    "        ['Нафирий, М.Е.', 'Да', 'Да', '04/11/26'],\n",
    "        ['Нафирий, М.Е.', 'Да', 'Да', '04/11/26'],\n",
    "        ['Нафирий, М.Е.', 'Да', 'Да', '04/11/26'],\n",
    "    ]\n",
    "    print(main(data1))\n",
    "\n",
    "    data2 = [\n",
    "        ['Гемарян, Р.И.', 'Да', 'Да', '00/01/05'],\n",
    "        ['Гемарян, Р.И.', 'Да', 'Да', '00/01/05'],\n",
    "        ['Мисафберг, Р.Ц.', 'Да', 'Да', '99/12/24'],\n",
    "        ['Гегов, С.З.', 'Да', 'Да', '04/01/25'],\n",
    "        ['Гемарян, Р.И.', 'Да', 'Да', '00/01/05'],\n",
    "    ]\n",
    "    print(main(data2))\n"
   ],
   "id": "5a855dd2031efa11",
   "outputs": [
    {
     "name": "stderr",
     "output_type": "stream",
     "text": [
      "21:1: W391 blank line at end of file\n"
     ]
    },
    {
     "name": "stdout",
     "output_type": "stream",
     "text": [
      "[['Зузошяк', 'Дуфян', 'Гарабич', 'Нафирий'], ['да', 'нет', 'да', 'да'], ['18.10.02', '21.06.00', '01.01.00', '26.11.04']]\n",
      "[['Гемарян', 'Мисафберг', 'Гегов'], ['да', 'да', 'да'], ['05.01.00', '24.12.99', '25.01.04']]\n"
     ]
    }
   ],
   "execution_count": 137
  }
 ],
 "metadata": {
  "kernelspec": {
   "display_name": "Python 3",
   "language": "python",
   "name": "python3"
  },
  "language_info": {
   "codemirror_mode": {
    "name": "ipython",
    "version": 2
   },
   "file_extension": ".py",
   "mimetype": "text/x-python",
   "name": "python",
   "nbconvert_exporter": "python",
   "pygments_lexer": "ipython2",
   "version": "2.7.6"
  }
 },
 "nbformat": 4,
 "nbformat_minor": 5
}
