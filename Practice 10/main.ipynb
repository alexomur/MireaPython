{
 "cells": [
  {
   "cell_type": "code",
   "id": "initial_id",
   "metadata": {
    "collapsed": true,
    "ExecuteTime": {
     "end_time": "2025-04-22T08:20:21.140623Z",
     "start_time": "2025-04-22T08:20:21.129642Z"
    }
   },
   "source": [
    "from time import sleep\n",
    "\n",
    "\n",
    "def find_word(text: str, word: str) -> int:\n",
    "    \"\"\"\n",
    "    >>> find_word(\"hello world\", \"world\")\n",
    "    6\n",
    "    >>> find_word(\"В питоне очень... своебразное ООП\", \"хорошее\")\n",
    "    -1\n",
    "    >>> find_word(\"aaaaa\", \"aa\")\n",
    "    0\n",
    "    >>> find_word(\"\", \"a\")\n",
    "    -1\n",
    "    >>> find_word(\"a\", \"\")\n",
    "    0\n",
    "    \"\"\"\n",
    "    if word == \"\":\n",
    "        return 0\n",
    "\n",
    "    len_s, len_w = len(text), len(word)\n",
    "    if len_w > len_s:\n",
    "        return -1\n",
    "\n",
    "    for i in range(len_s - len_w + 1):\n",
    "        match = True\n",
    "        for j in range(len_w):\n",
    "            if text[i + j] != word[j]:\n",
    "                match = False\n",
    "                break\n",
    "        if match:\n",
    "            return i\n",
    "\n",
    "    return -1\n",
    "\n",
    "\n",
    "if __name__ == \"__main__\":\n",
    "    import doctest\n",
    "    doctest.run_docstring_examples(find_word, globals(),\n",
    "                                   name=\"find_word\", verbose=True)\n"
   ],
   "outputs": [
    {
     "name": "stdout",
     "output_type": "stream",
     "text": [
      "Finding tests in find_word\n",
      "Trying:\n",
      "    find_word(\"hello world\", \"world\")\n",
      "Expecting:\n",
      "    6\n",
      "ok\n",
      "Trying:\n",
      "    find_word(\"В питоне очень... своебразное ООП\", \"хорошее\")\n",
      "Expecting:\n",
      "    -1\n",
      "ok\n",
      "Trying:\n",
      "    find_word(\"aaaaa\", \"aa\")\n",
      "Expecting:\n",
      "    0\n",
      "ok\n",
      "Trying:\n",
      "    find_word(\"\", \"a\")\n",
      "Expecting:\n",
      "    -1\n",
      "ok\n",
      "Trying:\n",
      "    find_word(\"a\", \"\")\n",
      "Expecting:\n",
      "    0\n",
      "ok\n"
     ]
    }
   ],
   "execution_count": 13
  },
  {
   "metadata": {
    "ExecuteTime": {
     "end_time": "2025-04-22T07:39:15.584274Z",
     "start_time": "2025-04-22T07:39:15.576618Z"
    }
   },
   "cell_type": "code",
   "source": [
    "def find_word(text: str, word: str) -> list[int]:\n",
    "    \"\"\"\n",
    "    Возвращает список индексов всех вхождений слова w в строку s.\n",
    "    Перекрывающиеся вхождения учитываются.\n",
    "    Если w не найдено или w — пустая строка, возвращает пустой список.\n",
    "\n",
    "    >>> find_word(\"hello world\", \"l\")\n",
    "    [2, 3, 9]\n",
    "    >>> find_word(\"abababa\", \"aba\")\n",
    "    [0, 2, 4]\n",
    "    >>> find_word(\"abcdef\", \"gh\")\n",
    "    []\n",
    "    >>> find_word(\"aaaaa\", \"aa\")\n",
    "    [0, 1, 2, 3]\n",
    "    >>> find_word(\"\", \"a\")\n",
    "    []\n",
    "    >>> find_word(\"a\", \"\")\n",
    "    []\n",
    "    \"\"\"\n",
    "    len_s, len_w = len(text), len(word)\n",
    "    if len_w == 0 or len_w > len_s:\n",
    "        return []\n",
    "\n",
    "    result = []\n",
    "    for i in range(len_s - len_w + 1):\n",
    "        match = True\n",
    "        for j in range(len_w):\n",
    "            if text[i + j] != word[j]:\n",
    "                match = False\n",
    "                break\n",
    "        if match:\n",
    "            result.append(i)\n",
    "\n",
    "    return result\n",
    "\n",
    "\n",
    "if __name__ == \"__main__\":\n",
    "    import doctest\n",
    "    doctest.run_docstring_examples(find_word, globals(),\n",
    "                                   name=\"find_word\", verbose=True)\n"
   ],
   "id": "dc00adaffa1c11b4",
   "outputs": [
    {
     "name": "stdout",
     "output_type": "stream",
     "text": [
      "Finding tests in find_word\n",
      "Trying:\n",
      "    find_word(\"hello world\", \"l\")\n",
      "Expecting:\n",
      "    [2, 3, 9]\n",
      "ok\n",
      "Trying:\n",
      "    find_word(\"abababa\", \"aba\")\n",
      "Expecting:\n",
      "    [0, 2, 4]\n",
      "ok\n",
      "Trying:\n",
      "    find_word(\"abcdef\", \"gh\")\n",
      "Expecting:\n",
      "    []\n",
      "ok\n",
      "Trying:\n",
      "    find_word(\"aaaaa\", \"aa\")\n",
      "Expecting:\n",
      "    [0, 1, 2, 3]\n",
      "ok\n",
      "Trying:\n",
      "    find_word(\"\", \"a\")\n",
      "Expecting:\n",
      "    []\n",
      "ok\n",
      "Trying:\n",
      "    find_word(\"a\", \"\")\n",
      "Expecting:\n",
      "    []\n",
      "ok\n"
     ]
    }
   ],
   "execution_count": 3
  },
  {
   "metadata": {
    "ExecuteTime": {
     "end_time": "2025-04-29T07:36:49.541831Z",
     "start_time": "2025-04-29T07:36:49.535318Z"
    }
   },
   "cell_type": "code",
   "source": [
    "from contextlib import contextmanager\n",
    "import pytest\n",
    "\n",
    "@contextmanager\n",
    "def raises(expected_exception):\n",
    "    \"\"\"\n",
    "    >>> with raises(ZeroDivisionError):\n",
    "    ...     1 / 0\n",
    "    \"\"\"\n",
    "    try:\n",
    "        yield\n",
    "    except expected_exception as e:\n",
    "        print(f'Excepted: {e}')\n",
    "    except Exception as e:\n",
    "        print(f\"Expected {expected_exception.__name__}, raised {type(e).__name__}: {e}\")\n",
    "        raise AssertionError(f\"Expected {expected_exception.__name__}, raised {type(e).__name__}: {e}\")\n",
    "    else:\n",
    "        print(f\"Expected {expected_exception.__name__}, not raised\")\n",
    "        raise AssertionError(f\"Expected {expected_exception.__name__}, not raised\")\n",
    "\n",
    "\n",
    "if __name__ == \"__main__\":\n",
    "    try:\n",
    "        with raises(ZeroDivisionError):\n",
    "            result = 1 / 0\n",
    "        print(\"1 поймал ошибку\")\n",
    "    \n",
    "        with raises(ValueError):\n",
    "            result = 1 / 0\n",
    "        print(\"2 поймал ошибку\")\n",
    "    \n",
    "        with raises(ZeroDivisionError):\n",
    "            result = 1 + 1\n",
    "        print(\"3 поймал ошибку\")\n",
    "    except Exception as e:\n",
    "        print(f\"Ошибка: {e}\")"
   ],
   "id": "f7f767e670267d85",
   "outputs": [
    {
     "name": "stdout",
     "output_type": "stream",
     "text": [
      "Excepted: division by zero\n",
      "1 поймал ошибку\n",
      "Expected ValueError, raised ZeroDivisionError: division by zero\n",
      "Ошибка: Expected ValueError, raised ZeroDivisionError: division by zero\n"
     ]
    }
   ],
   "execution_count": 4
  },
  {
   "metadata": {},
   "cell_type": "markdown",
   "source": "# 3",
   "id": "2efaa8ef63593f3b"
  },
  {
   "metadata": {
    "ExecuteTime": {
     "end_time": "2025-04-28T08:57:09.662442Z",
     "start_time": "2025-04-28T08:57:09.656486Z"
    }
   },
   "cell_type": "code",
   "source": [
    "import deal\n",
    "import math\n",
    "from typing import List\n",
    "\n",
    "distance_function = deal.chain(\n",
    "    deal.pre(\n",
    "        lambda a, b:\n",
    "            a is not None and b is not None\n",
    "            and isinstance(a, (list, tuple)) and isinstance(b, (list, tuple))\n",
    "            and 0 < len(a) == len(b)\n",
    "            and all(isinstance(x, (int, float)) for x in a)\n",
    "            and all(isinstance(y, (int, float)) for y in b)\n",
    "    ),\n",
    "    deal.post(lambda r: isinstance(r, (int, float))),\n",
    "    deal.post(lambda r: r >= 0),\n",
    "    deal.pure\n",
    ")\n",
    "\n",
    "@distance_function\n",
    "def euclidean_distance(a: List[float], b: List[float]) -> float:\n",
    "    \"\"\"\n",
    "    Вычисляет евклидово расстояние между точками в ℝ^n.\n",
    "\n",
    "    >>> euclidean_distance([0, 0], [3, 4])\n",
    "    5.0\n",
    "    \"\"\"\n",
    "    return math.sqrt(sum((yi - xi) ** 2 for xi, yi in zip(a, b)))\n",
    "\n",
    "@distance_function\n",
    "def manhattan_distance(a: List[float], b: List[float]) -> float:\n",
    "    \"\"\"\n",
    "    Вычисляет манхэттенское (также “таксистское”) расстояние между точками в ℝ^n.\n",
    "\n",
    "    >>> manhattan_distance([0, 0], [3, 4])\n",
    "    7\n",
    "    \"\"\"\n",
    "    return sum(abs(yi - xi) for xi, yi in zip(a, b))\n"
   ],
   "id": "155a804717a607c4",
   "outputs": [],
   "execution_count": 57
  },
  {
   "metadata": {
    "ExecuteTime": {
     "end_time": "2025-04-28T08:57:44.774078Z",
     "start_time": "2025-04-28T08:57:44.759203Z"
    }
   },
   "cell_type": "code",
   "source": [
    "import doctest\n",
    "doctest.testmod(verbose=True)\n"
   ],
   "id": "b747f18296809739",
   "outputs": [
    {
     "name": "stdout",
     "output_type": "stream",
     "text": [
      "Trying:\n",
      "    euclidean_distance([0, 0], [3, 4])\n",
      "Expecting:\n",
      "    5.0\n",
      "ok\n",
      "Trying:\n",
      "    manhattan_distance([0, 0], [3, 4])\n",
      "Expecting:\n",
      "    7\n",
      "ok\n",
      "Trying:\n",
      "    with raises(ZeroDivisionError):\n",
      "        1 / 0\n",
      "Expecting nothing\n",
      "ok\n",
      "1 item had no tests:\n",
      "    __main__\n",
      "3 items passed all tests:\n",
      "   1 test in __main__.euclidean_distance\n",
      "   1 test in __main__.manhattan_distance\n",
      "   1 test in __main__.raises\n",
      "3 tests in 4 items.\n",
      "3 passed.\n",
      "Test passed.\n"
     ]
    },
    {
     "data": {
      "text/plain": [
       "TestResults(failed=0, attempted=3)"
      ]
     },
     "execution_count": 60,
     "metadata": {},
     "output_type": "execute_result"
    }
   ],
   "execution_count": 60
  }
 ],
 "metadata": {
  "kernelspec": {
   "display_name": "Python 3",
   "language": "python",
   "name": "python3"
  },
  "language_info": {
   "codemirror_mode": {
    "name": "ipython",
    "version": 2
   },
   "file_extension": ".py",
   "mimetype": "text/x-python",
   "name": "python",
   "nbconvert_exporter": "python",
   "pygments_lexer": "ipython2",
   "version": "2.7.6"
  }
 },
 "nbformat": 4,
 "nbformat_minor": 5
}
