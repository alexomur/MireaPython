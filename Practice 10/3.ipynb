{
 "cells": [
  {
   "cell_type": "code",
   "id": "initial_id",
   "metadata": {
    "collapsed": true,
    "ExecuteTime": {
     "end_time": "2025-04-29T07:49:42.164247Z",
     "start_time": "2025-04-29T07:49:42.155308Z"
    }
   },
   "source": [
    "from contextlib import contextmanager\n",
    "import pytest\n",
    "\n",
    "@contextmanager\n",
    "def raises(expected_exception):\n",
    "    \"\"\"\n",
    "    >>> with raises(ZeroDivisionError):\n",
    "    ...     1 / 0\n",
    "    \"\"\"\n",
    "    try:\n",
    "        yield\n",
    "    except expected_exception as e:\n",
    "        print(f'Excepted: {e}')\n",
    "    except Exception as e:\n",
    "        raise AssertionError(f\"Expected {expected_exception.__name__}, raised {type(e).__name__}: {e}\")\n",
    "    else:\n",
    "        raise AssertionError(f\"Expected {expected_exception.__name__}, not raised\")\n",
    "\n",
    "\n",
    "if __name__ == \"__main__\":\n",
    "    try:\n",
    "        with raises(ZeroDivisionError):\n",
    "            result = 1 / 0\n",
    "        print(\"1 поймал ошибку\")\n",
    "    \n",
    "        with raises(ValueError):\n",
    "            result = 1 / 0\n",
    "        print(\"2 поймал ошибку\")\n",
    "    \n",
    "        with raises(ZeroDivisionError):\n",
    "            result = 1 + 1\n",
    "        print(\"3 поймал ошибку\")\n",
    "    except Exception as e:\n",
    "        print(f\"Ошибка: {e}\")"
   ],
   "outputs": [
    {
     "name": "stdout",
     "output_type": "stream",
     "text": [
      "Excepted: division by zero\n",
      "1 поймал ошибку\n",
      "Ошибка: Expected ValueError, raised ZeroDivisionError: division by zero\n"
     ]
    }
   ],
   "execution_count": 11
  },
  {
   "metadata": {
    "ExecuteTime": {
     "end_time": "2025-04-29T07:49:45.630474Z",
     "start_time": "2025-04-29T07:49:45.625750Z"
    }
   },
   "cell_type": "code",
   "source": [
    "import deal\n",
    "from time import sleep\n",
    "\n",
    "@deal.pre(lambda a, b: a is not None and b is not None\n",
    "          and isinstance(a, (list, tuple)) and isinstance(b, (list, tuple))\n",
    "          and 0 < len(a) == len(b)\n",
    "          and all(isinstance(x, (int, float)) for x in a)\n",
    "          and all(isinstance(y, (int, float)) for y in b))\n",
    "@deal.post(lambda r: isinstance(r, (int, float)))\n",
    "@deal.post(lambda r: r >= 0)\n",
    "@deal.pure\n",
    "def euclidean_distance(a: list[float], b: list[float]) -> float:\n",
    "    print(\"Внимание! Выполняются дорогостоящие вычисления\")\n",
    "    return -5\n",
    "    return sum([(b[i] - a[i])**2 for i in range(len(a))])**0.5\n"
   ],
   "id": "6b98640a9aaa8329",
   "outputs": [],
   "execution_count": 12
  },
  {
   "metadata": {
    "ExecuteTime": {
     "end_time": "2025-04-29T07:50:06.406203Z",
     "start_time": "2025-04-29T07:50:06.391588Z"
    }
   },
   "cell_type": "code",
   "source": [
    "with raises(deal.PreContractError):\n",
    "    euclidean_distance([], [])\n",
    "\n",
    "with raises(deal.PreContractError):\n",
    "    euclidean_distance(\"string\", [])\n",
    "\n",
    "with raises(deal.PreContractError):\n",
    "    euclidean_distance([1, 2, 3], [1, 2])\n",
    "\n",
    "with raises(deal.PreContractError):\n",
    "    euclidean_distance([1, 2, \"3\"], [1, 2, 3])\n",
    "\n",
    "with raises(deal.PreContractError):\n",
    "    euclidean_distance([1.0, 2.5], [1.0, \"2.5\"])\n",
    "\n",
    "with raises(deal.SilentContractError):\n",
    "    euclidean_distance([0, 0], [1, 1])"
   ],
   "id": "e6fc98e0e69e8b8",
   "outputs": [
    {
     "name": "stdout",
     "output_type": "stream",
     "text": [
      "Excepted: expected \u001B[36misinstance\u001B[39;49;00m(r, (\u001B[36mint\u001B[39;49;00m, \u001B[36mfloat\u001B[39;49;00m))\u001B[37m\u001B[39;49;00m (where \u001B[94ma\u001B[0m=\u001B[95m[]\u001B[0m, \u001B[94mb\u001B[0m=\u001B[95m[]\u001B[0m)\n",
      "Excepted: expected \u001B[36misinstance\u001B[39;49;00m(r, (\u001B[36mint\u001B[39;49;00m, \u001B[36mfloat\u001B[39;49;00m))\u001B[37m\u001B[39;49;00m (where \u001B[94ma\u001B[0m=\u001B[95m'string'\u001B[0m, \u001B[94mb\u001B[0m=\u001B[95m[]\u001B[0m)\n",
      "Excepted: expected \u001B[36misinstance\u001B[39;49;00m(r, (\u001B[36mint\u001B[39;49;00m, \u001B[36mfloat\u001B[39;49;00m))\u001B[37m\u001B[39;49;00m (where \u001B[94ma\u001B[0m=\u001B[95m[1, 2, 3]\u001B[0m, \u001B[94mb\u001B[0m=\u001B[95m[1, 2]\u001B[0m)\n",
      "Excepted: expected \u001B[36misinstance\u001B[39;49;00m(r, (\u001B[36mint\u001B[39;49;00m, \u001B[36mfloat\u001B[39;49;00m))\u001B[37m\u001B[39;49;00m (where \u001B[94ma\u001B[0m=\u001B[95m[1, 2, '3']\u001B[0m, \u001B[94mb\u001B[0m=\u001B[95m[1, 2, 3]\u001B[0m)\n",
      "Excepted: expected \u001B[36misinstance\u001B[39;49;00m(r, (\u001B[36mint\u001B[39;49;00m, \u001B[36mfloat\u001B[39;49;00m))\u001B[37m\u001B[39;49;00m (where \u001B[94ma\u001B[0m=\u001B[95m[1.0, 2.5]\u001B[0m, \u001B[94mb\u001B[0m=\u001B[95m[1.0, '2.5']\u001B[0m)\n",
      "Excepted: \n"
     ]
    }
   ],
   "execution_count": 13
  }
 ],
 "metadata": {
  "kernelspec": {
   "display_name": "Python 3",
   "language": "python",
   "name": "python3"
  },
  "language_info": {
   "codemirror_mode": {
    "name": "ipython",
    "version": 2
   },
   "file_extension": ".py",
   "mimetype": "text/x-python",
   "name": "python",
   "nbconvert_exporter": "python",
   "pygments_lexer": "ipython2",
   "version": "2.7.6"
  }
 },
 "nbformat": 4,
 "nbformat_minor": 5
}
