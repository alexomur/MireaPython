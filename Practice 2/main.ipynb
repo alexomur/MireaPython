{
 "cells": [
  {
   "cell_type": "code",
   "id": "initial_id",
   "metadata": {
    "collapsed": true,
    "ExecuteTime": {
     "end_time": "2025-02-18T08:31:09.574406Z",
     "start_time": "2025-02-18T08:31:06.840194Z"
    }
   },
   "source": [
    "!pip install flake8 pycodestyle_magic\n",
    "!pip install matplotlib-inline"
   ],
   "outputs": [
    {
     "name": "stderr",
     "output_type": "stream",
     "text": [
      "\n",
      "[notice] A new release of pip is available: 23.2.1 -> 25.0.1\n",
      "[notice] To update, run: python.exe -m pip install --upgrade pip\n",
      "\n",
      "[notice] A new release of pip is available: 23.2.1 -> 25.0.1\n",
      "[notice] To update, run: python.exe -m pip install --upgrade pip\n"
     ]
    }
   ],
   "execution_count": 33
  },
  {
   "metadata": {
    "ExecuteTime": {
     "end_time": "2025-02-18T08:31:11.924722Z",
     "start_time": "2025-02-18T08:31:11.413359Z"
    }
   },
   "cell_type": "code",
   "source": [
    "%load_ext pycodestyle_magic\n",
    "%pycodestyle_on\n",
    "%matplotlib inline"
   ],
   "id": "c9e193df02cd5756",
   "outputs": [],
   "execution_count": 34
  },
  {
   "metadata": {
    "ExecuteTime": {
     "end_time": "2025-02-18T09:01:31.877073Z",
     "start_time": "2025-02-18T09:01:31.873421Z"
    }
   },
   "cell_type": "code",
   "source": [
    "def f(n, m, a):\n",
    "    total = 1\n",
    "    for c in range(1, a+1):\n",
    "        first = 1\n",
    "        for j in range(1, m+1):\n",
    "            s = 0\n",
    "            for i in range(1, n+1):\n",
    "                s += (28*c**2)**6 / 5 + 16 * (j**3 / 44 + i**2)**5\n",
    "            first *= s\n",
    "        total *= first\n",
    "    return total\n",
    "\n",
    "\n",
    "print(f(4, 2, 8))\n"
   ],
   "id": "2e3b4fbb29057c1c",
   "outputs": [
    {
     "name": "stdout",
     "output_type": "stream",
     "text": [
      "8.902039764152575e+247\n"
     ]
    }
   ],
   "execution_count": 6
  },
  {
   "metadata": {
    "ExecuteTime": {
     "end_time": "2025-02-18T09:01:34.302516Z",
     "start_time": "2025-02-18T09:01:34.298648Z"
    }
   },
   "cell_type": "code",
   "source": [
    "Y = [1, 0.5, 1]\n",
    "Z = [0.5, 2, 1]\n",
    "\n",
    "\n",
    "def d1(y: list, z: list):\n",
    "    if len(y) != len(z):\n",
    "        return None\n",
    "\n",
    "    total = 0\n",
    "    for i in range(len(y)):\n",
    "        total += (y[i]-z[i])**2\n",
    "\n",
    "    return total**0.5\n",
    "\n",
    "\n",
    "d1(Y, Z)\n"
   ],
   "id": "d42d565fae408cbf",
   "outputs": [
    {
     "data": {
      "text/plain": [
       "1.5811388300841898"
      ]
     },
     "execution_count": 7,
     "metadata": {},
     "output_type": "execute_result"
    }
   ],
   "execution_count": 7
  },
  {
   "metadata": {
    "ExecuteTime": {
     "end_time": "2025-02-18T09:01:36.999796Z",
     "start_time": "2025-02-18T09:01:36.995961Z"
    }
   },
   "cell_type": "code",
   "source": [
    "def d2(y: list, z: list):\n",
    "    if len(y) != len(z):\n",
    "        return None\n",
    "\n",
    "    total = 0\n",
    "    for i in range(len(y)):\n",
    "        total += (abs(y[i]-z[i]))\n",
    "\n",
    "    return total\n",
    "\n",
    "\n",
    "d2(Y, Z)\n"
   ],
   "id": "40041d7eaa23b3d4",
   "outputs": [
    {
     "data": {
      "text/plain": [
       "2.0"
      ]
     },
     "execution_count": 8,
     "metadata": {},
     "output_type": "execute_result"
    }
   ],
   "execution_count": 8
  },
  {
   "metadata": {
    "ExecuteTime": {
     "end_time": "2025-02-18T09:01:39.228452Z",
     "start_time": "2025-02-18T09:01:39.223980Z"
    }
   },
   "cell_type": "code",
   "source": [
    "def d3(y: list, z: list):\n",
    "    total_vect = []\n",
    "    if len(y) != len(z):\n",
    "        return None\n",
    "\n",
    "    for i in range(len(y)):\n",
    "        total_vect.append(abs(y[i]-z[i]))\n",
    "\n",
    "    max_total = 0\n",
    "    for i in range(len(total_vect)):\n",
    "        if total_vect[i] > max_total:\n",
    "            max_total = total_vect[i]\n",
    "    return max_total\n",
    "\n",
    "\n",
    "d3(Y, Z)\n"
   ],
   "id": "8efa5be65fd6d30b",
   "outputs": [
    {
     "data": {
      "text/plain": [
       "1.5"
      ]
     },
     "execution_count": 9,
     "metadata": {},
     "output_type": "execute_result"
    }
   ],
   "execution_count": 9
  },
  {
   "metadata": {
    "ExecuteTime": {
     "end_time": "2025-02-18T09:01:41.488947Z",
     "start_time": "2025-02-18T09:01:41.485103Z"
    }
   },
   "cell_type": "code",
   "source": [
    "def d4(y: list, z: list):\n",
    "    if len(y) != len(z):\n",
    "        return None\n",
    "\n",
    "    total = 0\n",
    "    for i in range(len(y)):\n",
    "        total += (y[i]-z[i])**2\n",
    "\n",
    "    return total\n",
    "\n",
    "\n",
    "d4(Y, Z)\n"
   ],
   "id": "c34b3732827ed3e",
   "outputs": [
    {
     "data": {
      "text/plain": [
       "2.5"
      ]
     },
     "execution_count": 10,
     "metadata": {},
     "output_type": "execute_result"
    }
   ],
   "execution_count": 10
  },
  {
   "metadata": {
    "ExecuteTime": {
     "end_time": "2025-02-18T09:01:43.725077Z",
     "start_time": "2025-02-18T09:01:43.721364Z"
    }
   },
   "cell_type": "code",
   "source": [
    "def d5(y: list, z: list, h=5):\n",
    "    if len(y) != len(z):\n",
    "        return None\n",
    "\n",
    "    total = 0\n",
    "    for i in range(len(y)):\n",
    "        total += abs(y[i]-z[i])**h\n",
    "\n",
    "    return total**(1/h)\n",
    "\n",
    "\n",
    "d5(Y, Z)\n"
   ],
   "id": "6b20da7ec2477263",
   "outputs": [
    {
     "data": {
      "text/plain": [
       "1.5012325406940918"
      ]
     },
     "execution_count": 11,
     "metadata": {},
     "output_type": "execute_result"
    }
   ],
   "execution_count": 11
  },
  {
   "metadata": {
    "ExecuteTime": {
     "end_time": "2025-02-18T09:01:47.279718Z",
     "start_time": "2025-02-18T09:01:46.802612Z"
    }
   },
   "cell_type": "code",
   "source": [
    "import matplotlib.pyplot as plt\n",
    "\n",
    "def visualize(distance_metrics, y, z, move=1):\n",
    "    moved_z = [i + move for i in z]\n",
    "    distance_differences = []\n",
    "    for distance in distance_metrics:\n",
    "        distance_before_move = distance(y, z)\n",
    "        distance_after_move = distance(y, moved_z)\n",
    "        distance_difference = distance_after_move - distance_before_move\n",
    "        distance_differences.append(distance_difference)\n",
    "    x = range(0, len(distance_differences))\n",
    "    figure, axis = plt.subplots()\n",
    "    # Построение гистограммы с подписями.\n",
    "    axis.bar(x, distance_differences)\n",
    "    axis.set_xticks(x, labels=[f'd_{i + 1}' for i in x])\n",
    "    # для тех, кто работает в средах, отличных от jupyter-подобных - раскомментировать строку ниже\n",
    "    # plt.show()\n"
   ],
   "id": "f42df05614de338c",
   "outputs": [],
   "execution_count": 12
  },
  {
   "metadata": {
    "ExecuteTime": {
     "end_time": "2025-02-18T09:01:49.050763Z",
     "start_time": "2025-02-18T09:01:48.864926Z"
    }
   },
   "cell_type": "code",
   "source": [
    "visualize([d1, d2, d3, d4, d5], Y, Z, move=1)\n",
    "visualize([d1, d2, d3, d4, d5], Y, Z, move=0.5)\n",
    "visualize([d1, d2, d3, d4, d5], Y, Z, move=1.5)\n"
   ],
   "id": "24da5d390c51e39b",
   "outputs": [
    {
     "data": {
      "text/plain": [
       "<Figure size 640x480 with 1 Axes>"
      ],
      "image/png": "[encoded data removed]"
     },
     "metadata": {},
     "output_type": "display_data"
    },
    {
     "data": {
      "text/plain": [
       "<Figure size 640x480 with 1 Axes>"
      ],
      "image/png": "[encoded data removed]"
     },
     "metadata": {},
     "output_type": "display_data"
    },
    {
     "data": {
      "text/plain": [
       "<Figure size 640x480 with 1 Axes>"
      ],
      "image/png": "[encoded data removed]"
     },
     "metadata": {},
     "output_type": "display_data"
    }
   ],
   "execution_count": 13
  },
  {
   "metadata": {
    "ExecuteTime": {
     "end_time": "2025-02-18T09:01:52.833438Z",
     "start_time": "2025-02-18T09:01:52.830040Z"
    }
   },
   "cell_type": "code",
   "source": [
    "words = [\"language!\", \"programming\", \"Python\", \"the\", \"love\", \"I\"]\n",
    "\n",
    "\n",
    "def rev(words: list[str]):\n",
    "    return \" \".join(words[::-1])\n",
    "\n",
    "\n",
    "s = rev(words)\n"
   ],
   "id": "d4e1ae6b3927c5da",
   "outputs": [],
   "execution_count": 14
  },
  {
   "metadata": {
    "ExecuteTime": {
     "end_time": "2025-02-18T09:01:55.345580Z",
     "start_time": "2025-02-18T09:01:55.340486Z"
    }
   },
   "cell_type": "code",
   "source": [
    "def f(s, c):\n",
    "    s_clean = s.replace(\" \", \"\").lower()\n",
    "    return s_clean.count(c.lower())\n",
    "\n",
    "\n",
    "def count_characters(s):\n",
    "    s_clean = s.replace(\" \", \"\").lower()\n",
    "    unique_chars = set(s_clean)\n",
    "    result = {}\n",
    "    for ch in unique_chars:\n",
    "        result[ch] = f(s, ch)\n",
    "    return result\n",
    "\n",
    "\n",
    "count_characters(s)\n"
   ],
   "id": "3b42f29794284b83",
   "outputs": [
    {
     "data": {
      "text/plain": [
       "{'!': 1,\n",
       " 'v': 1,\n",
       " 'r': 2,\n",
       " 'a': 3,\n",
       " 'm': 2,\n",
       " 'u': 1,\n",
       " 'h': 2,\n",
       " 'l': 2,\n",
       " 'n': 3,\n",
       " 'g': 4,\n",
       " 'y': 1,\n",
       " 'o': 3,\n",
       " 'i': 2,\n",
       " 'p': 2,\n",
       " 'e': 3,\n",
       " 't': 2}"
      ]
     },
     "execution_count": 15,
     "metadata": {},
     "output_type": "execute_result"
    }
   ],
   "execution_count": 15
  },
  {
   "metadata": {
    "ExecuteTime": {
     "end_time": "2025-02-18T09:02:17.100590Z",
     "start_time": "2025-02-18T09:02:17.094612Z"
    }
   },
   "cell_type": "code",
   "source": [
    "def levenshtein(a, b):\n",
    "    \"\"\"\n",
    "    Возвращает расстояние Левенштейна между строками a и b.\n",
    "    \"\"\"\n",
    "    n, m = len(a), len(b)\n",
    "    # dp[i][j] будет хранить расстояние между a[:i] и b[:j]\n",
    "    dp = [[0] * (m + 1) for _ in range(n + 1)]\n",
    "    # Инициализация базовых случаев\n",
    "    for i in range(n + 1):\n",
    "        dp[i][0] = i\n",
    "    for j in range(m + 1):\n",
    "        dp[0][j] = j\n",
    "    # Заполнение таблицы по рекуррентной формуле\n",
    "    for i in range(1, n + 1):\n",
    "        for j in range(1, m + 1):\n",
    "            if a[i - 1] == b[j - 1]:\n",
    "                # Символы совпадают, переносим предыдущее значение\n",
    "                dp[i][j] = dp[i - 1][j - 1]\n",
    "            else:\n",
    "                # 1 + минимум из удаления, вставки, замены\n",
    "                dp[i][j] = 1 + min(\n",
    "                    dp[i][j - 1],     # вставка\n",
    "                    dp[i - 1][j],     # удаление\n",
    "                    dp[i - 1][j - 1]  # замена\n",
    "                )\n",
    "    return dp[n][m]\n",
    "\n",
    "\n",
    "def main():\n",
    "    pairs = [\n",
    "        (\"Hello, world!\", \"Goodbye, world!\"),\n",
    "        (\"Hello, world!\", \"Bye, world!\"),\n",
    "        (\"I love Python\", \"I like Python\"),\n",
    "        (\"100101\", \"100011\"),\n",
    "    ]\n",
    "    for s1, s2 in pairs:\n",
    "        dist = levenshtein(s1, s2)\n",
    "        return f\"'{s1}' vs '{s2}' -> расстояние: {dist}\"\n",
    "\n",
    "\n",
    "main()\n",
    " "
   ],
   "id": "c51459e9c7282d5a",
   "outputs": [
    {
     "data": {
      "text/plain": [
       "\"'Hello, world!' vs 'Goodbye, world!' -> расстояние: 7\""
      ]
     },
     "execution_count": 16,
     "metadata": {},
     "output_type": "execute_result"
    }
   ],
   "execution_count": 16
  },
  {
   "metadata": {
    "ExecuteTime": {
     "end_time": "2025-02-18T09:02:23.047677Z",
     "start_time": "2025-02-18T09:02:22.968542Z"
    }
   },
   "cell_type": "code",
   "source": [
    "import timeit\n",
    "import random\n",
    "import string\n",
    "\n",
    "\n",
    "# Функция для генерации случайных строк.\n",
    "def random_string(length):\n",
    "    letters = string.ascii_lowercase\n",
    "    return \"\".join(random.choice(letters)\n",
    "                   for _ in range(length))\n",
    "\n",
    "\n",
    "# Подготавливаем тестовые строки разной длины.\n",
    "lengths = [10, 50, 100, 200]\n",
    "results = {}\n",
    "\n",
    "\n",
    "from Levenshtein import distance\n",
    "\n",
    "for L in lengths:\n",
    "    s1 = random_string(L)\n",
    "    s2 = random_string(L)\n",
    "    # Измеряем нашу реализацию.\n",
    "    t_dp = timeit.timeit(lambda: levenshtein(s1, s2),\n",
    "                         number=10)\n",
    "    results[f\"dp_{L}\"] = t_dp\n",
    "    # Пытаемся импортировать библиотечную реализацию.\n",
    "    try:\n",
    "        t_lib = timeit.timeit(lambda: distance(s1, s2),\n",
    "                              number=10)\n",
    "        results[f\"lib_{L}\"] = t_lib\n",
    "    except ImportError:\n",
    "        results[f\"lib_{L}\"] = None\n",
    "\n",
    "\n",
    "print(\"Время работы (сек):\")\n",
    "for key in sorted(results.keys()):\n",
    "    print(f\"{key}: {results[key]}\")\n"
   ],
   "id": "7fd759d2c1a4d593",
   "outputs": [
    {
     "name": "stdout",
     "output_type": "stream",
     "text": [
      "Время работы (сек):\n",
      "dp_10: 0.0002158999559469521\n",
      "dp_100: 0.015830099990125746\n",
      "dp_200: 0.051462600007653236\n",
      "dp_50: 0.00344920001225546\n",
      "lib_10: 1.5300000086426735e-05\n",
      "lib_100: 3.3100019209086895e-05\n",
      "lib_200: 5.719996988773346e-05\n",
      "lib_50: 9.700015652924776e-06\n"
     ]
    }
   ],
   "execution_count": 17
  }
 ],
 "metadata": {
  "kernelspec": {
   "display_name": "Python 3",
   "language": "python",
   "name": "python3"
  },
  "language_info": {
   "codemirror_mode": {
    "name": "ipython",
    "version": 2
   },
   "file_extension": ".py",
   "mimetype": "text/x-python",
   "name": "python",
   "nbconvert_exporter": "python",
   "pygments_lexer": "ipython2",
   "version": "2.7.6"
  }
 },
 "nbformat": 4,
 "nbformat_minor": 5
}
