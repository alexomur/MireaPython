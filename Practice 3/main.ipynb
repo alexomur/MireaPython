{
 "cells": [
  {
   "metadata": {},
   "cell_type": "markdown",
   "source": "# 5",
   "id": "76a519303eebcf58"
  },
  {
   "cell_type": "code",
   "id": "initial_id",
   "metadata": {
    "collapsed": true,
    "ExecuteTime": {
     "end_time": "2025-02-25T08:32:39.733776Z",
     "start_time": "2025-02-25T08:32:38.478566Z"
    }
   },
   "source": [
    "import requests\n",
    "from bs4 import BeautifulSoup\n",
    "\n",
    "\n",
    "def generate_groups(amount = 10):\n",
    "    url = \"https://kispython.ru/\"\n",
    "    response = requests.get(url)\n",
    "\n",
    "    soup = BeautifulSoup(response.text, \"html.parser\")\n",
    "\n",
    "    parent_div = soup.find(\"div\", class_=\"container mt-3\")\n",
    "    \n",
    "    if parent_div is None:\n",
    "        print(\"Элемент не найден!\")\n",
    "        return \n",
    "    \n",
    "    inner_divs = parent_div.find_all(\"div\")\n",
    "    for div in inner_divs:\n",
    "        small = div.find('small')\n",
    "        if small:\n",
    "            header_text = small.get_text(strip=True)\n",
    "            print(header_text)\n",
    "            \n",
    "        anchors = div.find_all('a')\n",
    "        links = \" \".join([a.get_text(strip=True) for a in anchors])\n",
    "        if links:\n",
    "            print(links)\n",
    "\n",
    "generate_groups()\n"
   ],
   "outputs": [
    {
     "name": "stdout",
     "output_type": "stream",
     "text": [
      "ИВБО\n",
      "ИВБО-10-23 ИВБО-11-23 ИВБО-12-23 ИВБО-13-23 ИВБО-20-23 ИВБО-21-23 ИВБО-22-23 ИКБО-10-22 ИКБО-10-23 ИКБО-11-23 ИКБО-12-23 ИКБО-13-23 ИКБО-14-23 ИКБО-15-23 ИКБО-20-23 ИКБО-21-23 ИКБО-22-23 ИКБО-24-22 ИКБО-34-22 ИКБО-40-23 ИКБО-41-23 ИКБО-42-23 ИКБО-43-23 ИКБО-50-23 ИКБО-51-23 ИКБО-52-23 ИКБО-60-23 ИКБО-61-23 ИКБО-62-23 ИКБО-63-23 ИКБО-64-23 ИКБО-65-23 ИКБО-66-23 ИКБО-67-23 ИКБО-68-23 ИКБО-70-23 ИКБО-71-23 ИКБО-72-23 ИКБО-73-23 ИКБО-74-23 ИКБО-75-23 ИКБО-76-23 ИМБО-10-23 ИМБО-11-23 ИНБО-10-23 ИНБО-11-23 ИНБО-12-23 ИНБО-13-23 ИНБО-20-23 ИНБО-21-23 ИНБО-22-23 ИНБО-23-23 ИНБО-30-23 ИНБО-31-23 ИНБО-32-23 ИНБО-33-23\n",
      "ИВБО\n",
      "ИВБО-10-23 ИВБО-11-23 ИВБО-12-23 ИВБО-13-23 ИВБО-20-23 ИВБО-21-23 ИВБО-22-23\n",
      "ИКБО\n",
      "ИКБО-10-22 ИКБО-10-23 ИКБО-11-23 ИКБО-12-23 ИКБО-13-23 ИКБО-14-23 ИКБО-15-23 ИКБО-20-23 ИКБО-21-23 ИКБО-22-23 ИКБО-24-22 ИКБО-34-22 ИКБО-40-23 ИКБО-41-23 ИКБО-42-23 ИКБО-43-23 ИКБО-50-23 ИКБО-51-23 ИКБО-52-23 ИКБО-60-23 ИКБО-61-23 ИКБО-62-23 ИКБО-63-23 ИКБО-64-23 ИКБО-65-23 ИКБО-66-23 ИКБО-67-23 ИКБО-68-23 ИКБО-70-23 ИКБО-71-23 ИКБО-72-23 ИКБО-73-23 ИКБО-74-23 ИКБО-75-23 ИКБО-76-23\n",
      "ИМБО\n",
      "ИМБО-10-23 ИМБО-11-23\n",
      "ИНБО\n",
      "ИНБО-10-23 ИНБО-11-23 ИНБО-12-23 ИНБО-13-23 ИНБО-20-23 ИНБО-21-23 ИНБО-22-23 ИНБО-23-23 ИНБО-30-23 ИНБО-31-23 ИНБО-32-23 ИНБО-33-23\n"
     ]
    }
   ],
   "execution_count": 12
  },
  {
   "metadata": {
    "ExecuteTime": {
     "end_time": "2025-02-25T08:38:50.643275Z",
     "start_time": "2025-02-25T08:38:50.638697Z"
    }
   },
   "cell_type": "code",
   "source": [
    "import sys\n",
    "\n",
    "def better_print(*args, sep=' ', end='\\n', file=sys.stdout, flush=False):\n",
    "    output = sep.join(args) + end\n",
    "    \n",
    "    file.write(output)\n",
    "    \n",
    "    if flush:\n",
    "        file.flush()\n",
    "\n",
    "with open(\"test.txt\", \"w\") as f:\n",
    "    better_print(\"Hello\", \"world\", sep=\", \", file=f, end=\"!\\n\", flush=True)\n"
   ],
   "id": "20d68b45f297fba7",
   "outputs": [],
   "execution_count": 19
  },
  {
   "metadata": {
    "ExecuteTime": {
     "end_time": "2025-02-25T08:01:52.469254Z",
     "start_time": "2025-02-25T08:01:52.464104Z"
    }
   },
   "cell_type": "code",
   "source": [
    "from ctypes import c_uint32 as uint\n",
    "\n",
    "def decrypt(v: list[uint], k: list[uint]) -> None:\n",
    "    v0 = v[0].value\n",
    "    v1 = v[1].value\n",
    "    sum_ = 0xC6EF3720\n",
    "    delta = 0x9E3779B9\n",
    "    k0 = k[0].value\n",
    "    k1 = k[1].value\n",
    "    k2 = k[2].value\n",
    "    k3 = k[3].value\n",
    "\n",
    "    for _ in range(32):\n",
    "        v1 = (v1 - (((v0 << 4) + k2) ^ (v0 + sum_) ^ ((v0 >> 5) + k3))) & 0xFFFFFFFF\n",
    "        v0 = (v0 - (((v1 << 4) + k0) ^ (v1 + sum_) ^ ((v1 >> 5) + k1))) & 0xFFFFFFFF\n",
    "        sum_ = (sum_ - delta) & 0xFFFFFFFF\n",
    "\n",
    "    v[0] = uint(v0)\n",
    "    v[1] = uint(v1)\n",
    "\n",
    "v = [uint(25), uint(45)]\n",
    "k = [uint(0), uint(4), uint(5), uint(1)]\n",
    "decrypt(v, k)\n",
    "\n",
    "print(v, k, sep=\"\\n\")\n"
   ],
   "id": "54943adc98c063fc",
   "outputs": [
    {
     "name": "stdout",
     "output_type": "stream",
     "text": [
      "[c_ulong(2408437919), c_ulong(1222375399)]\n",
      "[c_ulong(0), c_ulong(4), c_ulong(5), c_ulong(1)]\n"
     ]
    }
   ],
   "execution_count": 10
  },
  {
   "metadata": {
    "ExecuteTime": {
     "end_time": "2025-02-25T08:39:30.431098Z",
     "start_time": "2025-02-25T08:39:30.422118Z"
    }
   },
   "cell_type": "code",
   "source": [
    "def manual_utf16le_decode(b: bytes) -> str:\n",
    "    \"\"\"\n",
    "    Ручное декодирование UTF-16LE: каждые два байта объединяются,\n",
    "    при этом первый байт – младший, второй – старший.\n",
    "    \"\"\"\n",
    "    if len(b) % 2 != 0:\n",
    "        raise ValueError(\"Длина байтовой последовательности должна быть чётной.\")\n",
    "    result = []\n",
    "    for i in range(0, len(b), 2):\n",
    "        low = b[i]\n",
    "        high = b[i+1]\n",
    "        code = (high << 8) | low\n",
    "        result.append(chr(code))\n",
    "    return \"\".join(result)\n",
    "\n",
    "\n",
    "def tea_decrypt(v, k):\n",
    "    v0, v1 = v[0], v[1]\n",
    "    delta = 0x9E3779B9\n",
    "    sum_val = 0xC6EF3720  # delta * 32\n",
    "    mask = 0xFFFFFFFF\n",
    "\n",
    "    for _ in range(32):\n",
    "        v1 = (v1 - (((v0 << 4) + k[2]) ^ (v0 + sum_val) ^ ((v0 >> 5) + k[3]))) & mask\n",
    "        v0 = (v0 - (((v1 << 4) + k[0]) ^ (v1 + sum_val) ^ ((v1 >> 5) + k[1]))) & mask\n",
    "        sum_val = (sum_val - delta) & mask\n",
    "\n",
    "    return [v0, v1]\n",
    "\n",
    "def hex_to_int_list(hex_string):\n",
    "    return [int(token, 16) for token in hex_string.split()]\n",
    "\n",
    "encrypted_hex = \"\"\"\n",
    "E3238557 6204A1F8 E6537611 174E5747\n",
    "5D954DA8 8C2DFE97 2911CB4C 2CB7C66B\n",
    "E7F185A0 C7E3FA40 42419867 374044DF\n",
    "2519F07D 5A0C24D4 F4A960C5 31159418\n",
    "F2768EC7 AEAF14CF 071B2C95 C9F22699\n",
    "FFB06F41 2AC90051 A53F035D 830601A7\n",
    "EB475702 183BAA6F 12626744 9B75A72F\n",
    "8DBFBFEC 73C1A46E FFB06F41 2AC90051\n",
    "97C5E4E9 B1C26A21 DD4A3463 6B71162F\n",
    "8C075668 7975D565 6D95A700 7272E637\n",
    "\"\"\"\n",
    "\n",
    "# Преобразуем hex-строку в список 32-битных чисел\n",
    "encrypted_ints = hex_to_int_list(encrypted_hex)\n",
    "key = [0, 4, 5, 1]\n",
    "\n",
    "decrypted_bytes = bytearray()\n",
    "for i in range(0, len(encrypted_ints), 2):\n",
    "    block = encrypted_ints[i:i+2]\n",
    "    dec_block = tea_decrypt(block, key)\n",
    "    # Здесь используем little-endian – вероятнее всего, именно так хранятся числа в памяти C-программы\n",
    "    decrypted_bytes.extend(dec_block[0].to_bytes(4, byteorder='little'))\n",
    "    decrypted_bytes.extend(dec_block[1].to_bytes(4, byteorder='little'))\n",
    "\n",
    "# Ручное декодирование как UTF-16LE (без автоматической смены кодировки)\n",
    "decrypted_text = manual_utf16le_decode(decrypted_bytes)\n",
    "decrypted_text = decrypted_text[::2]\n",
    "print(decrypted_text)\n"
   ],
   "id": "91e944fd7bd0584",
   "outputs": [
    {
     "name": "stdout",
     "output_type": "stream",
     "text": [
      "Поздравляю! Вы нашли секретное сообщение\n"
     ]
    }
   ],
   "execution_count": 20
  },
  {
   "metadata": {},
   "cell_type": "markdown",
   "source": "# 6",
   "id": "e998bf3221242553"
  },
  {
   "metadata": {
    "ExecuteTime": {
     "end_time": "2025-02-25T08:55:05.044192Z",
     "start_time": "2025-02-25T08:55:05.033783Z"
    }
   },
   "cell_type": "code",
   "source": [
    "import random\n",
    "from bs4 import BeautifulSoup\n",
    "\n",
    "# Исходный HTML с таблицей\n",
    "table_html = \"\"\"\n",
    "<table>\n",
    "<tr>\n",
    "<th>1</th>\n",
    "<th>2</th>\n",
    "<th>3</th>\n",
    "<th>4</th>\n",
    "<th>5</th>\n",
    "</tr>\n",
    "<tr>\n",
    "<td>Коллеги,</td>\n",
    "<td>парадигма цифровой экономики</td>\n",
    "<td>открывает новые возможности для</td>\n",
    "<td>дальнейшего углубления</td>\n",
    "<td>знаний и компетенций.</td>\n",
    "</tr>\n",
    "<tr>\n",
    "<td>В то же время,</td>\n",
    "<td>контекст цифровой трансформации</td>\n",
    "<td>выдвигает новые требования</td>\n",
    "<td>бюджетного финансирования</td>\n",
    "<td>непроверенных гипотез.</td>\n",
    "</tr>\n",
    "<tr>\n",
    "<td>Однако,</td>\n",
    "<td>диджитализация бизнес-процессов</td>\n",
    "<td>несёт в себе риски</td>\n",
    "<td>синергетического эффекта</td>\n",
    "<td>волатильных активов.</td>\n",
    "</tr>\n",
    "<tr>\n",
    "<td>Тем не менее,</td>\n",
    "<td>прагматичный подход к цифровым платформам</td>\n",
    "<td>расширяет горизонты</td>\n",
    "<td>компрометации конфиденциальных</td>\n",
    "<td>опасных экспериментов.</td>\n",
    "</tr>\n",
    "<tr>\n",
    "<td>Следовательно,</td>\n",
    "<td>совокупность сквозных технологий</td>\n",
    "<td>заставляет искать варианты</td>\n",
    "<td>универсальной коммодитизации</td>\n",
    "<td>государственно-частных партнёрств.</td>\n",
    "</tr>\n",
    "<tr>\n",
    "<td>Соответственно,</td>\n",
    "<td>программа прорывных исследований</td>\n",
    "<td>не оставляет шанса для</td>\n",
    "<td>несанкционированной кастомизации</td>\n",
    "<td>цифровых следов граждан.</td>\n",
    "</tr>\n",
    "<tr>\n",
    "<td>Вместе с тем,</td>\n",
    "<td>ускорение блокчейн-транзакций</td>\n",
    "<td>повышает вероятность</td>\n",
    "<td>нормативного регулирования</td>\n",
    "<td>нежелательных последствий.</td>\n",
    "</tr>\n",
    "<tr>\n",
    "<td>С другой стороны,</td>\n",
    "<td>экспоненциальный рост Big Data</td>\n",
    "<td>обостряет проблему</td>\n",
    "<td>практического применения</td>\n",
    "<td>внезапных открытий.</td>\n",
    "</tr>\n",
    "</table>\n",
    "\"\"\"\n",
    "\n",
    "soup = BeautifulSoup(table_html, \"html.parser\")\n",
    "rows = soup.find_all(\"tr\")\n",
    "data = []\n",
    "\n",
    "for row in rows[1:]:  # Пропуск заголовка\n",
    "    cells = row.find_all(\"td\")\n",
    "    data.append([cell.get_text(strip=True) for cell in cells])\n",
    "\n",
    "columns = list(zip(*data))\n",
    "columns = [list(col) for col in columns]\n",
    "\n",
    "\n",
    "def generate_sentence(columns, forced_first=None):\n",
    "    if forced_first is not None:\n",
    "        part1 = forced_first\n",
    "    else:\n",
    "        part1 = random.choice(columns[0])\n",
    "    part2 = random.choice(columns[1])\n",
    "    part3 = random.choice(columns[2])\n",
    "    part4 = random.choice(columns[3])\n",
    "    part5 = random.choice(columns[4])\n",
    "    return f\"{part1} {part2} {part3} {part4} {part5}\"\n",
    "\n",
    "\n",
    "def generate_report(columns, paragraphs=3, sentences_per_paragraph=3):\n",
    "    report_paragraphs = []\n",
    "    for p in range(paragraphs):\n",
    "        sentences = []\n",
    "        for s in range(sentences_per_paragraph):\n",
    "            if p == 0 and s == 0:\n",
    "                sentence = generate_sentence(columns)\n",
    "            else:\n",
    "                sentence = generate_sentence(columns)\n",
    "            sentences.append(sentence)\n",
    "        paragraph = \" \".join(sentences)\n",
    "        report_paragraphs.append(paragraph)\n",
    "    return \"\\n\\n\".join(report_paragraphs)\n",
    "\n",
    "report = generate_report(columns)\n",
    "print(report)\n"
   ],
   "id": "c5b8edfb4df857e9",
   "outputs": [
    {
     "name": "stdout",
     "output_type": "stream",
     "text": [
      "Тем не менее, ускорение блокчейн-транзакций выдвигает новые требования дальнейшего углубления нежелательных последствий. С другой стороны, совокупность сквозных технологий несёт в себе риски синергетического эффекта государственно-частных партнёрств. Вместе с тем, экспоненциальный рост Big Data повышает вероятность нормативного регулирования цифровых следов граждан.\n",
      "\n",
      "Вместе с тем, ускорение блокчейн-транзакций несёт в себе риски несанкционированной кастомизации волатильных активов. Тем не менее, программа прорывных исследований расширяет горизонты дальнейшего углубления непроверенных гипотез. Следовательно, контекст цифровой трансформации несёт в себе риски компрометации конфиденциальных нежелательных последствий.\n",
      "\n",
      "С другой стороны, ускорение блокчейн-транзакций повышает вероятность компрометации конфиденциальных непроверенных гипотез. Следовательно, парадигма цифровой экономики расширяет горизонты универсальной коммодитизации внезапных открытий. Вместе с тем, экспоненциальный рост Big Data расширяет горизонты компрометации конфиденциальных внезапных открытий.\n"
     ]
    }
   ],
   "execution_count": 25
  },
  {
   "metadata": {},
   "cell_type": "code",
   "outputs": [],
   "execution_count": null,
   "source": "",
   "id": "577fe102977be894"
  }
 ],
 "metadata": {
  "kernelspec": {
   "display_name": "Python 3",
   "language": "python",
   "name": "python3"
  },
  "language_info": {
   "codemirror_mode": {
    "name": "ipython",
    "version": 2
   },
   "file_extension": ".py",
   "mimetype": "text/x-python",
   "name": "python",
   "nbconvert_exporter": "python",
   "pygments_lexer": "ipython2",
   "version": "2.7.6"
  }
 },
 "nbformat": 4,
 "nbformat_minor": 5
}
