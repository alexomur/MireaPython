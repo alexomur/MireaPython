{
 "cells": [
  {
   "cell_type": "code",
   "id": "initial_id",
   "metadata": {
    "collapsed": true,
    "ExecuteTime": {
     "end_time": "2025-03-18T08:16:54.408811Z",
     "start_time": "2025-03-18T08:16:54.404008Z"
    }
   },
   "source": [
    "from typing import Dict\n",
    "\n",
    "\n",
    "def main(inp: Dict) -> hex:\n",
    "    btotal = 0\n",
    "    z1 = inp[\"z1\"]\n",
    "    z2 = inp[\"z2\"]\n",
    "    z3 = inp[\"z3\"]\n",
    "    #z4 = inp[\"z4\"]\n",
    "    z5 = inp[\"z5\"]\n",
    "    z6 = inp[\"z6\"]\n",
    "    \n",
    "    btotal += int(z1) << 0\n",
    "    btotal += int(z2) << 3\n",
    "    btotal += int(z3) << 9\n",
    "    btotal += int(z5) << 17\n",
    "    btotal += int(z6) << 23\n",
    "    \n",
    "    total = btotal\n",
    "    \n",
    "    return total\n",
    "\n",
    "\n",
    "print(hex(r := main({'z1': '3', 'z2': '2', 'z3': '11', 'z5': '32', 'z6': '525'})))\n",
    "print(bin(r))\n",
    "print(len(bin(r))-2)"
   ],
   "outputs": [
    {
     "name": "stdout",
     "output_type": "stream",
     "text": [
      "0x106c01613\n",
      "0b100000110110000000001011000010011\n",
      "33\n"
     ]
    }
   ],
   "execution_count": 25
  },
  {
   "metadata": {
    "ExecuteTime": {
     "end_time": "2025-03-18T08:22:12.603431Z",
     "start_time": "2025-03-18T08:22:12.597336Z"
    }
   },
   "cell_type": "code",
   "source": [
    "from typing import Tuple\n",
    "\n",
    "def main(v: Tuple[int, ...]) -> int:\n",
    "    v1 = v[0]\n",
    "    v2 = v[1]\n",
    "    v3 = v[2]\n",
    "    v4 = v[3]\n",
    "    v5 = v[4]\n",
    "    v6 = v[5]\n",
    "    \n",
    "    total = 0\n",
    "    total |= v1 << 0\n",
    "    total |= v2 << 9\n",
    "    total |= v3 << 18\n",
    "    total |= v4 << 19\n",
    "    total |= v5 << 23\n",
    "    total |= v6 << 24\n",
    "    \n",
    "    return total\n",
    "\n",
    "print(r := main((376, 159, 1, 0, 1, 21)))\n",
    "print(hex(r))\n",
    "print(bin(r))\n",
    "print(len(bin(r))-2)"
   ],
   "id": "ed36aa8cb699d19e",
   "outputs": [
    {
     "name": "stdout",
     "output_type": "stream",
     "text": [
      "361054072\n",
      "0x15853f78\n",
      "0b10101100001010011111101111000\n",
      "29\n"
     ]
    }
   ],
   "execution_count": 27
  },
  {
   "metadata": {
    "ExecuteTime": {
     "end_time": "2025-03-18T08:42:08.581779Z",
     "start_time": "2025-03-18T08:42:08.576768Z"
    }
   },
   "cell_type": "code",
   "source": [
    "from typing import Tuple, List\n",
    "\n",
    "def main(total_hex: hex) -> List[Tuple[str, str]]:\n",
    "    total = int(total_hex, 16)\n",
    "    print(total)\n",
    "    print(bin(total))   \n",
    "    \n",
    "    R1 = (total & (0b1111 << 0)) >> 0\n",
    "    R2 = (total & (0b111111111 << 4)) >> 4\n",
    "    R3 = (total & (0b111 << 13)) >> 13\n",
    "    R4 = (total & (0b111 << 16)) >> 16\n",
    "    R5 = (total & (0b111111 << 19)) >> 19\n",
    "    \n",
    "    return [('R1', str(R1)), ('R2', str(R2)), ('R3', str(R3)), ('R4', str(R4)), ('R5', str(R5))]\n",
    "\n",
    "\n",
    "print(main(t := '0x6a9f6'))"
   ],
   "id": "2ad48ea0a8300d52",
   "outputs": [
    {
     "name": "stdout",
     "output_type": "stream",
     "text": [
      "436726\n",
      "0b1101010100111110110\n",
      "[('R1', '6'), ('R2', '159'), ('R3', '5'), ('R4', '6'), ('R5', '0')]\n"
     ]
    }
   ],
   "execution_count": 48
  },
  {
   "metadata": {
    "ExecuteTime": {
     "end_time": "2025-03-18T08:45:05.105135Z",
     "start_time": "2025-03-18T08:45:05.096020Z"
    }
   },
   "cell_type": "code",
   "source": [
    "from typing import Tuple, List\n",
    "\n",
    "def main(total_hex: hex) -> List[Tuple[str, int]]:\n",
    "    total = int(total_hex, 16)\n",
    "    print(total)\n",
    "    print(bin(total))   \n",
    "    \n",
    "    N1 = (total & (0b111111 << 0)) >> 0\n",
    "    N2 = (total & (0b111111 << 6)) >> 6\n",
    "    N3 = (total & (0b1111111 << 12)) >> 12\n",
    "    N4 = (total & (0b11 << 19)) >> 19\n",
    "    N5 = (total & (0b111 << 21)) >> 21\n",
    "    \n",
    "    return [('N1', int(N1)), ('N2', int(N2)), ('N3', int(N3)), ('N4', int(N4)), ('N5', int(N5))]\n",
    "\n",
    "\n",
    "print(main(t := '0xb9a562'))"
   ],
   "id": "6a39c3df9c29fb89",
   "outputs": [
    {
     "name": "stdout",
     "output_type": "stream",
     "text": [
      "12166498\n",
      "0b101110011010010101100010\n",
      "[('N1', 34), ('N2', 21), ('N3', 26), ('N4', 3), ('N5', 5)]\n"
     ]
    }
   ],
   "execution_count": 49
  },
  {
   "metadata": {
    "ExecuteTime": {
     "end_time": "2025-03-18T08:53:03.289855Z",
     "start_time": "2025-03-18T08:53:03.284374Z"
    }
   },
   "cell_type": "code",
   "source": [
    "def main(dec_str: str) -> hex:\n",
    "    dec = int(dec_str, 10)\n",
    "    \n",
    "    S1 = (dec & (0b111 << 0)) >> 0\n",
    "    S2 = (dec & (0b1111 << 3)) >> 3\n",
    "    S4 = (dec & (0b1111111111 << 17)) >> 17\n",
    "    S5 = (dec & (0b11111111111 << 27)) >> 27\n",
    "    \n",
    "    hex_total = 0\n",
    "    \n",
    "    hex_total |= S1 << 20\n",
    "    hex_total |= S2 << 33\n",
    "    hex_total |= S4 << 0\n",
    "    hex_total |= S5 << 23\n",
    "    \n",
    "    return hex(hex_total)\n",
    "\n",
    "print(main(\"239948252\"))"
   ],
   "id": "6286e1d6e5e151b",
   "outputs": [
    {
     "name": "stdout",
     "output_type": "stream",
     "text": [
      "0x1600c00326\n"
     ]
    }
   ],
   "execution_count": 50
  },
  {
   "metadata": {
    "ExecuteTime": {
     "end_time": "2025-03-18T08:55:24.449342Z",
     "start_time": "2025-03-18T08:55:24.445251Z"
    }
   },
   "cell_type": "code",
   "source": [
    "def main(dec_str: str) -> hex:\n",
    "    dec = int(dec_str, 10)\n",
    "    \n",
    "    C1 = (dec & (0b1111111 << 0)) >> 0\n",
    "    C2 = (dec & (0b111 << 7)) >> 7\n",
    "    C3 = (dec & (0b111111 << 10)) >> 10\n",
    "    C4 = (dec & (0b1111 << 16)) >> 16\n",
    "    \n",
    "    hex_total = 0\n",
    "    \n",
    "    hex_total |= C1 << 0\n",
    "    hex_total |= C2 << 17\n",
    "    hex_total |= C3 << 7\n",
    "    hex_total |= C4 << 13\n",
    "    \n",
    "    return str(hex_total)\n",
    "\n",
    "print(main(\"743096\"))"
   ],
   "id": "29ebf74fe91f5c34",
   "outputs": [
    {
     "name": "stdout",
     "output_type": "stream",
     "text": [
      "748216\n"
     ]
    }
   ],
   "execution_count": 51
  }
 ],
 "metadata": {
  "kernelspec": {
   "display_name": "Python 3",
   "language": "python",
   "name": "python3"
  },
  "language_info": {
   "codemirror_mode": {
    "name": "ipython",
    "version": 2
   },
   "file_extension": ".py",
   "mimetype": "text/x-python",
   "name": "python",
   "nbconvert_exporter": "python",
   "pygments_lexer": "ipython2",
   "version": "2.7.6"
  }
 },
 "nbformat": 4,
 "nbformat_minor": 5
}
